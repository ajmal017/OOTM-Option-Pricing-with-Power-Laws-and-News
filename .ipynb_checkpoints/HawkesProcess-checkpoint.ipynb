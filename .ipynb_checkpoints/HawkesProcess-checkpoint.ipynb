{
 "cells": [
  {
   "cell_type": "markdown",
   "metadata": {
    "colab_type": "text",
    "id": "view-in-github"
   },
   "source": [
    "# Hawkes Processes for earnings\n",
    "This notebook investigates how earnings reports change the parameters of the Hawkes processes fitting the motion of different Technology stocks. \n",
    "\n",
    "Implementation 1 shows a single-variable Hawkes process with a power law kernel, which works but is not applicable to the dataset.\n",
    "\n",
    "Implementation 2 shows a bivariate Hawkes process (+ and - movements) with an exponential kernel. The code is vectorized and runs fast. It is applicable to the data as it considers the size of the movements (marks) when determining how the event changes the process' intensity.\n",
    "\n",
    "Later, I will add a second kernel explaining changes in the point process due to preplanned corperate news releases, such as earnings.\n",
    "\n",
    "I will use this model to value near-term OOTM options around corperate events via simulation.\n",
    "\n"
   ]
  },
  {
   "cell_type": "code",
   "execution_count": 3,
   "metadata": {
    "pycharm": {
     "name": "#%%\n"
    }
   },
   "outputs": [
    {
     "ename": "ModuleNotFoundError",
     "evalue": "No module named 'requests'",
     "output_type": "error",
     "traceback": [
      "\u001b[0;31m---------------------------------------------------------------------------\u001b[0m",
      "\u001b[0;31mModuleNotFoundError\u001b[0m                       Traceback (most recent call last)",
      "\u001b[0;32m<ipython-input-3-dac53caf895a>\u001b[0m in \u001b[0;36m<module>\u001b[0;34m\u001b[0m\n\u001b[1;32m      3\u001b[0m \u001b[0;32mimport\u001b[0m \u001b[0mmatplotlib\u001b[0m\u001b[0;34m.\u001b[0m\u001b[0mpyplot\u001b[0m \u001b[0;32mas\u001b[0m \u001b[0mplt\u001b[0m\u001b[0;34m\u001b[0m\u001b[0;34m\u001b[0m\u001b[0m\n\u001b[1;32m      4\u001b[0m \u001b[0;32mfrom\u001b[0m \u001b[0mdatetime\u001b[0m \u001b[0;32mimport\u001b[0m \u001b[0mtimezone\u001b[0m\u001b[0;34m,\u001b[0m \u001b[0mdatetime\u001b[0m\u001b[0;34m,\u001b[0m \u001b[0mtimedelta\u001b[0m\u001b[0;34m\u001b[0m\u001b[0;34m\u001b[0m\u001b[0m\n\u001b[0;32m----> 5\u001b[0;31m \u001b[0;32mimport\u001b[0m \u001b[0mrequests\u001b[0m\u001b[0;34m\u001b[0m\u001b[0;34m\u001b[0m\u001b[0m\n\u001b[0m\u001b[1;32m      6\u001b[0m \u001b[0;32mimport\u001b[0m \u001b[0msys\u001b[0m\u001b[0;34m\u001b[0m\u001b[0;34m\u001b[0m\u001b[0m\n\u001b[1;32m      7\u001b[0m \u001b[0;32mfrom\u001b[0m \u001b[0mscipy\u001b[0m\u001b[0;34m.\u001b[0m\u001b[0moptimize\u001b[0m \u001b[0;32mimport\u001b[0m \u001b[0mminimize\u001b[0m\u001b[0;34m,\u001b[0m \u001b[0mSR1\u001b[0m\u001b[0;34m,\u001b[0m \u001b[0mBounds\u001b[0m\u001b[0;34m\u001b[0m\u001b[0;34m\u001b[0m\u001b[0m\n",
      "\u001b[0;31mModuleNotFoundError\u001b[0m: No module named 'requests'"
     ]
    }
   ],
   "source": [
    "import pandas as pd\n",
    "import numpy as np\n",
    "import matplotlib.pyplot as plt\n",
    "from datetime import timezone, datetime, timedelta\n",
    "import requests\n",
    "import sys\n",
    "from scipy.optimize import minimize, SR1, Bounds\n",
    "import finnhub\n",
    "import tick"
   ]
  },
  {
   "cell_type": "markdown",
   "metadata": {
    "colab_type": "text",
    "id": "yPuWspVFpn6p"
   },
   "source": [
    "## Quick look at datasource (FinnHub API)\n",
    "\n",
    "Showing what data is available for the stocks. Skip forward for Hawkes Processes."
   ]
  },
  {
   "cell_type": "code",
   "execution_count": 5,
   "metadata": {
    "colab": {},
    "colab_type": "code",
    "id": "pQSCP3M_yzK2"
   },
   "outputs": [],
   "source": [
    "# my finhub API token\n",
    "token = 'bsoarofrh5re01t4f9a0'\n",
    "finnhub_client = finnhub.Client(api_key=token)"
   ]
  },
  {
   "cell_type": "code",
   "execution_count": null,
   "metadata": {
    "colab": {
     "base_uri": "https://localhost:8080/",
     "height": 228
    },
    "colab_type": "code",
    "id": "NVmvnWzlzHu0",
    "outputId": "786dc2f3-ef9f-447d-9593-8b3aa89163d6"
   },
   "outputs": [
    {
     "data": {
      "text/html": [
       "<div>\n",
       "<style scoped>\n",
       "    .dataframe tbody tr th:only-of-type {\n",
       "        vertical-align: middle;\n",
       "    }\n",
       "\n",
       "    .dataframe tbody tr th {\n",
       "        vertical-align: top;\n",
       "    }\n",
       "\n",
       "    .dataframe thead th {\n",
       "        text-align: right;\n",
       "    }\n",
       "</style>\n",
       "<table border=\"1\" class=\"dataframe\">\n",
       "  <thead>\n",
       "    <tr style=\"text-align: right;\">\n",
       "      <th></th>\n",
       "      <th>metric</th>\n",
       "      <th>metricType</th>\n",
       "      <th>symbol</th>\n",
       "    </tr>\n",
       "  </thead>\n",
       "  <tbody>\n",
       "    <tr>\n",
       "      <th>freeOperatingCashFlow/revenue5Y</th>\n",
       "      <td>19.40911</td>\n",
       "      <td>margin</td>\n",
       "      <td>AAPL</td>\n",
       "    </tr>\n",
       "    <tr>\n",
       "      <th>freeOperatingCashFlow/revenueTTM</th>\n",
       "      <td>21.05369</td>\n",
       "      <td>margin</td>\n",
       "      <td>AAPL</td>\n",
       "    </tr>\n",
       "    <tr>\n",
       "      <th>grossMargin5Y</th>\n",
       "      <td>38.71825</td>\n",
       "      <td>margin</td>\n",
       "      <td>AAPL</td>\n",
       "    </tr>\n",
       "    <tr>\n",
       "      <th>grossMarginAnnual</th>\n",
       "      <td>37.81777</td>\n",
       "      <td>margin</td>\n",
       "      <td>AAPL</td>\n",
       "    </tr>\n",
       "    <tr>\n",
       "      <th>grossMarginTTM</th>\n",
       "      <td>38.18781</td>\n",
       "      <td>margin</td>\n",
       "      <td>AAPL</td>\n",
       "    </tr>\n",
       "  </tbody>\n",
       "</table>\n",
       "</div>"
      ],
      "text/plain": [
       "                                    metric metricType symbol\n",
       "freeOperatingCashFlow/revenue5Y   19.40911     margin   AAPL\n",
       "freeOperatingCashFlow/revenueTTM  21.05369     margin   AAPL\n",
       "grossMargin5Y                     38.71825     margin   AAPL\n",
       "grossMarginAnnual                 37.81777     margin   AAPL\n",
       "grossMarginTTM                    38.18781     margin   AAPL"
      ]
     },
     "execution_count": 8,
     "metadata": {
      "tags": []
     },
     "output_type": "execute_result"
    }
   ],
   "source": [
    "df = pd.DataFrame(finnhub_client.company_basic_financials('AAPL', 'margin'))\n",
    "df.head()"
   ]
  },
  {
   "cell_type": "code",
   "execution_count": null,
   "metadata": {
    "colab": {
     "base_uri": "https://localhost:8080/",
     "height": 304
    },
    "colab_type": "code",
    "id": "oBIWOnID1Yv9",
    "outputId": "a60d49bc-4fb3-40f9-d2f7-5e38af356874"
   },
   "outputs": [
    {
     "data": {
      "text/html": [
       "<div>\n",
       "<style scoped>\n",
       "    .dataframe tbody tr th:only-of-type {\n",
       "        vertical-align: middle;\n",
       "    }\n",
       "\n",
       "    .dataframe tbody tr th {\n",
       "        vertical-align: top;\n",
       "    }\n",
       "\n",
       "    .dataframe thead th {\n",
       "        text-align: right;\n",
       "    }\n",
       "</style>\n",
       "<table border=\"1\" class=\"dataframe\">\n",
       "  <thead>\n",
       "    <tr style=\"text-align: right;\">\n",
       "      <th></th>\n",
       "      <th>age</th>\n",
       "      <th>compensation</th>\n",
       "      <th>currency</th>\n",
       "      <th>name</th>\n",
       "      <th>position</th>\n",
       "      <th>sex</th>\n",
       "      <th>since</th>\n",
       "    </tr>\n",
       "  </thead>\n",
       "  <tbody>\n",
       "    <tr>\n",
       "      <th>0</th>\n",
       "      <td>69.0</td>\n",
       "      <td>557922.0</td>\n",
       "      <td>USD</td>\n",
       "      <td>Dr. Arthur Levinson</td>\n",
       "      <td>Independent Chairman of the Board</td>\n",
       "      <td>male</td>\n",
       "      <td>2011</td>\n",
       "    </tr>\n",
       "    <tr>\n",
       "      <th>1</th>\n",
       "      <td>59.0</td>\n",
       "      <td>11555466.0</td>\n",
       "      <td>USD</td>\n",
       "      <td>Mr. Timothy Cook</td>\n",
       "      <td>Chief Executive Officer, Director</td>\n",
       "      <td>male</td>\n",
       "      <td>2011</td>\n",
       "    </tr>\n",
       "    <tr>\n",
       "      <th>2</th>\n",
       "      <td>56.0</td>\n",
       "      <td>25209637.0</td>\n",
       "      <td>USD</td>\n",
       "      <td>Mr. Luca Maestri</td>\n",
       "      <td>Chief Financial Officer, Senior Vice President</td>\n",
       "      <td>male</td>\n",
       "      <td>2014</td>\n",
       "    </tr>\n",
       "    <tr>\n",
       "      <th>3</th>\n",
       "      <td>56.0</td>\n",
       "      <td>25207919.0</td>\n",
       "      <td>USD</td>\n",
       "      <td>Mr. Jeffrey Williams</td>\n",
       "      <td>Chief Operating Officer</td>\n",
       "      <td>male</td>\n",
       "      <td>2018</td>\n",
       "    </tr>\n",
       "    <tr>\n",
       "      <th>4</th>\n",
       "      <td>55.0</td>\n",
       "      <td>25231800.0</td>\n",
       "      <td>USD</td>\n",
       "      <td>Ms. Katherine Adams</td>\n",
       "      <td>Senior Vice President, General Counsel, Secretary</td>\n",
       "      <td>female</td>\n",
       "      <td>2017</td>\n",
       "    </tr>\n",
       "  </tbody>\n",
       "</table>\n",
       "</div>"
      ],
      "text/plain": [
       "    age  compensation  ...     sex since\n",
       "0  69.0      557922.0  ...    male  2011\n",
       "1  59.0    11555466.0  ...    male  2011\n",
       "2  56.0    25209637.0  ...    male  2014\n",
       "3  56.0    25207919.0  ...    male  2018\n",
       "4  55.0    25231800.0  ...  female  2017\n",
       "\n",
       "[5 rows x 7 columns]"
      ]
     },
     "execution_count": 33,
     "metadata": {
      "tags": []
     },
     "output_type": "execute_result"
    }
   ],
   "source": [
    "d = finnhub_client.company_executive('AAPL')\n",
    "df = pd.DataFrame(d['executive'])\n",
    "df.head()"
   ]
  },
  {
   "cell_type": "code",
   "execution_count": null,
   "metadata": {
    "colab": {
     "base_uri": "https://localhost:8080/",
     "height": 54
    },
    "colab_type": "code",
    "id": "U8Clzqfb1x2D",
    "outputId": "67d57b12-ea13-4490-e869-307f32fd65bd"
   },
   "outputs": [
    {
     "name": "stdout",
     "output_type": "stream",
     "text": [
      "['AAPL', 'DELL', 'HPQ', '1337.HK', 'HPE', 'WDC', 'NTAP', 'PSTG', 'XRX', 'NCR']\n"
     ]
    }
   ],
   "source": [
    "print(finnhub_client.company_peers('AAPL'))"
   ]
  },
  {
   "cell_type": "code",
   "execution_count": null,
   "metadata": {
    "colab": {},
    "colab_type": "code",
    "id": "kfQdXyx48mmY"
   },
   "outputs": [],
   "source": [
    "d = finnhub_client.financials_reported(symbol='AAPL')\n",
    "df = pd.DataFrame(d['data'])"
   ]
  },
  {
   "cell_type": "code",
   "execution_count": null,
   "metadata": {
    "colab": {},
    "colab_type": "code",
    "id": "aNZY6mJRAzJO"
   },
   "outputs": [],
   "source": [
    "finnhub_client.company_profile(symbol='AAPL')"
   ]
  },
  {
   "cell_type": "code",
   "execution_count": null,
   "metadata": {
    "colab": {},
    "colab_type": "code",
    "id": "T3BmYWH6JycE"
   },
   "outputs": [],
   "source": [
    "import time\n",
    "\n",
    "d = finnhub_client.etfs_holdings('SPY')\n",
    "df = pd.DataFrame(d['holdings'])\n",
    "profiles = []\n",
    "for symbol in df['symbol']:\n",
    "  profiles.append(finnhub_client.company_profile(symbol=symbol))\n",
    "  time.sleep(1)\n",
    "  print(\"added:\",symbol)"
   ]
  },
  {
   "cell_type": "code",
   "execution_count": null,
   "metadata": {
    "colab": {},
    "colab_type": "code",
    "id": "OYZNtbn9SxKD"
   },
   "outputs": [],
   "source": [
    "df['gsector'] = [profiles[i]['gsector'] for i in range(len(profiles))]\n",
    "df.head()"
   ]
  },
  {
   "cell_type": "code",
   "execution_count": null,
   "metadata": {
    "colab": {
     "base_uri": "https://localhost:8080/",
     "height": 221
    },
    "colab_type": "code",
    "id": "1RY69i3MTtSo",
    "outputId": "a0796619-7008-49ab-ec80-df2b16db9c59"
   },
   "outputs": [
    {
     "data": {
      "text/html": [
       "<div>\n",
       "<style scoped>\n",
       "    .dataframe tbody tr th:only-of-type {\n",
       "        vertical-align: middle;\n",
       "    }\n",
       "\n",
       "    .dataframe tbody tr th {\n",
       "        vertical-align: top;\n",
       "    }\n",
       "\n",
       "    .dataframe thead th {\n",
       "        text-align: right;\n",
       "    }\n",
       "</style>\n",
       "<table border=\"1\" class=\"dataframe\">\n",
       "  <thead>\n",
       "    <tr style=\"text-align: right;\">\n",
       "      <th></th>\n",
       "      <th>percent</th>\n",
       "      <th>share</th>\n",
       "      <th>symbol</th>\n",
       "      <th>profiles</th>\n",
       "    </tr>\n",
       "  </thead>\n",
       "  <tbody>\n",
       "    <tr>\n",
       "      <th>0</th>\n",
       "      <td>5.918711</td>\n",
       "      <td>43766308</td>\n",
       "      <td>AAPL</td>\n",
       "      <td>{'address': '1 Apple Park Way', 'city': 'Cuper...</td>\n",
       "    </tr>\n",
       "    <tr>\n",
       "      <th>1</th>\n",
       "      <td>5.815551</td>\n",
       "      <td>81420240</td>\n",
       "      <td>MSFT</td>\n",
       "      <td>{'address': '1 Microsoft Way', 'city': 'Redmon...</td>\n",
       "    </tr>\n",
       "    <tr>\n",
       "      <th>2</th>\n",
       "      <td>4.730508</td>\n",
       "      <td>4501968</td>\n",
       "      <td>AMZN</td>\n",
       "      <td>{'address': '410 Terry Ave N', 'city': 'Seattl...</td>\n",
       "    </tr>\n",
       "    <tr>\n",
       "      <th>3</th>\n",
       "      <td>2.180427</td>\n",
       "      <td>25837586</td>\n",
       "      <td>FB</td>\n",
       "      <td>{'address': '1601 Willow Rd', 'city': 'Menlo P...</td>\n",
       "    </tr>\n",
       "    <tr>\n",
       "      <th>4</th>\n",
       "      <td>1.710792</td>\n",
       "      <td>3224102</td>\n",
       "      <td>GOOGL</td>\n",
       "      <td>{'address': '1600 Amphitheatre Pkwy', 'city': ...</td>\n",
       "    </tr>\n",
       "  </tbody>\n",
       "</table>\n",
       "</div>"
      ],
      "text/plain": [
       "    percent     share symbol                                           profiles\n",
       "0  5.918711  43766308   AAPL  {'address': '1 Apple Park Way', 'city': 'Cuper...\n",
       "1  5.815551  81420240   MSFT  {'address': '1 Microsoft Way', 'city': 'Redmon...\n",
       "2  4.730508   4501968   AMZN  {'address': '410 Terry Ave N', 'city': 'Seattl...\n",
       "3  2.180427  25837586     FB  {'address': '1601 Willow Rd', 'city': 'Menlo P...\n",
       "4  1.710792   3224102  GOOGL  {'address': '1600 Amphitheatre Pkwy', 'city': ..."
      ]
     },
     "execution_count": 124,
     "metadata": {
      "tags": []
     },
     "output_type": "execute_result"
    }
   ],
   "source": [
    "df['profiles'] = profiles\n",
    "df.head()"
   ]
  },
  {
   "cell_type": "code",
   "execution_count": null,
   "metadata": {
    "colab": {},
    "colab_type": "code",
    "id": "SiT2Nnk9t8eI"
   },
   "outputs": [],
   "source": [
    "# get data for S&P companies\n",
    "d = finnhub_client.etfs_holdings('SPY')\n",
    "df = pd.DataFrame(d['holdings'])\n",
    "df2 = pd.DataFrame()\n",
    "for i in range(len(profiles)):\n",
    "  df2 = df2.append(pd.DataFrame(list([profiles[i].values()]), columns=list(profiles[i].keys())))\n",
    "df2['symbol'] = df2['ticker']\n",
    "df2 = df2.drop('ticker', axis=1)\n",
    "df3 = df.merge(df2, on='symbol')"
   ]
  },
  {
   "cell_type": "code",
   "execution_count": null,
   "metadata": {
    "colab": {},
    "colab_type": "code",
    "id": "RVDwpRblvlrH"
   },
   "outputs": [],
   "source": [
    "#df3.to_csv('./SP500_info.csv')"
   ]
  },
  {
   "cell_type": "code",
   "execution_count": null,
   "metadata": {
    "colab": {
     "base_uri": "https://localhost:8080/",
     "height": 562
    },
    "colab_type": "code",
    "id": "DqJKfbaD5aux",
    "outputId": "ee51b5bc-f848-470a-e8c6-2ae295e380d8"
   },
   "outputs": [
    {
     "data": {
      "text/html": [
       "<div>\n",
       "<style scoped>\n",
       "    .dataframe tbody tr th:only-of-type {\n",
       "        vertical-align: middle;\n",
       "    }\n",
       "\n",
       "    .dataframe tbody tr th {\n",
       "        vertical-align: top;\n",
       "    }\n",
       "\n",
       "    .dataframe thead th {\n",
       "        text-align: right;\n",
       "    }\n",
       "</style>\n",
       "<table border=\"1\" class=\"dataframe\">\n",
       "  <thead>\n",
       "    <tr style=\"text-align: right;\">\n",
       "      <th></th>\n",
       "      <th>Unnamed: 0</th>\n",
       "      <th>percent</th>\n",
       "      <th>share</th>\n",
       "      <th>symbol</th>\n",
       "      <th>address</th>\n",
       "      <th>city</th>\n",
       "      <th>country</th>\n",
       "      <th>currency</th>\n",
       "      <th>cusip</th>\n",
       "      <th>description</th>\n",
       "      <th>employeeTotal</th>\n",
       "      <th>exchange</th>\n",
       "      <th>finnhubIndustry</th>\n",
       "      <th>ggroup</th>\n",
       "      <th>gind</th>\n",
       "      <th>gsector</th>\n",
       "      <th>gsubind</th>\n",
       "      <th>ipo</th>\n",
       "      <th>isin</th>\n",
       "      <th>logo</th>\n",
       "      <th>marketCapitalization</th>\n",
       "      <th>naics</th>\n",
       "      <th>naicsNationalIndustry</th>\n",
       "      <th>naicsSector</th>\n",
       "      <th>naicsSubsector</th>\n",
       "      <th>name</th>\n",
       "      <th>phone</th>\n",
       "      <th>sedol</th>\n",
       "      <th>shareOutstanding</th>\n",
       "      <th>state</th>\n",
       "      <th>weburl</th>\n",
       "    </tr>\n",
       "  </thead>\n",
       "  <tbody>\n",
       "    <tr>\n",
       "      <th>0</th>\n",
       "      <td>0</td>\n",
       "      <td>5.918711</td>\n",
       "      <td>43766308</td>\n",
       "      <td>AAPL</td>\n",
       "      <td>1 Apple Park Way</td>\n",
       "      <td>Cupertino</td>\n",
       "      <td>US</td>\n",
       "      <td>USD</td>\n",
       "      <td>037833100</td>\n",
       "      <td>Apple, Inc. engages in the design, manufacture...</td>\n",
       "      <td>137000.0</td>\n",
       "      <td>NASDAQ NMS - GLOBAL MARKET</td>\n",
       "      <td>Technology</td>\n",
       "      <td>Technology Hardware &amp; Equipment</td>\n",
       "      <td>Technology Hardware, Storage &amp; Peripherals</td>\n",
       "      <td>Information Technology</td>\n",
       "      <td>Technology Hardware, Storage &amp; Peripherals</td>\n",
       "      <td>1980-12-12</td>\n",
       "      <td>US0378331005</td>\n",
       "      <td>https://static.finnhub.io/logo/87cb30d8-80df-1...</td>\n",
       "      <td>1900306.0</td>\n",
       "      <td>Communications Equipment Manufacturing</td>\n",
       "      <td>Radio and Television Broadcasting and Wireless...</td>\n",
       "      <td>Manufacturing</td>\n",
       "      <td>Computer and Electronic Product Manufacturing</td>\n",
       "      <td>Apple Inc</td>\n",
       "      <td>1.408996e+10</td>\n",
       "      <td>2046251</td>\n",
       "      <td>4275.634000</td>\n",
       "      <td>CALIFORNIA</td>\n",
       "      <td>https://www.apple.com/</td>\n",
       "    </tr>\n",
       "    <tr>\n",
       "      <th>1</th>\n",
       "      <td>1</td>\n",
       "      <td>5.815551</td>\n",
       "      <td>81420240</td>\n",
       "      <td>MSFT</td>\n",
       "      <td>1 Microsoft Way</td>\n",
       "      <td>Redmond</td>\n",
       "      <td>US</td>\n",
       "      <td>USD</td>\n",
       "      <td>594918104</td>\n",
       "      <td>Microsoft Corp. engages in the development and...</td>\n",
       "      <td>144000.0</td>\n",
       "      <td>NASDAQ NMS - GLOBAL MARKET</td>\n",
       "      <td>Technology</td>\n",
       "      <td>Software &amp; Services</td>\n",
       "      <td>Software</td>\n",
       "      <td>Information Technology</td>\n",
       "      <td>Systems Software</td>\n",
       "      <td>1986-03-13</td>\n",
       "      <td>US5949181045</td>\n",
       "      <td>NaN</td>\n",
       "      <td>1637262.0</td>\n",
       "      <td>Software Publishers</td>\n",
       "      <td>Software Publishers</td>\n",
       "      <td>Information</td>\n",
       "      <td>Publishing Industries (except Internet)</td>\n",
       "      <td>Microsoft Corp</td>\n",
       "      <td>1.425883e+10</td>\n",
       "      <td>2588173</td>\n",
       "      <td>7567.652935</td>\n",
       "      <td>WASHINGTON</td>\n",
       "      <td>https://www.microsoft.com/en-us</td>\n",
       "    </tr>\n",
       "    <tr>\n",
       "      <th>6</th>\n",
       "      <td>6</td>\n",
       "      <td>1.228678</td>\n",
       "      <td>18128360</td>\n",
       "      <td>V</td>\n",
       "      <td>PO Box 8999</td>\n",
       "      <td>San Francisco</td>\n",
       "      <td>US</td>\n",
       "      <td>USD</td>\n",
       "      <td>92826C839</td>\n",
       "      <td>Visa, Inc. engages in the provision of digital...</td>\n",
       "      <td>19500.0</td>\n",
       "      <td>NEW YORK STOCK EXCHANGE, INC.</td>\n",
       "      <td>Technology</td>\n",
       "      <td>Software &amp; Services</td>\n",
       "      <td>IT Services</td>\n",
       "      <td>Information Technology</td>\n",
       "      <td>Data Processing &amp; Outsourced Services</td>\n",
       "      <td>2008-03-19</td>\n",
       "      <td>US92826C8394</td>\n",
       "      <td>https://static.finnhub.io/logo/96a1dba6-80ec-1...</td>\n",
       "      <td>417827.6</td>\n",
       "      <td>Activities Related to Credit Intermediation</td>\n",
       "      <td>Financial Transactions Processing, Reserve, an...</td>\n",
       "      <td>Finance and Insurance</td>\n",
       "      <td>Credit Intermediation and Related Activities</td>\n",
       "      <td>Visa Inc</td>\n",
       "      <td>1.650432e+10</td>\n",
       "      <td>B2PZN04</td>\n",
       "      <td>2129.583923</td>\n",
       "      <td>CALIFORNIA</td>\n",
       "      <td>https://usa.visa.com/</td>\n",
       "    </tr>\n",
       "    <tr>\n",
       "      <th>11</th>\n",
       "      <td>11</td>\n",
       "      <td>0.994138</td>\n",
       "      <td>9481316</td>\n",
       "      <td>MA</td>\n",
       "      <td>2000 Purchase St</td>\n",
       "      <td>Purchase</td>\n",
       "      <td>US</td>\n",
       "      <td>USD</td>\n",
       "      <td>57636Q104</td>\n",
       "      <td>Mastercard, Inc. operates as a technology comp...</td>\n",
       "      <td>18600.0</td>\n",
       "      <td>NEW YORK STOCK EXCHANGE, INC.</td>\n",
       "      <td>Technology</td>\n",
       "      <td>Software &amp; Services</td>\n",
       "      <td>IT Services</td>\n",
       "      <td>Information Technology</td>\n",
       "      <td>Data Processing &amp; Outsourced Services</td>\n",
       "      <td>2006-05-25</td>\n",
       "      <td>US57636Q1040</td>\n",
       "      <td>NaN</td>\n",
       "      <td>330490.3</td>\n",
       "      <td>Activities Related to Credit Intermediation</td>\n",
       "      <td>Financial Transactions Processing, Reserve, an...</td>\n",
       "      <td>Finance and Insurance</td>\n",
       "      <td>Credit Intermediation and Related Activities</td>\n",
       "      <td>Mastercard Inc</td>\n",
       "      <td>1.914249e+10</td>\n",
       "      <td>B121557</td>\n",
       "      <td>1001.060877</td>\n",
       "      <td>NEW YORK</td>\n",
       "      <td>https://investor.mastercard.com/investor-relat...</td>\n",
       "    </tr>\n",
       "    <tr>\n",
       "      <th>18</th>\n",
       "      <td>18</td>\n",
       "      <td>0.771999</td>\n",
       "      <td>5170264</td>\n",
       "      <td>ADBE</td>\n",
       "      <td>345 PARK AVE</td>\n",
       "      <td>San Jose</td>\n",
       "      <td>US</td>\n",
       "      <td>USD</td>\n",
       "      <td>00724F101</td>\n",
       "      <td>Adobe, Inc. engages in the provision of digita...</td>\n",
       "      <td>22634.0</td>\n",
       "      <td>NASDAQ NMS - GLOBAL MARKET</td>\n",
       "      <td>Technology</td>\n",
       "      <td>Software &amp; Services</td>\n",
       "      <td>Software</td>\n",
       "      <td>Information Technology</td>\n",
       "      <td>Application Software</td>\n",
       "      <td>1986-01-08</td>\n",
       "      <td>US00724F1012</td>\n",
       "      <td>https://static.finnhub.io/logo/9b4b19c2-80df-1...</td>\n",
       "      <td>215643.1</td>\n",
       "      <td>Software Publishers</td>\n",
       "      <td>Software Publishers</td>\n",
       "      <td>Information</td>\n",
       "      <td>Publishing Industries (except Internet)</td>\n",
       "      <td>Adobe Inc</td>\n",
       "      <td>1.408537e+10</td>\n",
       "      <td>2008154</td>\n",
       "      <td>479.665239</td>\n",
       "      <td>CALIFORNIA</td>\n",
       "      <td>https://www.adobe.com/</td>\n",
       "    </tr>\n",
       "  </tbody>\n",
       "</table>\n",
       "</div>"
      ],
      "text/plain": [
       "    Unnamed: 0  ...                                             weburl\n",
       "0            0  ...                             https://www.apple.com/\n",
       "1            1  ...                    https://www.microsoft.com/en-us\n",
       "6            6  ...                              https://usa.visa.com/\n",
       "11          11  ...  https://investor.mastercard.com/investor-relat...\n",
       "18          18  ...                             https://www.adobe.com/\n",
       "\n",
       "[5 rows x 31 columns]"
      ]
     },
     "execution_count": 6,
     "metadata": {
      "tags": []
     },
     "output_type": "execute_result"
    }
   ],
   "source": [
    "tech.head()"
   ]
  },
  {
   "cell_type": "markdown",
   "metadata": {
    "colab_type": "text",
    "id": "NdPs_KRyALTA"
   },
   "source": [
    "## Hawkes Processes\n",
    "\n",
    "In the following section, I fit constraints on a Hawkes process using a quasi-Newton optimization.\n",
    "\n",
    "To confirm that the determined parameters fit the dataset, I will use parametric bootstrapping. \n"
   ]
  },
  {
   "cell_type": "markdown",
   "metadata": {
    "colab_type": "text",
    "id": "vzK26jbWu8Yj"
   },
   "source": [
    "I approximate a power law as the sum of exponential functions with power-law weights, to use a recurrence relation that reduces the log-likelihood calculation from $O(N^2)$ to $O(N)$.\n",
    "\n",
    "$\\phi_{PL} (\\tau | n, \\epsilon, \\tau _0) = \\frac{n}{Z} \\left( \\Sigma _{i=0}^{M-1} \\left( \\frac{1}{\\xi _i} \\right) ^{1 + \\epsilon} e^{-\\tau / \\xi_i} - S e ^{- \\tau / \\xi_{-1}} \\right)$\n",
    "\n",
    "for $\\xi_i = \\tau_0 m^i$ where $-1 \\le i \\lt M$\n",
    "\n",
    "Parameter Z makes sure $\\int_0^\\infty \\phi_{PL} (\\tau) d\\tau = n$ and $S$ makes sure that $\\phi_{PL} (0) = 0$, as market participants can only react to events after more than 0 seconds."
   ]
  },
  {
   "cell_type": "code",
   "execution_count": null,
   "metadata": {
    "colab": {
     "base_uri": "https://localhost:8080/",
     "height": 228
    },
    "colab_type": "code",
    "id": "-oKde2rmBx7L",
    "outputId": "bf73ac8e-de3f-4bc3-b7e8-75cb1c52d96c"
   },
   "outputs": [
    {
     "data": {
      "text/html": [
       "<div>\n",
       "<style scoped>\n",
       "    .dataframe tbody tr th:only-of-type {\n",
       "        vertical-align: middle;\n",
       "    }\n",
       "\n",
       "    .dataframe tbody tr th {\n",
       "        vertical-align: top;\n",
       "    }\n",
       "\n",
       "    .dataframe thead th {\n",
       "        text-align: right;\n",
       "    }\n",
       "</style>\n",
       "<table border=\"1\" class=\"dataframe\">\n",
       "  <thead>\n",
       "    <tr style=\"text-align: right;\">\n",
       "      <th></th>\n",
       "      <th>c</th>\n",
       "      <th>h</th>\n",
       "      <th>l</th>\n",
       "      <th>o</th>\n",
       "      <th>s</th>\n",
       "      <th>t</th>\n",
       "      <th>v</th>\n",
       "    </tr>\n",
       "  </thead>\n",
       "  <tbody>\n",
       "    <tr>\n",
       "      <th>0</th>\n",
       "      <td>323.83</td>\n",
       "      <td>323.87</td>\n",
       "      <td>323.76</td>\n",
       "      <td>323.78</td>\n",
       "      <td>ok</td>\n",
       "      <td>1582128300</td>\n",
       "      <td>10709</td>\n",
       "    </tr>\n",
       "    <tr>\n",
       "      <th>1</th>\n",
       "      <td>323.95</td>\n",
       "      <td>324.00</td>\n",
       "      <td>323.85</td>\n",
       "      <td>323.85</td>\n",
       "      <td>ok</td>\n",
       "      <td>1582128360</td>\n",
       "      <td>53238</td>\n",
       "    </tr>\n",
       "    <tr>\n",
       "      <th>2</th>\n",
       "      <td>323.95</td>\n",
       "      <td>324.06</td>\n",
       "      <td>323.90</td>\n",
       "      <td>323.94</td>\n",
       "      <td>ok</td>\n",
       "      <td>1582128420</td>\n",
       "      <td>22631</td>\n",
       "    </tr>\n",
       "    <tr>\n",
       "      <th>3</th>\n",
       "      <td>324.09</td>\n",
       "      <td>324.09</td>\n",
       "      <td>323.88</td>\n",
       "      <td>323.97</td>\n",
       "      <td>ok</td>\n",
       "      <td>1582128480</td>\n",
       "      <td>38680</td>\n",
       "    </tr>\n",
       "    <tr>\n",
       "      <th>4</th>\n",
       "      <td>324.18</td>\n",
       "      <td>324.19</td>\n",
       "      <td>324.08</td>\n",
       "      <td>324.08</td>\n",
       "      <td>ok</td>\n",
       "      <td>1582128540</td>\n",
       "      <td>25352</td>\n",
       "    </tr>\n",
       "  </tbody>\n",
       "</table>\n",
       "</div>"
      ],
      "text/plain": [
       "        c       h       l       o   s           t      v\n",
       "0  323.83  323.87  323.76  323.78  ok  1582128300  10709\n",
       "1  323.95  324.00  323.85  323.85  ok  1582128360  53238\n",
       "2  323.95  324.06  323.90  323.94  ok  1582128420  22631\n",
       "3  324.09  324.09  323.88  323.97  ok  1582128480  38680\n",
       "4  324.18  324.19  324.08  324.08  ok  1582128540  25352"
      ]
     },
     "execution_count": 9,
     "metadata": {
      "tags": []
     },
     "output_type": "execute_result"
    }
   ],
   "source": [
    "d = get_stock_data('AAPL')\n",
    "d.head()"
   ]
  },
  {
   "cell_type": "code",
   "execution_count": null,
   "metadata": {
    "colab": {
     "base_uri": "https://localhost:8080/",
     "height": 54
    },
    "colab_type": "code",
    "id": "KHm-f0CQFQV7",
    "outputId": "bace2d9f-ebeb-4c12-c385-de29b41c3bf7"
   },
   "outputs": [
    {
     "data": {
      "text/plain": [
       "datetime.datetime"
      ]
     },
     "execution_count": 79,
     "metadata": {
      "tags": []
     },
     "output_type": "execute_result"
    }
   ],
   "source": [
    "type(datetime(2020, 1, 1))\n",
    "#d.replace(tzinfo=timezone.utc).timestamp()"
   ]
  },
  {
   "cell_type": "code",
   "execution_count": null,
   "metadata": {
    "colab": {},
    "colab_type": "code",
    "id": "O86MnQICoIGN"
   },
   "outputs": [],
   "source": [
    "resol = 5\n",
    "start = datetime(2020, 1, 1).replace(tzinfo=timezone.utc).timestamp()\n",
    "end = datetime(2020, 7, 1).replace(tzinfo=timezone.utc).timestamp()\n",
    "\n",
    "def get_stock_data(ticker, start = start, end = end, resolution = resol):\n",
    "  \"\"\" for stock symbol, get data\n",
    "  @param ticker (str): ticker symbol\n",
    "  @param start: start date as unix timestamp or datetime\n",
    "  @param end: end date as unix timestamp or datetime\n",
    "  @param resolution (int): time resolution of data\n",
    "  @returns: Pandas DataFrame of stock data\n",
    "  \"\"\"\n",
    "  # convert to unix time stamp\n",
    "  if start is datetime:\n",
    "    start = start.replace(tzinfo=timezone.utc).timestamp()\n",
    "  if end is datetime:\n",
    "    end = end.replace(tzinfo=timezone.utc).timestamp()\n",
    "  \n",
    "  # Stock candles\n",
    "  res = finnhub_client.stock_candles(ticker, resolution, start, end)\n",
    "  try: return pd.DataFrame(res)\n",
    "  except: return pd.DataFrame()\n",
    "\n",
    "def get_df(df, resolution = resol):\n",
    "  \"\"\" Cleans data from API into form interpretable for Hawkes Process\n",
    "  @param df: output from get_stock_data() function\n",
    "  @returns: pd DataFrame ready for analysis\n",
    "  \"\"\"\n",
    "  df = df.drop(columns=['c','h','l'])\n",
    "  df['diff'] = np.log(df['o']/df['o'].shift(1))\n",
    "  df['date'] = df['t'].apply(lambda x: datetime.fromtimestamp(x))\n",
    "  df['date'] = df['date'].apply(lambda x: x - timedelta(seconds = np.random.uniform(0,resolution*60)))\n",
    "  df['dt'] = df['date'] - df['date'].shift(1)\n",
    "  df['dt'] = df['dt'].apply(lambda x: x.total_seconds() / 100)\n",
    "\n",
    "  # check that data import was mostly valid\n",
    "  len_before = df.shape[0]\n",
    "  df = df.drop(df.loc[df['s'] != 'ok'].index, axis = 0)\n",
    "  if ( ((len_before - df.shape[0])/len_before) > .1 ):\n",
    "    raise ValueError(\"Over 10% of dataframe returned NA\")\n",
    "  df = df.drop(columns = ['s','t','o'])\n",
    "  df = df.reset_index(drop=True)\n",
    "\n",
    "  # remove changes between days (will model those differently)\n",
    "  df = df.drop(df.loc[df['dt'] > 100].index, axis=0).iloc[1:]\n",
    "  df = df.reset_index(drop=True)\n",
    "\n",
    "  # get only top 20% of movements\n",
    "  q1 = df['diff'].quantile(q=.1)\n",
    "  q2 = df['diff'].quantile(q=.9)\n",
    "\n",
    "  # create mask for top 20% movement\n",
    "  df['event'] = 0\n",
    "  df.loc[(df['diff'] < q1) | (df['diff'] > q2), 'event'] = 1\n",
    "\n",
    "  # get time elapsed\n",
    "  df['time_elapsed'] = 0\n",
    "  prev = 0\n",
    "  for i in range(1,df.shape[0]):\n",
    "    prev += df.loc[i, 'dt']\n",
    "    df.loc[i, 'time_elapsed'] = prev\n",
    "  \n",
    "  # mark positive movements\n",
    "  df['pos'] = 0\n",
    "  df.loc[df['diff'] > 0, 'pos'] = 1\n",
    "  df['diff'] = np.abs(df['diff'])\n",
    "\n",
    "  return df"
   ]
  },
  {
   "cell_type": "code",
   "execution_count": null,
   "metadata": {
    "colab": {},
    "colab_type": "code",
    "id": "tgPq-zHGsO6Z"
   },
   "outputs": [],
   "source": [
    "# SP500 tech companies"
   ]
  },
  {
   "cell_type": "code",
   "execution_count": null,
   "metadata": {
    "colab": {},
    "colab_type": "code",
    "id": "EDFInQyKrGgE"
   },
   "outputs": [],
   "source": [
    "# get 10 days before earnings and 5 days after\n",
    "# get earnings\n",
    "df_earnings = pd.DataFrame(finnhub_client.company_earnings('AAPL'))"
   ]
  },
  {
   "cell_type": "code",
   "execution_count": null,
   "metadata": {
    "colab": {},
    "colab_type": "code",
    "id": "VRe6zxWGr_wF"
   },
   "outputs": [],
   "source": [
    "sp500 = pd.read_csv('./SP500_info.csv')\n",
    "tech = sp500.loc[sp500['finnhubIndustry'] == 'Technology']"
   ]
  },
  {
   "cell_type": "code",
   "execution_count": null,
   "metadata": {
    "colab": {},
    "colab_type": "code",
    "id": "vQVXYOLp5njT"
   },
   "outputs": [],
   "source": [
    "# get earnings dates for all tech stocks in S&P\n",
    "earnings = []\n",
    "for i in range(len(tech)):\n",
    "  ticker = tech['symbol'].iloc[i]\n",
    "  earnings.append(pd.DataFrame(finnhub_client.earnings_calendar(symbol=ticker)['earningsCalendar']))\n",
    "earnings = pd.concat(earnings)\n",
    "earnings = earnings.reset_index(drop=True)"
   ]
  },
  {
   "cell_type": "code",
   "execution_count": null,
   "metadata": {
    "colab": {
     "base_uri": "https://localhost:8080/",
     "height": 221
    },
    "colab_type": "code",
    "id": "DxmVU1zVfJ1v",
    "outputId": "4600808f-ab03-4bc0-e2b2-f0b1b044eec2"
   },
   "outputs": [
    {
     "data": {
      "text/html": [
       "<div>\n",
       "<style scoped>\n",
       "    .dataframe tbody tr th:only-of-type {\n",
       "        vertical-align: middle;\n",
       "    }\n",
       "\n",
       "    .dataframe tbody tr th {\n",
       "        vertical-align: top;\n",
       "    }\n",
       "\n",
       "    .dataframe thead th {\n",
       "        text-align: right;\n",
       "    }\n",
       "</style>\n",
       "<table border=\"1\" class=\"dataframe\">\n",
       "  <thead>\n",
       "    <tr style=\"text-align: right;\">\n",
       "      <th></th>\n",
       "      <th>date</th>\n",
       "      <th>epsActual</th>\n",
       "      <th>epsEstimate</th>\n",
       "      <th>hour</th>\n",
       "      <th>quarter</th>\n",
       "      <th>revenueActual</th>\n",
       "      <th>revenueEstimate</th>\n",
       "      <th>symbol</th>\n",
       "      <th>year</th>\n",
       "    </tr>\n",
       "  </thead>\n",
       "  <tbody>\n",
       "    <tr>\n",
       "      <th>0</th>\n",
       "      <td>2020-07-30</td>\n",
       "      <td>2.58</td>\n",
       "      <td>2.066653</td>\n",
       "      <td>amc</td>\n",
       "      <td>3</td>\n",
       "      <td>59685000000</td>\n",
       "      <td>53033749999</td>\n",
       "      <td>AAPL</td>\n",
       "      <td>2020</td>\n",
       "    </tr>\n",
       "    <tr>\n",
       "      <th>1</th>\n",
       "      <td>2020-04-30</td>\n",
       "      <td>2.55</td>\n",
       "      <td>2.306322</td>\n",
       "      <td>amc</td>\n",
       "      <td>2</td>\n",
       "      <td>58313000000</td>\n",
       "      <td>55358099999</td>\n",
       "      <td>AAPL</td>\n",
       "      <td>2020</td>\n",
       "    </tr>\n",
       "    <tr>\n",
       "      <th>2</th>\n",
       "      <td>2020-01-28</td>\n",
       "      <td>4.99</td>\n",
       "      <td>5.349859</td>\n",
       "      <td>amc</td>\n",
       "      <td>1</td>\n",
       "      <td>91819000000</td>\n",
       "      <td>89756449999</td>\n",
       "      <td>AAPL</td>\n",
       "      <td>2020</td>\n",
       "    </tr>\n",
       "    <tr>\n",
       "      <th>3</th>\n",
       "      <td>2019-10-30</td>\n",
       "      <td>3.03</td>\n",
       "      <td>2.896127</td>\n",
       "      <td>amc</td>\n",
       "      <td>4</td>\n",
       "      <td>64040000000</td>\n",
       "      <td>63929939186</td>\n",
       "      <td>AAPL</td>\n",
       "      <td>2019</td>\n",
       "    </tr>\n",
       "    <tr>\n",
       "      <th>4</th>\n",
       "      <td>2020-07-22</td>\n",
       "      <td>1.46</td>\n",
       "      <td>1.369758</td>\n",
       "      <td>amc</td>\n",
       "      <td>4</td>\n",
       "      <td>38033000000</td>\n",
       "      <td>37047500000</td>\n",
       "      <td>MSFT</td>\n",
       "      <td>2020</td>\n",
       "    </tr>\n",
       "  </tbody>\n",
       "</table>\n",
       "</div>"
      ],
      "text/plain": [
       "         date  epsActual  epsEstimate  ... revenueEstimate  symbol  year\n",
       "0  2020-07-30       2.58     2.066653  ...     53033749999    AAPL  2020\n",
       "1  2020-04-30       2.55     2.306322  ...     55358099999    AAPL  2020\n",
       "2  2020-01-28       4.99     5.349859  ...     89756449999    AAPL  2020\n",
       "3  2019-10-30       3.03     2.896127  ...     63929939186    AAPL  2019\n",
       "4  2020-07-22       1.46     1.369758  ...     37047500000    MSFT  2020\n",
       "\n",
       "[5 rows x 9 columns]"
      ]
     },
     "execution_count": 8,
     "metadata": {
      "tags": []
     },
     "output_type": "execute_result"
    }
   ],
   "source": [
    "earnings.head()"
   ]
  },
  {
   "cell_type": "code",
   "execution_count": null,
   "metadata": {
    "colab": {},
    "colab_type": "code",
    "id": "m19qXtAFfOq1"
   },
   "outputs": [],
   "source": [
    "earnings.to_csv('./tech_earnings.csv')"
   ]
  },
  {
   "cell_type": "code",
   "execution_count": null,
   "metadata": {
    "colab": {},
    "colab_type": "code",
    "id": "EV_LRpXMzSy9"
   },
   "outputs": [],
   "source": [
    "# calculate ten days prior for string\n",
    "from pandas.tseries.offsets import BDay # for business days\n",
    "\n",
    "def ten_prior(d):\n",
    "  return (d - BDay(10)).to_pydatetime()\n",
    "\n",
    "def this_friday(d):\n",
    "  ## CHECK THAT THIS INCLUDES FRIDAY TRADING IN DATA\n",
    "  return d + timedelta( (5-d.weekday()) % 7 )"
   ]
  },
  {
   "cell_type": "code",
   "execution_count": null,
   "metadata": {
    "colab": {},
    "colab_type": "code",
    "id": "ggzVdcXKy7i6"
   },
   "outputs": [],
   "source": [
    "earnings['date'] = earnings['date'].apply(lambda s: datetime.strptime(s, '%Y-%m-%d'))\n",
    "earnings['ten_prior'] = earnings['date'].apply(lambda d: ten_prior(d))\n",
    "earnings['this_friday'] = earnings['date'].apply(lambda d: this_friday(d))\n",
    "earnings['performance'] = (earnings['epsActual'] - earnings['epsEstimate']) / earnings['epsEstimate']"
   ]
  },
  {
   "cell_type": "code",
   "execution_count": null,
   "metadata": {
    "colab": {
     "base_uri": "https://localhost:8080/",
     "height": 221
    },
    "colab_type": "code",
    "id": "aFDsxlsjHV09",
    "outputId": "5ddaf651-aaff-43aa-929e-9c280bbf30c3"
   },
   "outputs": [
    {
     "data": {
      "text/html": [
       "<div>\n",
       "<style scoped>\n",
       "    .dataframe tbody tr th:only-of-type {\n",
       "        vertical-align: middle;\n",
       "    }\n",
       "\n",
       "    .dataframe tbody tr th {\n",
       "        vertical-align: top;\n",
       "    }\n",
       "\n",
       "    .dataframe thead th {\n",
       "        text-align: right;\n",
       "    }\n",
       "</style>\n",
       "<table border=\"1\" class=\"dataframe\">\n",
       "  <thead>\n",
       "    <tr style=\"text-align: right;\">\n",
       "      <th></th>\n",
       "      <th>date</th>\n",
       "      <th>epsActual</th>\n",
       "      <th>epsEstimate</th>\n",
       "      <th>hour</th>\n",
       "      <th>quarter</th>\n",
       "      <th>revenueActual</th>\n",
       "      <th>revenueEstimate</th>\n",
       "      <th>symbol</th>\n",
       "      <th>year</th>\n",
       "      <th>ten_prior</th>\n",
       "      <th>this_friday</th>\n",
       "      <th>performance</th>\n",
       "    </tr>\n",
       "  </thead>\n",
       "  <tbody>\n",
       "    <tr>\n",
       "      <th>0</th>\n",
       "      <td>2020-07-30</td>\n",
       "      <td>2.58</td>\n",
       "      <td>2.066653</td>\n",
       "      <td>amc</td>\n",
       "      <td>3</td>\n",
       "      <td>59685000000</td>\n",
       "      <td>53033749999</td>\n",
       "      <td>AAPL</td>\n",
       "      <td>2020</td>\n",
       "      <td>2020-07-16</td>\n",
       "      <td>2020-08-01</td>\n",
       "      <td>0.248396</td>\n",
       "    </tr>\n",
       "    <tr>\n",
       "      <th>1</th>\n",
       "      <td>2020-04-30</td>\n",
       "      <td>2.55</td>\n",
       "      <td>2.306322</td>\n",
       "      <td>amc</td>\n",
       "      <td>2</td>\n",
       "      <td>58313000000</td>\n",
       "      <td>55358099999</td>\n",
       "      <td>AAPL</td>\n",
       "      <td>2020</td>\n",
       "      <td>2020-04-16</td>\n",
       "      <td>2020-05-02</td>\n",
       "      <td>0.105657</td>\n",
       "    </tr>\n",
       "    <tr>\n",
       "      <th>2</th>\n",
       "      <td>2020-01-28</td>\n",
       "      <td>4.99</td>\n",
       "      <td>5.349859</td>\n",
       "      <td>amc</td>\n",
       "      <td>1</td>\n",
       "      <td>91819000000</td>\n",
       "      <td>89756449999</td>\n",
       "      <td>AAPL</td>\n",
       "      <td>2020</td>\n",
       "      <td>2020-01-14</td>\n",
       "      <td>2020-02-01</td>\n",
       "      <td>-0.067265</td>\n",
       "    </tr>\n",
       "    <tr>\n",
       "      <th>3</th>\n",
       "      <td>2019-10-30</td>\n",
       "      <td>3.03</td>\n",
       "      <td>2.896127</td>\n",
       "      <td>amc</td>\n",
       "      <td>4</td>\n",
       "      <td>64040000000</td>\n",
       "      <td>63929939186</td>\n",
       "      <td>AAPL</td>\n",
       "      <td>2019</td>\n",
       "      <td>2019-10-16</td>\n",
       "      <td>2019-11-02</td>\n",
       "      <td>0.046225</td>\n",
       "    </tr>\n",
       "    <tr>\n",
       "      <th>4</th>\n",
       "      <td>2020-07-22</td>\n",
       "      <td>1.46</td>\n",
       "      <td>1.369758</td>\n",
       "      <td>amc</td>\n",
       "      <td>4</td>\n",
       "      <td>38033000000</td>\n",
       "      <td>37047500000</td>\n",
       "      <td>MSFT</td>\n",
       "      <td>2020</td>\n",
       "      <td>2020-07-08</td>\n",
       "      <td>2020-07-25</td>\n",
       "      <td>0.065882</td>\n",
       "    </tr>\n",
       "  </tbody>\n",
       "</table>\n",
       "</div>"
      ],
      "text/plain": [
       "        date  epsActual  epsEstimate  ...  ten_prior  this_friday  performance\n",
       "0 2020-07-30       2.58     2.066653  ... 2020-07-16   2020-08-01     0.248396\n",
       "1 2020-04-30       2.55     2.306322  ... 2020-04-16   2020-05-02     0.105657\n",
       "2 2020-01-28       4.99     5.349859  ... 2020-01-14   2020-02-01    -0.067265\n",
       "3 2019-10-30       3.03     2.896127  ... 2019-10-16   2019-11-02     0.046225\n",
       "4 2020-07-22       1.46     1.369758  ... 2020-07-08   2020-07-25     0.065882\n",
       "\n",
       "[5 rows x 12 columns]"
      ]
     },
     "execution_count": 11,
     "metadata": {
      "tags": []
     },
     "output_type": "execute_result"
    }
   ],
   "source": [
    "earnings.head()"
   ]
  },
  {
   "cell_type": "code",
   "execution_count": null,
   "metadata": {
    "colab": {
     "base_uri": "https://localhost:8080/",
     "height": 54
    },
    "colab_type": "code",
    "id": "5mtG1VYH9hSO",
    "outputId": "2e2507ba-8d37-4f46-cb68-d70b496523b1"
   },
   "outputs": [
    {
     "data": {
      "text/plain": [
       "168"
      ]
     },
     "execution_count": 12,
     "metadata": {
      "tags": []
     },
     "output_type": "execute_result"
    }
   ],
   "source": [
    "len(earnings)"
   ]
  },
  {
   "cell_type": "code",
   "execution_count": null,
   "metadata": {
    "colab": {
     "base_uri": "https://localhost:8080/",
     "height": 600
    },
    "colab_type": "code",
    "id": "y5JQIqCZtFoq",
    "outputId": "837e4187-ce4d-465d-db3d-41b2498e08c5"
   },
   "outputs": [
    {
     "name": "stdout",
     "output_type": "stream",
     "text": [
      "0.0 percent complete\n",
      "0.02976190476190476 percent complete\n",
      "0.05952380952380952 percent complete\n",
      "0.08928571428571429 percent complete\n",
      "0.11904761904761904 percent complete\n",
      "0.1488095238095238 percent complete\n",
      "0.17857142857142858 percent complete\n",
      "0.20833333333333334 percent complete\n",
      "0.23809523809523808 percent complete\n",
      "0.26785714285714285 percent complete\n",
      "0.2976190476190476 percent complete\n",
      "0.3273809523809524 percent complete\n",
      "0.35714285714285715 percent complete\n",
      "0.3869047619047619 percent complete\n",
      "0.4166666666666667 percent complete\n",
      "0.44642857142857145 percent complete\n",
      "0.47619047619047616 percent complete\n",
      "0.5059523809523809 percent complete\n",
      "0.5357142857142857 percent complete\n",
      "0.5654761904761905 percent complete\n",
      "0.5952380952380952 percent complete\n",
      "0.625 percent complete\n",
      "0.6547619047619048 percent complete\n",
      "0.6845238095238095 percent complete\n",
      "0.7142857142857143 percent complete\n",
      "0.7440476190476191 percent complete\n",
      "0.7738095238095238 percent complete\n",
      "0.8035714285714286 percent complete\n",
      "0.8333333333333334 percent complete\n",
      "0.8630952380952381 percent complete\n",
      "0.8928571428571429 percent complete\n",
      "0.9226190476190477 percent complete\n",
      "0.9523809523809523 percent complete\n",
      "0.9821428571428571 percent complete\n"
     ]
    }
   ],
   "source": [
    "# get financial data for the dataframe\n",
    "for i in range(len(earnings)):\n",
    "  symbol = earnings.loc[i, 'symbol']\n",
    "  start = int(datetime.timestamp(earnings.loc[i, 'ten_prior']))\n",
    "  end = int(datetime.timestamp(earnings.loc[i, 'this_friday']))\n",
    "  date = earnings.loc[i, 'date'].date() # date not timestamp\n",
    "\n",
    "  try: df = get_df(get_stock_data(symbol, start = start, end = end))\n",
    "  except: continue\n",
    "  path = './earnings_data/' + symbol + '_' + str(date) + '.csv'\n",
    "  df.to_csv(path)\n",
    "\n",
    "  if (i % 5) == 0:\n",
    "    print(i / len(earnings), \"percent complete\")"
   ]
  },
  {
   "cell_type": "code",
   "execution_count": null,
   "metadata": {
    "colab": {},
    "colab_type": "code",
    "id": "aOHXw9ToainZ"
   },
   "outputs": [],
   "source": [
    "def get_alpha_cont(X):\n",
    "  \"\"\" gets alpha paramter for continuous power law distribution\n",
    "  @param X (np.array): just holds diff\n",
    "  \"\"\"\n",
    "  n = len(X)\n",
    "  xmin = X[0]\n",
    "  a = 1 + n / np.sum(np.log(X / xmin))\n",
    "  return a\n",
    "\n",
    "def get_a_range(a, N):\n",
    "  \"\"\" gets 95% confidence interval on alpha paramter estimate\n",
    "  @param a: alpha\n",
    "  @param N: number of samples in power law distribution\n",
    "  @returns a_lower, a_upper: lower and upper bound on alpha 95% CI\n",
    "  \"\"\"\n",
    "  stdev = (a-1)/np.sqrt(N)\n",
    "  a_lower, a_upper = ((a-stdev*2), (a+stdev*2))\n",
    "  return a_lower, a_upper\n",
    "\n",
    "# CODE TO CHECK WHETHER POWER LAW\n",
    "\n",
    "# for a stock, calculate xmin, alpha, KS stat and determine whether power law\n",
    "def calc_emperical(df_sorted):\n",
    "  \"\"\" determines whether a power law fits the dataset\n",
    "  @param df_sorted: price change dataframe sorted from most frequent to least frequent\n",
    "  @returns p: p-value of fit for power law. p < .1 indicates not a power law.\n",
    "  p-value above .1 indicates either power law (could exponential or lognormal if N<200)\n",
    "  \"\"\"\n",
    "  # get quantile, alpha, and KS for best fit\n",
    "  q, a, KS, xmin = get_xmin(df_sorted)\n",
    "  print(\"True q: %s a: %s KS: %s xmin: %s\" % (q,a,KS,xmin))\n",
    "  p = calc_fit(df_sorted, q, a, KS, xmin)\n",
    "  print(\"p: \",p)\n",
    "  return p\n",
    "\n",
    "def calc_fit(df_sorted, q, a, KS, xmin):\n",
    "  \"\"\" determines whether dataset fits power law\n",
    "  @param df_sorted: price change dataframe sorted from most frequent to least frequent\n",
    "  @param q: quantile for karmatta point\n",
    "  @param a: alpha of dataset\n",
    "  @param KS: Kolgoromov Smirnoff statistic for fit\n",
    "  @param xmin: minimum x-value for power law data determined by get_xmin()\n",
    "  @returns p: p-value of fit explained in calc_empirical doc \n",
    "  \"\"\"\n",
    "  KS_stats = []\n",
    "  for i in range(2500):\n",
    "    df = generate_dataset(df_sorted,q,a,xmin)\n",
    "    q_local, a_local, KS_local, xminlocal = get_xmin(df)\n",
    "    KS_stats.append(KS_local)\n",
    "  KS_stats=np.array(KS_stats)\n",
    "  p = np.mean(KS_stats > KS)\n",
    "  return p\n",
    "\n",
    "def generate_dataset(df_sorted,q,a,xmin):\n",
    "  \"\"\" generates synthetic dataset with q,a,xmin\n",
    "  @returns df: synthetic dataset frame\n",
    "  \"\"\"\n",
    "  N = df_sorted.shape[0]\n",
    "  df_below_xmin = df_sorted.loc[df_sorted['prob'] >= q]\n",
    "  # number of samples to generate from power law\n",
    "  n_power = np.sum(np.random.uniform(0,1,N)<q)\n",
    "  # number of samples to bootstrap from original dataset > q\n",
    "  n_normal = N - n_power\n",
    "  # generate power law variables\n",
    "  r = np.random.uniform(0,1,n_power)\n",
    "  x1 = xmin * (1 - r) ** (-1 / (a - 1))\n",
    "  # bootstrap n_normal variables from df_below_xmin\n",
    "  x2 = np.random.choice(df_below_xmin['diff'], n_normal, replace=True)\n",
    "  # make new dataframe\n",
    "  df = df_sorted.drop(['diff'], axis=1)\n",
    "  df['diff'] = list(np.sort(np.concatenate((x1,x2),axis=0)))\n",
    "  return df\n",
    "\n",
    "def get_xmin(df_sorted):\n",
    "  \"\"\" finds xmin value, quantile, alpha, and KS-stat for emperical distribution.\n",
    "  @param df_sorted: df sorted by quantile, either negative or positive changes\n",
    "  @return: quantile, alpha param, KS-stat, xmin\n",
    "  \"\"\"\n",
    "  quants = [.5,.35,.2, .14, .10, .07, .035] # 100% of data - min quantile\n",
    "  D, alphas1 = calc_KS(df_sorted, quants)\n",
    "  sorted = list(np.argsort(D))\n",
    "  num_searches = 6 # number of searches over smaller range\n",
    "  # get quantiles of refined search range\n",
    "  quants = list(np.linspace(quants[sorted[0]]-.025, quants[sorted[0]]+.025, num = num_searches))\n",
    "  D2, alphas2 = calc_KS(df_sorted, quants)\n",
    "  index = np.argmin(D2)\n",
    "  # get quantile of best KS stat\n",
    "  quant = np.round(quants[index], 3)\n",
    "  # get alpha of that quantile\n",
    "  alpha = alphas2[index]\n",
    "  # get KS of that quantile\n",
    "  KS = D2[index]\n",
    "  # get minimum change in power law\n",
    "  xmin = df_sorted['diff'].loc[df_sorted['prob'] < quant].iloc[0]\n",
    "  return quant, alpha, KS, xmin\n",
    "\n",
    "def calc_KS(df_sorted, quantiles):\n",
    "  \"\"\" Calculate Kolmogorov-Smirnov Statistic for goodness of fit test using \n",
    "  CDF for continuous power law\n",
    "  @param df_sorted: sorted dataframe\n",
    "  @param quantiles: quantiles to test in df_sorted\n",
    "  @return D: Distances measured by KS-stat\n",
    "  @return alphas: alpha parameters corresponding to D[i] quantiles \n",
    "  \"\"\"\n",
    "  D = []\n",
    "  alphas = []\n",
    "  for i in range(len(quantiles)):\n",
    "    # get subset for min quantile\n",
    "    df = df_sorted.loc[df_sorted['prob'] < quantiles[i]]\n",
    "    X = df['diff'].to_numpy()\n",
    "    a = get_alpha_cont(X) # get alpha for that subset\n",
    "    alphas.append(a)\n",
    "    # calculate emperical cdf for subset\n",
    "    df['emp_cdf'] = 1 - np.arange(df.shape[0])/df.shape[0]\n",
    "    # get real cdf for continuous power law\n",
    "    xmin = df['diff'].iloc[0]\n",
    "    df['true_cdf'] = (df['diff']/xmin)**(-a + 1)\n",
    "    # get KS Statistic on subset\n",
    "    D.append(np.max(np.abs(df['emp_cdf'] - df['true_cdf'])/np.sqrt(df['true_cdf']*(1 - df['true_cdf']))))\n",
    "  return D, alphas\n",
    "\n",
    "\n",
    "# CODE SHOWS POWER LAW\n",
    "# function to print power laws for stock\n",
    "def show_power_law(neg_sorted = None, pos_sorted = None, ax = None):\n",
    "  \"\"\" prints graph of power law for price daily price changes in stock\n",
    "  @param ax: matplotlib axes for the graph\n",
    "  \"\"\"\n",
    "  if (neg_sorted is None) and (pos_sorted is None):\n",
    "    raise SyntaxError(\"Must provide some dataframe\")\n",
    "  if ax is None:\n",
    "    ax = plt.gca()\n",
    "\n",
    "  if (neg_sorted is not None):\n",
    "    # sort by move size and calculate cdf\n",
    "  \n",
    "    q, alpha_hat, KS, xmin = get_xmin(neg_sorted)\n",
    "    print(q, alpha_hat, KS, xmin)\n",
    "    select_df = neg_sorted.loc[neg_sorted['prob'] < q]\n",
    "    select_df = select_df.reset_index(drop=True)\n",
    "    size = select_df.shape[0]\n",
    "\n",
    "    # neg sorted slope\n",
    "    x = np.linspace(np.min(select_df['diff']), np.max(select_df['diff']),num=50)\n",
    "    k = select_df.loc[0,'prob'] * (x[0] ** (alpha_hat))\n",
    "    y = k * (x ** (-alpha_hat))\n",
    "    # plot \n",
    "    ax.plot(neg_sorted['diff'], neg_sorted['prob'], '.', c='red', markeredgecolor='none')\n",
    "    ax.plot(x,y)\n",
    "\n",
    "    sigma_a = get_a_range(alpha_hat,size)\n",
    "    print(\"neg alpha range:\",sigma_a)\n",
    "    textstr = r'$\\alpha_-$ = %s %sN=%s' % (np.round(alpha_hat, 2),'\\n',size)\n",
    "    ax.annotate(textstr, xy=(x[0], y[0]), xytext=(x[0]+.02, y[0]+.3),\n",
    "            arrowprops=dict(facecolor='black', shrink=0.1))\n",
    "\n",
    "  if (pos_sorted is not None):\n",
    "    q, alpha_hat2, KS, xmin = get_xmin(pos_sorted)\n",
    "    print(q,alpha_hat2,KS, xmin)\n",
    "    select_df = pos_sorted.loc[pos_sorted['prob'] < q]\n",
    "    select_df = select_df.reset_index(drop=True)\n",
    "    size2 = select_df.shape[0]\n",
    "\n",
    "    x_pos = np.linspace(np.min(select_df['diff']), np.max(select_df['diff']),num=50)\n",
    "    k = select_df['prob'][0] * (x_pos[0] ** (alpha_hat2))\n",
    "    y_pos = k * (x_pos ** (-alpha_hat2))\n",
    "\n",
    "    ax.plot(pos_sorted['diff'], pos_sorted['prob'], '.', c='blue', markeredgecolor='none')\n",
    "    ax.plot(x_pos, y_pos)\n",
    "\n",
    "    sigma_a = get_a_range(alpha_hat2,size2)\n",
    "    print(\"pos alpha range:\",sigma_a)\n",
    "    textstr2 = r'$\\alpha_+$ = %s %sN=%s' % (np.round(alpha_hat2, 2),'\\n',size2)\n",
    "    ax.annotate(textstr2, xy=(x_pos[0], y_pos[0]), xytext=(x_pos[0], y_pos[0]+.3),\n",
    "        arrowprops=dict(facecolor='black', shrink=0.1))\n",
    "\n",
    "  ax.set_yscale('log')\n",
    "  ax.set_xscale('log')\n",
    "  ax.set_xlim(left = 10**-3)\n",
    "  # ax.set_title(ticker.upper())\n",
    "  \n",
    "  return ax"
   ]
  },
  {
   "cell_type": "code",
   "execution_count": null,
   "metadata": {
    "colab": {
     "base_uri": "https://localhost:8080/",
     "height": 71
    },
    "colab_type": "code",
    "id": "0on4ZIdE_Tz-",
    "outputId": "570cbd11-e85c-40b2-ac37-24f3de114dd3"
   },
   "outputs": [
    {
     "name": "stdout",
     "output_type": "stream",
     "text": [
      "The autoreload extension is already loaded. To reload it, use:\n",
      "  %reload_ext autoreload\n"
     ]
    }
   ],
   "source": [
    "# import functions used in other notebook\n",
    "#path = './power_laws.py'\n",
    "# %load_ext autoreload\n",
    "# from power_laws import *"
   ]
  },
  {
   "cell_type": "code",
   "execution_count": null,
   "metadata": {
    "colab": {
     "base_uri": "https://localhost:8080/",
     "height": 504
    },
    "colab_type": "code",
    "id": "B4__YIxwEHB7",
    "outputId": "7560e38d-c528-40d9-c2a0-8d763075e7b6"
   },
   "outputs": [
    {
     "name": "stdout",
     "output_type": "stream",
     "text": [
      "0.105 2.8342622163209823 0.12089011145296583 0.001920194630664084\n",
      "neg alpha range: (2.725226645274478, 2.9432977873674866)\n"
     ]
    },
    {
     "name": "stderr",
     "output_type": "stream",
     "text": [
      "/usr/local/lib/python3.6/dist-packages/ipykernel_launcher.py:114: SettingWithCopyWarning: \n",
      "A value is trying to be set on a copy of a slice from a DataFrame.\n",
      "Try using .loc[row_indexer,col_indexer] = value instead\n",
      "\n",
      "See the caveats in the documentation: https://pandas.pydata.org/pandas-docs/stable/user_guide/indexing.html#returning-a-view-versus-a-copy\n",
      "/usr/local/lib/python3.6/dist-packages/ipykernel_launcher.py:117: SettingWithCopyWarning: \n",
      "A value is trying to be set on a copy of a slice from a DataFrame.\n",
      "Try using .loc[row_indexer,col_indexer] = value instead\n",
      "\n",
      "See the caveats in the documentation: https://pandas.pydata.org/pandas-docs/stable/user_guide/indexing.html#returning-a-view-versus-a-copy\n"
     ]
    },
    {
     "data": {
      "text/plain": [
       "<matplotlib.axes._subplots.AxesSubplot at 0x7f556ba3a6d8>"
      ]
     },
     "execution_count": 49,
     "metadata": {
      "tags": []
     },
     "output_type": "execute_result"
    },
    {
     "data": {
      "image/png": "[encoded data removed]",
      "text/plain": [
       "<Figure size 432x288 with 1 Axes>"
      ]
     },
     "metadata": {
      "needs_background": "light",
      "tags": []
     },
     "output_type": "display_data"
    }
   ],
   "source": [
    "# sort by move size and calculate cdf\n",
    "\n",
    "df_pos = df.loc[df['pos'] == 1]\n",
    "pos_sorted = df_pos.sort_values('diff')\n",
    "pos_sorted['prob'] = 1 - np.arange(pos_sorted.shape[0]) / pos_sorted.shape[0]\n",
    "pos_sorted = pos_sorted.reset_index(drop=True)\n",
    "\n",
    "df_neg = df.loc[df['pos'] == 0]\n",
    "neg_sorted = df_neg.sort_values('diff')\n",
    "neg_sorted['prob'] = 1 - np.arange(neg_sorted.shape[0]) / neg_sorted.shape[0]\n",
    "neg_sorted = neg_sorted.reset_index(drop=True)\n",
    "\n",
    "# pos_sorted.tail()\n",
    "# \n",
    "#calc_emperical(pos_sorted)\n",
    "show_power_law(neg_sorted=neg_sorted)\n",
    "#neg_pos_sortedsorted.loc[:,'diff'].to_numpy()"
   ]
  },
  {
   "cell_type": "code",
   "execution_count": null,
   "metadata": {
    "colab": {
     "base_uri": "https://localhost:8080/",
     "height": 504
    },
    "colab_type": "code",
    "id": "Mw1OG_q8qS9N",
    "outputId": "d4471a14-f29f-413a-90b8-f0b625a1d94b"
   },
   "outputs": [
    {
     "name": "stdout",
     "output_type": "stream",
     "text": [
      "0.125 2.653777632900618 0.10451217538063708 0.0015903426202225313\n",
      "pos alpha range: (2.5637240213404726, 2.7438312444607633)\n"
     ]
    },
    {
     "name": "stderr",
     "output_type": "stream",
     "text": [
      "/usr/local/lib/python3.6/dist-packages/ipykernel_launcher.py:114: SettingWithCopyWarning: \n",
      "A value is trying to be set on a copy of a slice from a DataFrame.\n",
      "Try using .loc[row_indexer,col_indexer] = value instead\n",
      "\n",
      "See the caveats in the documentation: https://pandas.pydata.org/pandas-docs/stable/user_guide/indexing.html#returning-a-view-versus-a-copy\n",
      "/usr/local/lib/python3.6/dist-packages/ipykernel_launcher.py:117: SettingWithCopyWarning: \n",
      "A value is trying to be set on a copy of a slice from a DataFrame.\n",
      "Try using .loc[row_indexer,col_indexer] = value instead\n",
      "\n",
      "See the caveats in the documentation: https://pandas.pydata.org/pandas-docs/stable/user_guide/indexing.html#returning-a-view-versus-a-copy\n"
     ]
    },
    {
     "data": {
      "text/plain": [
       "<matplotlib.axes._subplots.AxesSubplot at 0x7f556b99ab70>"
      ]
     },
     "execution_count": 50,
     "metadata": {
      "tags": []
     },
     "output_type": "execute_result"
    },
    {
     "data": {
      "image/png": "[encoded data removed]",
      "text/plain": [
       "<Figure size 432x288 with 1 Axes>"
      ]
     },
     "metadata": {
      "needs_background": "light",
      "tags": []
     },
     "output_type": "display_data"
    }
   ],
   "source": [
    "show_power_law(pos_sorted=pos_sorted)"
   ]
  },
  {
   "cell_type": "code",
   "execution_count": null,
   "metadata": {
    "colab": {
     "base_uri": "https://localhost:8080/",
     "height": 236
    },
    "colab_type": "code",
    "id": "Mt1xiOOkrkrZ",
    "outputId": "ba2382dc-2766-4006-f90d-3fa636611b3d"
   },
   "outputs": [
    {
     "name": "stderr",
     "output_type": "stream",
     "text": [
      "/usr/local/lib/python3.6/dist-packages/ipykernel_launcher.py:114: SettingWithCopyWarning: \n",
      "A value is trying to be set on a copy of a slice from a DataFrame.\n",
      "Try using .loc[row_indexer,col_indexer] = value instead\n",
      "\n",
      "See the caveats in the documentation: https://pandas.pydata.org/pandas-docs/stable/user_guide/indexing.html#returning-a-view-versus-a-copy\n",
      "/usr/local/lib/python3.6/dist-packages/ipykernel_launcher.py:117: SettingWithCopyWarning: \n",
      "A value is trying to be set on a copy of a slice from a DataFrame.\n",
      "Try using .loc[row_indexer,col_indexer] = value instead\n",
      "\n",
      "See the caveats in the documentation: https://pandas.pydata.org/pandas-docs/stable/user_guide/indexing.html#returning-a-view-versus-a-copy\n"
     ]
    },
    {
     "name": "stdout",
     "output_type": "stream",
     "text": [
      "True q: 0.125 a: 2.653777632900618 KS: 0.10451217538063708 xmin: 0.0015903426202225313\n",
      "p:  0.056\n"
     ]
    }
   ],
   "source": [
    "# verify that it's a power law\n",
    "p = calc_emperical(pos_sorted)"
   ]
  },
  {
   "cell_type": "code",
   "execution_count": null,
   "metadata": {
    "colab": {
     "base_uri": "https://localhost:8080/",
     "height": 236
    },
    "colab_type": "code",
    "id": "QXcpsPTBsZmY",
    "outputId": "9dd98774-dfe7-4915-e5f6-07b316ecd36a"
   },
   "outputs": [
    {
     "name": "stderr",
     "output_type": "stream",
     "text": [
      "/usr/local/lib/python3.6/dist-packages/ipykernel_launcher.py:114: SettingWithCopyWarning: \n",
      "A value is trying to be set on a copy of a slice from a DataFrame.\n",
      "Try using .loc[row_indexer,col_indexer] = value instead\n",
      "\n",
      "See the caveats in the documentation: https://pandas.pydata.org/pandas-docs/stable/user_guide/indexing.html#returning-a-view-versus-a-copy\n",
      "/usr/local/lib/python3.6/dist-packages/ipykernel_launcher.py:117: SettingWithCopyWarning: \n",
      "A value is trying to be set on a copy of a slice from a DataFrame.\n",
      "Try using .loc[row_indexer,col_indexer] = value instead\n",
      "\n",
      "See the caveats in the documentation: https://pandas.pydata.org/pandas-docs/stable/user_guide/indexing.html#returning-a-view-versus-a-copy\n"
     ]
    },
    {
     "name": "stdout",
     "output_type": "stream",
     "text": [
      "True q: 0.105 a: 2.8342622163209823 KS: 0.12089011145296583 xmin: 0.001920194630664084\n",
      "p:  0.046\n"
     ]
    }
   ],
   "source": [
    "# not a power law... trying negative\n",
    "p = calc_emperical(neg_sorted)"
   ]
  },
  {
   "cell_type": "markdown",
   "metadata": {
    "colab_type": "text",
    "id": "KC-PT81itbZS"
   },
   "source": [
    "While the graph may look like a power law, it is not the best fit for stock price movements at the 5 minute time frame. This makes sense as stocks have limits on how far they can move in 5 minutes. An exponential or lognormal distribution might fit the data better. I will try to fit a gamma distribution using MLE.\n",
    "\n",
    "That being said, the influence of an event on the intensity of a Hawkes process might still decay at a power law rate, which is what I will investigate next."
   ]
  },
  {
   "cell_type": "code",
   "execution_count": null,
   "metadata": {
    "colab": {
     "base_uri": "https://localhost:8080/",
     "height": 54
    },
    "colab_type": "code",
    "id": "miARcamexqje",
    "outputId": "834e47e4-cd8a-49f9-ae87-b545646fa3b4"
   },
   "outputs": [
    {
     "data": {
      "text/plain": [
       "1232.4502279008689"
      ]
     },
     "execution_count": 56,
     "metadata": {
      "tags": []
     },
     "output_type": "execute_result"
    }
   ],
   "source": [
    "X = df.loc[df['pos']==0,'diff'].to_numpy()\n",
    "X = X - np.min(X)\n",
    "l = expo_MLE(X)\n",
    "l"
   ]
  },
  {
   "cell_type": "code",
   "execution_count": null,
   "metadata": {
    "colab": {
     "base_uri": "https://localhost:8080/",
     "height": 221
    },
    "colab_type": "code",
    "id": "RxwvGLeQ2Lqp",
    "outputId": "78e050d6-6ae8-49d3-e5cf-6e60290a7a10"
   },
   "outputs": [
    {
     "data": {
      "text/html": [
       "<div>\n",
       "<style scoped>\n",
       "    .dataframe tbody tr th:only-of-type {\n",
       "        vertical-align: middle;\n",
       "    }\n",
       "\n",
       "    .dataframe tbody tr th {\n",
       "        vertical-align: top;\n",
       "    }\n",
       "\n",
       "    .dataframe thead th {\n",
       "        text-align: right;\n",
       "    }\n",
       "</style>\n",
       "<table border=\"1\" class=\"dataframe\">\n",
       "  <thead>\n",
       "    <tr style=\"text-align: right;\">\n",
       "      <th></th>\n",
       "      <th>diff</th>\n",
       "      <th>date</th>\n",
       "      <th>v</th>\n",
       "      <th>dt</th>\n",
       "      <th>event</th>\n",
       "      <th>dt_event</th>\n",
       "      <th>time_elapsed</th>\n",
       "      <th>pos</th>\n",
       "    </tr>\n",
       "  </thead>\n",
       "  <tbody>\n",
       "    <tr>\n",
       "      <th>10790</th>\n",
       "      <td>0.000389</td>\n",
       "      <td>2020-06-30 22:11:31.609406</td>\n",
       "      <td>16277</td>\n",
       "      <td>2.071046</td>\n",
       "      <td>1</td>\n",
       "      <td>6.076548</td>\n",
       "      <td>64695.642685</td>\n",
       "      <td>1</td>\n",
       "    </tr>\n",
       "    <tr>\n",
       "      <th>10791</th>\n",
       "      <td>0.001005</td>\n",
       "      <td>2020-06-30 22:25:02.454424</td>\n",
       "      <td>9274</td>\n",
       "      <td>1.447650</td>\n",
       "      <td>1</td>\n",
       "      <td>8.731846</td>\n",
       "      <td>64704.374531</td>\n",
       "      <td>1</td>\n",
       "    </tr>\n",
       "    <tr>\n",
       "      <th>10792</th>\n",
       "      <td>0.000162</td>\n",
       "      <td>2020-06-30 22:32:48.954629</td>\n",
       "      <td>5864</td>\n",
       "      <td>4.665002</td>\n",
       "      <td>1</td>\n",
       "      <td>1.447650</td>\n",
       "      <td>64705.822181</td>\n",
       "      <td>1</td>\n",
       "    </tr>\n",
       "    <tr>\n",
       "      <th>10793</th>\n",
       "      <td>0.000616</td>\n",
       "      <td>2020-06-30 23:07:09.775062</td>\n",
       "      <td>5088</td>\n",
       "      <td>2.940487</td>\n",
       "      <td>1</td>\n",
       "      <td>22.332719</td>\n",
       "      <td>64728.154900</td>\n",
       "      <td>1</td>\n",
       "    </tr>\n",
       "    <tr>\n",
       "      <th>10794</th>\n",
       "      <td>0.000486</td>\n",
       "      <td>2020-06-30 23:24:32.790392</td>\n",
       "      <td>32190</td>\n",
       "      <td>4.114416</td>\n",
       "      <td>1</td>\n",
       "      <td>9.256224</td>\n",
       "      <td>64737.411124</td>\n",
       "      <td>1</td>\n",
       "    </tr>\n",
       "  </tbody>\n",
       "</table>\n",
       "</div>"
      ],
      "text/plain": [
       "           diff                       date      v  ...   dt_event  time_elapsed  pos\n",
       "10790  0.000389 2020-06-30 22:11:31.609406  16277  ...   6.076548  64695.642685    1\n",
       "10791  0.001005 2020-06-30 22:25:02.454424   9274  ...   8.731846  64704.374531    1\n",
       "10792  0.000162 2020-06-30 22:32:48.954629   5864  ...   1.447650  64705.822181    1\n",
       "10793  0.000616 2020-06-30 23:07:09.775062   5088  ...  22.332719  64728.154900    1\n",
       "10794  0.000486 2020-06-30 23:24:32.790392  32190  ...   9.256224  64737.411124    1\n",
       "\n",
       "[5 rows x 8 columns]"
      ]
     },
     "execution_count": 40,
     "metadata": {
      "tags": []
     },
     "output_type": "execute_result"
    }
   ],
   "source": [
    "df.tail()"
   ]
  },
  {
   "cell_type": "markdown",
   "metadata": {
    "colab_type": "text",
    "id": "sTRxLrFyrI-r"
   },
   "source": [
    "I will define an outlier for the Hawkes process as a point beyond the Karmatta point where movements after follow a power law distribution. Using the power law $\\alpha$ obtained from MLE methods, I will optimize the Hawkes process to predict these movements"
   ]
  },
  {
   "cell_type": "markdown",
   "metadata": {
    "colab_type": "text",
    "id": "_1deK6Fv6smA"
   },
   "source": [
    "Hawke's MLE approach from https://arxiv.org/abs/1405.6047"
   ]
  },
  {
   "cell_type": "markdown",
   "metadata": {
    "colab_type": "text",
    "id": "lvgpip3n55jo"
   },
   "source": [
    "![Screen Shot 2020-08-16 at 1.15.06 PM.png](data:image/png;base64,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)"
   ]
  },
  {
   "cell_type": "markdown",
   "metadata": {
    "colab_type": "text",
    "id": "FFrMZM6fnwG1"
   },
   "source": [
    "## Implementation 1)\n",
    "single variable hawkes process modeling timings of large movements. Hawkes process does not apply to the data used right now, but implemenation works.\n",
    "\n",
    "Implementation 2 is better."
   ]
  },
  {
   "cell_type": "code",
   "execution_count": null,
   "metadata": {
    "colab": {},
    "colab_type": "code",
    "id": "aXu3oMzbtnBT"
   },
   "outputs": [],
   "source": [
    "# max log likelihood using power law kernel without news kernel\n",
    "# from itertools import *\n",
    "\n",
    "# def pl_likelihood(params, df):\n",
    "#   \"\"\" the power law kernel (sum of 15 exponentials) \n",
    "#   @params (floats): mu, n, p, t0 (see formulas)\n",
    "#   @returns (float): negative log likelihood for those parameters\n",
    "#   \"\"\"\n",
    "#   mu, n, p, t0 = params\n",
    "#   print(\"testing mu = %s, n = %s, p = %s, t0 = %s\" % (mu,n,p,t0))\n",
    "#   X = df # work around rn\n",
    "#   M = 15\n",
    "#   m = 5\n",
    "#   T = X['time_elapsed'].iloc[-1]\n",
    "#   N = X.shape[0] # number of events\n",
    "#   a_neg1 = t0*m**(-1)\n",
    "  \n",
    "#   A_cache = dict([(0,t0)])\n",
    "#   def A(k):\n",
    "#     if k in A_cache:\n",
    "#       return A_cache[k]\n",
    "#     A_cache[k] = t0*m**k\n",
    "#     return A_cache[k]\n",
    "\n",
    "#   # calculate S so PL(0) = 0\n",
    "#   # make the first index the first event...\n",
    "#   S = np.sum([(A(k))**(-p) for k in range(M-1)])\n",
    "#   #print(\"S:\",S)\n",
    "\n",
    "#   # calculate integral of phi power law 0 to inf to get Z\n",
    "#   phi_pl = 0\n",
    "\n",
    "#   for i in range(0,N):\n",
    "#     ti = X['time_elapsed'].iloc[i]\n",
    "#     term1 = np.sum([(A(k))**(-p)*np.exp(-ti/(A(k))) for k in range(M-1)])\n",
    "#     phi_pl = phi_pl + n*(term1 - S*np.exp(-ti/a_neg1))\n",
    "#   Z = phi_pl / n\n",
    "#   #print(\"Z =\",Z)\n",
    "\n",
    "#   # def phi(t):\n",
    "#   #   \"\"\" power law kernel for t\n",
    "#   #   \"\"\"\n",
    "#   #   term1 = np.sum([(A(k))**(-p)*np.exp(-t/(A(k))) for k in range(M-1)])\n",
    "#   #   return n/Z*(term1 - S*np.exp(-t/A(-1)))\n",
    "\n",
    "#   # v_phi = np.vectorize(phi)\n",
    "#   # calculate mu\n",
    "\n",
    "#   # AHHHH neither of these methods are efficient... need to calculate mu another way\n",
    "\n",
    "#   # time_elapsed = X['time_elapsed'].to_numpy()\n",
    "#   # differences = [a-b for (a,b) in combinations(time_elapsed,2)]\n",
    "\n",
    "#   # big_lambda = 0\n",
    "#   # times = np.array([0])\n",
    "#   # for i in range(1,N):\n",
    "#   #   ti = X['time_elapsed'].iloc[i]\n",
    "#   #   local_times = np.repeat(ti, i) - time_elapsed[0:i]\n",
    "#   #   times = np.concatenate((times,local_times))\n",
    "\n",
    "#   # ncombos = N*(N-1)/2\n",
    "#   # big_lambda = np.sum(v_phi(differences))/ncombos\n",
    "\n",
    "#   # big_lambda = 0\n",
    "#   # for i in range(1,N):\n",
    "#   #   print(i)\n",
    "#   #   # calculate the t values for list\n",
    "#   #   ti = X['time_elapsed'].iloc[i]\n",
    "#   #   times = np.full((1,i),ti) - X['time_elapsed'].iloc[0:i].to_numpy()\n",
    "#   #   big_lambda += n/Z*(np.sum(v_phi(times)))\n",
    "#   #mu = -big_lambda/(1-(1/(1-n)))\n",
    "\n",
    "#   likelihood = -mu*T\n",
    "\n",
    "#   # memoization speeds it up a lot\n",
    "#   cache = dict([(1,0)])\n",
    "#   def RK(ind,k):\n",
    "#     if ind in cache:\n",
    "#       return cache[ind]\n",
    "#     ti = X['time_elapsed'].iloc[ind]\n",
    "#     ti_minus1 = X['time_elapsed'].iloc[ind-1]\n",
    "#     val = np.exp(-(ti - ti_minus1)/(t0*m**k))*(1+RK(ind-1,k))\n",
    "#     cache[ind] = val\n",
    "#     return val\n",
    "  \n",
    "#   cache2 = dict([(1,0)])\n",
    "#   def R1(ind):\n",
    "#     if ind in cache2:\n",
    "#       return cache2[ind]\n",
    "#     ti = X['time_elapsed'].iloc[ind]\n",
    "#     ti_minus1 = X['time_elapsed'].iloc[ind-1]\n",
    "#     val = np.exp(-(ti - ti_minus1)/(t0*m**-1))*(1+R1(ind-1))\n",
    "#     cache2[ind] = val\n",
    "#     return val\n",
    "\n",
    "#   for i in range(1,N):\n",
    "#     ti = X['time_elapsed'].iloc[i]\n",
    "#     term1 = np.sum([(A(k))**(1-p)*(1-np.exp(-(T-ti)/(A(k)))) for k in range(0,M)])\n",
    "#     term2 = S/(a_neg1)*(1 - np.exp(-(T - ti)/a_neg1))\n",
    "#     logsum1 = np.sum([(A(k))**(-p)*RK(i,k) for k in range(0,M)])\n",
    "#     #print(R1(i))\n",
    "#     logterm1 = np.log(mu + n/Z*(logsum1 - S*R1(i)))\n",
    "#     likelihood = likelihood - n/Z*(term1 - term2) + logterm1\n",
    "#     #print(likelihood)\n",
    "\n",
    "#   print(\"Negative Likelihood:\",-likelihood) # minimize negative likelihood!!\n",
    "#   return -likelihood # want to maximize likelihood with minimization function\n"
   ]
  },
  {
   "cell_type": "code",
   "execution_count": null,
   "metadata": {
    "colab": {
     "base_uri": "https://localhost:8080/",
     "height": 583
    },
    "colab_type": "code",
    "id": "u6YbS5P8241f",
    "outputId": "4102b54c-6055-41bc-c68e-ba0637816532"
   },
   "outputs": [
    {
     "name": "stdout",
     "output_type": "stream",
     "text": [
      "testing mu = 0.10946462169781729, n = 0.9946532122069717, p = 1.4650995566944485, t0 = 1.30671918616262\n",
      "Negative Likelihood: -88783.23824219174\n",
      "testing mu = 0.10946463169781728, n = 0.9946532122069717, p = 1.4650995566944485, t0 = 1.30671918616262\n",
      "Negative Likelihood: -88783.23777837197\n",
      "testing mu = 0.10946462169781729, n = 0.9946532222069717, p = 1.4650995566944485, t0 = 1.30671918616262\n",
      "Negative Likelihood: -88783.2392630905\n",
      "testing mu = 0.10946462169781729, n = 0.9946532122069717, p = 1.4650995666944484, t0 = 1.30671918616262\n",
      "Negative Likelihood: -88783.24261165473\n",
      "testing mu = 0.10946462169781729, n = 0.9946532122069717, p = 1.4650995566944485, t0 = 1.30671919616262\n",
      "Negative Likelihood: -88783.23430241761\n",
      "testing mu = 0.0, n = 1.1, p = 2.0, t0 = 0.6\n"
     ]
    },
    {
     "name": "stderr",
     "output_type": "stream",
     "text": [
      "/usr/local/lib/python3.6/dist-packages/ipykernel_launcher.py:102: RuntimeWarning: divide by zero encountered in log\n"
     ]
    },
    {
     "name": "stdout",
     "output_type": "stream",
     "text": [
      "Negative Likelihood: inf\n",
      "testing mu = 1e-08, n = 1.1, p = 2.0, t0 = 0.6\n",
      "Negative Likelihood: -8688590.732156882\n",
      "testing mu = 0.0, n = 1.10000001, p = 2.0, t0 = 0.6\n",
      "Negative Likelihood: inf\n",
      "testing mu = 0.0, n = 1.1, p = 2.00000001, t0 = 0.6\n"
     ]
    },
    {
     "name": "stderr",
     "output_type": "stream",
     "text": [
      "/usr/local/lib/python3.6/dist-packages/scipy/optimize/optimize.py:697: RuntimeWarning: invalid value encountered in double_scalars\n",
      "  df = (f(*((xk + d,) + args)) - f0) / d[k]\n"
     ]
    },
    {
     "name": "stdout",
     "output_type": "stream",
     "text": [
      "Negative Likelihood: inf\n",
      "testing mu = 0.0, n = 1.1, p = 2.0, t0 = 0.60000001\n",
      "Negative Likelihood: inf\n",
      "testing mu = 0.10946462169781729, n = 0.9946532122069717, p = 1.4650995566944485, t0 = 1.30671918616262\n",
      "Negative Likelihood: -88783.23824219174\n",
      "testing mu = 0.10946463169781728, n = 0.9946532122069717, p = 1.4650995566944485, t0 = 1.30671918616262\n",
      "Negative Likelihood: -88783.23777837197\n",
      "testing mu = 0.10946462169781729, n = 0.9946532222069717, p = 1.4650995566944485, t0 = 1.30671918616262\n",
      "Negative Likelihood: -88783.2392630905\n",
      "testing mu = 0.10946462169781729, n = 0.9946532122069717, p = 1.4650995666944484, t0 = 1.30671918616262\n",
      "Negative Likelihood: -88783.24261165473\n",
      "testing mu = 0.10946462169781729, n = 0.9946532122069717, p = 1.4650995566944485, t0 = 1.30671919616262\n",
      "Negative Likelihood: -88783.23430241761\n"
     ]
    }
   ],
   "source": [
    "from scipy.optimize import SR1, Bounds\n",
    "\n",
    "#set initial value guesses for mu, n, p, t0. (.7,.9),(1.2,1.4),(1.2,3)\n",
    "rand = np.random.uniform\n",
    "params = np.array([rand(0,.5),rand(),rand(1,2),rand(1,2)])\n",
    "# set linear constraint\n",
    "bounds = Bounds([0, 0, 1.0, .6],[.5, 1.1, 2, 5])\n",
    "res = minimize(pl_likelihood, params, method=\"L-BFGS-B\",bounds = bounds)"
   ]
  },
  {
   "cell_type": "code",
   "execution_count": null,
   "metadata": {
    "colab": {
     "base_uri": "https://localhost:8080/",
     "height": 54
    },
    "colab_type": "code",
    "id": "lqhIlexjQUbA",
    "outputId": "dca21d48-477d-4d4f-8603-a35217acbf56"
   },
   "outputs": [
    {
     "name": "stdout",
     "output_type": "stream",
     "text": [
      "[0.10946462 0.99465321 1.46509956 1.30671919]\n"
     ]
    }
   ],
   "source": [
    "print(res.x)"
   ]
  },
  {
   "cell_type": "markdown",
   "metadata": {
    "colab_type": "text",
    "id": "tUOoIurIlKWP"
   },
   "source": [
    "## Implementation 2\n",
    "\n",
    "The below function creates a bivariate Hawkes process (+ and - movements) efficiently using vectorization.\n",
    "\n",
    "I need to fix the starting parameters on the optimization, but the code runs. \n",
    "\n",
    "Built based off of https://people.math.ethz.ch/~embrecht/ftp/Hawkes_PE_TL_LL.pdf and the author's doctoral thesis."
   ]
  },
  {
   "cell_type": "markdown",
   "metadata": {
    "colab_type": "text",
    "id": "uGbLgHE9qXMM"
   },
   "source": [
    "The Log Likelihood function for a multivariate (dimensions $= d$) and single value marks Hawkes Process:\n",
    "\n",
    "$\\Lambda_j (t) := \\int_{T_*}^{t} {\\lambda_j (s) ds}$\n",
    "\n",
    "$\\log L = \\Sigma _{j=1}^d \\int_{DxR} \\log \\lambda_j (t) N_j (dt \\times dx) + \\Sigma _{j=1}^d \\int _{D\\times R} \\log f_j (x) N_j (dt \\times dx) - \\Sigma _{j=1}^d \\Lambda_j (T^*)$"
   ]
  },
  {
   "cell_type": "code",
   "execution_count": null,
   "metadata": {
    "colab": {},
    "colab_type": "code",
    "id": "dEId260Mvswe"
   },
   "outputs": [],
   "source": [
    "# now fit model that works\n",
    "# decay function w(t)\n",
    "def w(t,dirac):\n",
    "  \"\"\" expo() pdf \"\"\"\n",
    "  if t < 0:\n",
    "    return 0\n",
    "  return dirac*np.exp(-dirac*t)\n",
    "v_w = np.vectorize(w)\n",
    "\n",
    "def w_hat(t,dirac):\n",
    "  \"\"\" cdf of expo() \"\"\"\n",
    "  if t < 0:\n",
    "    return 0\n",
    "  return (1-np.exp(-dirac*t))\n",
    "v_w_hat = np.vectorize(w_hat)\n",
    "\n",
    "def g(x, l, b):\n",
    "  \"\"\" normalized impact function where alpha_k =1\n",
    "  @param x (float): mark of point\n",
    "  @param l (float): lambda represents rate of expo() dist for mark\n",
    "  @param b (float): beta represents parameter for impact of mark\n",
    "  \"\"\"\n",
    "  return (l**2 / (l**2 + b*l) * (1 + b*x))\n",
    "v_g = np.vectorize(g)\n",
    "\n",
    "pos_cache = dict([(1,0),(0,0),(-1,0)])\n",
    "neg_cache = dict([(1,0),(0,0),(-1,0)])\n",
    "def R(length, times, pos, dirac):\n",
    "  \"\"\" breaks up sum with recursion trick \n",
    "  @param times (np.array): the arrival times\n",
    "  @param pos (int): 1 if positive 0 if negative (helps with caching)\n",
    "  \"\"\"\n",
    "  i = length - 1 # calculate index\n",
    "  if pos:\n",
    "    if i in pos_cache:\n",
    "      return pos_cache[i]\n",
    "    t = times[i] - times[i-1]\n",
    "    pos_cache[i] = np.exp(-dirac*t)*(1+R((i-1),times,pos,dirac))\n",
    "    return pos_cache[i]\n",
    "  if i in neg_cache:\n",
    "    return neg_cache[i]\n",
    "  t = times[i] - times[i-1]\n",
    "  neg_cache[i] = np.exp(-dirac*t)*(1+R((i-1),times,pos,dirac))\n",
    "  return neg_cache[i]\n",
    "\n",
    "def multi_likelihood(params, l1, l2, X):\n",
    "  \"\"\" \n",
    "  @param n1,n2 (floats): underlying intensity for process\n",
    "  @param o11,o12,o21,o22 (floats): branching coefficients in matrix Q\n",
    "  @param b1,b2 (ints): control impact function - influence of mark on intensity\n",
    "  @param dirac (float): parameter for decay function w()\n",
    "  @param l1,l2 (ints): lambda defines expo() pdf of marks\n",
    "  @param X (np.array): df.loc[:,['time_elapsed','pos','diff']].to_numpy()\n",
    "  @returns (float): negative log likelihood for those parameters\n",
    "  \"\"\"\n",
    "  d = 2\n",
    "  T = X[-1,0] # time in sequence\n",
    "  N = X.shape[0] # number of events\n",
    "\n",
    "  n1,n2,o11,o12,o21,o22,b1,b2,dirac = params\n",
    "  n = np.array([n1,n2])\n",
    "  o = np.array([[o11,o12],[o21,o22]])\n",
    "  b = np.array([b1,b2])\n",
    "  l = np.array([l1,l2])\n",
    "\n",
    "  # Lambda_j\n",
    "  likelihood = -np.sum([n[j] * (T) for j in range(d)])\n",
    "  for j in range(d):\n",
    "    for k in range(d):\n",
    "      indices = np.where(X[:-1,1] == j)[0]  # indices where it's positive or negative\n",
    "      current_ts = T - np.take(X[:-1,0], indices) # get differences of all times\n",
    "      decay = v_w_hat(current_ts,dirac)\n",
    "      current_marks = np.take(X[:-1,2], indices)\n",
    "      impact = v_g(current_marks, l[k], b[k])\n",
    "      likelihood -= o[j,k] * np.sum(decay*impact)\n",
    "\n",
    "  # log (lambda_j)\n",
    "  for j in range(d):\n",
    "    for i in range(1,N):\n",
    "      t = X[i,0]\n",
    "      term1 = 0\n",
    "      for k in range(d):\n",
    "        gx = g(X[i,2], l[k], b[k])\n",
    "        indices = np.where(X[:i,1]==j)[0]\n",
    "        times = np.take(X[:i,0],indices)\n",
    "        term1 += o[j,k] * gx * R(len(times), times, j, dirac)\n",
    "      likelihood += np.log(n[j] + term1)\n",
    "\n",
    "  # log (f_j). (CHECK THIS WITH ALEX Fj() DEFINITION)\n",
    "  for j in range(d):\n",
    "    indices = np.where(X[:i,1]==j)[0]\n",
    "    marks = np.take(X[:i,2],indices)\n",
    "    likelihood += np.sum(np.log(v_w(marks,dirac)))\n",
    "\n",
    "  print(\"Negative Likelihood:\",-likelihood) # minimize negative likelihood!!\n",
    "  return -likelihood # want to maximize likelihood with minimization function"
   ]
  },
  {
   "cell_type": "code",
   "execution_count": null,
   "metadata": {
    "colab": {},
    "colab_type": "code",
    "id": "rZGpw_Ztw3TU"
   },
   "outputs": [],
   "source": [
    "# get MLE for expo\n",
    "def expo_MLE(marks):\n",
    "  \"\"\" gets lambda of expo() distribution for marks\n",
    "  @param marks (np.array): all the poins\n",
    "  @returns (float): lambda for expo() distributin\n",
    "  \"\"\"\n",
    "  return len(marks) / np.sum(marks)"
   ]
  },
  {
   "cell_type": "code",
   "execution_count": null,
   "metadata": {
    "colab": {},
    "colab_type": "code",
    "id": "LDqPfokNyhhy"
   },
   "outputs": [],
   "source": [
    "# get expo() dist fits for marks\n",
    "X = df.loc[df['pos']==0,'diff'].to_numpy()\n",
    "X = X - np.min(X)\n",
    "l1 = np.round(expo_MLE(X))\n",
    "\n",
    "X = df.loc[df['pos']==1,'diff'].to_numpy()\n",
    "X = X - np.min(X)\n",
    "l2 = np.round(expo_MLE(X))"
   ]
  },
  {
   "cell_type": "code",
   "execution_count": null,
   "metadata": {
    "colab": {
     "base_uri": "https://localhost:8080/",
     "height": 353
    },
    "colab_type": "code",
    "id": "2gYMO14za71-",
    "outputId": "6771c904-8acf-450a-eed5-3b3b01396692"
   },
   "outputs": [
    {
     "ename": "TypeError",
     "evalue": "ignored",
     "output_type": "error",
     "traceback": [
      "\u001b[0;31m---------------------------------------------------------------------------\u001b[0m",
      "\u001b[0;31mTypeError\u001b[0m                                 Traceback (most recent call last)",
      "\u001b[0;32m<ipython-input-23-f900ca7962bc>\u001b[0m in \u001b[0;36m<module>\u001b[0;34m()\u001b[0m\n\u001b[1;32m      8\u001b[0m \u001b[0;31m#res = minimize(multi_likelihood, params, method=\"L-BFGS-B\",bounds = bounds)\u001b[0m\u001b[0;34m\u001b[0m\u001b[0;34m\u001b[0m\u001b[0;34m\u001b[0m\u001b[0m\n\u001b[1;32m      9\u001b[0m res = minimize(multi_likelihood, params, args = (l1,l2,X), method='trust-constr',  jac=\"2-point\", \n\u001b[0;32m---> 10\u001b[0;31m                hess=SR1(), options = {'maxiter':15}, bounds=bounds)\n\u001b[0m",
      "\u001b[0;32m/usr/local/lib/python3.6/dist-packages/scipy/optimize/_minimize.py\u001b[0m in \u001b[0;36mminimize\u001b[0;34m(fun, x0, args, method, jac, hess, hessp, bounds, constraints, tol, callback, options)\u001b[0m\n\u001b[1;32m    620\u001b[0m         return _minimize_trustregion_constr(fun, x0, args, jac, hess, hessp,\n\u001b[1;32m    621\u001b[0m                                             \u001b[0mbounds\u001b[0m\u001b[0;34m,\u001b[0m \u001b[0mconstraints\u001b[0m\u001b[0;34m,\u001b[0m\u001b[0;34m\u001b[0m\u001b[0;34m\u001b[0m\u001b[0m\n\u001b[0;32m--> 622\u001b[0;31m                                             callback=callback, **options)\n\u001b[0m\u001b[1;32m    623\u001b[0m     \u001b[0;32melif\u001b[0m \u001b[0mmeth\u001b[0m \u001b[0;34m==\u001b[0m \u001b[0;34m'dogleg'\u001b[0m\u001b[0;34m:\u001b[0m\u001b[0;34m\u001b[0m\u001b[0;34m\u001b[0m\u001b[0m\n\u001b[1;32m    624\u001b[0m         return _minimize_dogleg(fun, x0, args, jac, hess,\n",
      "\u001b[0;32m/usr/local/lib/python3.6/dist-packages/scipy/optimize/_trustregion_constr/minimize_trustregion_constr.py\u001b[0m in \u001b[0;36m_minimize_trustregion_constr\u001b[0;34m(fun, x0, args, grad, hess, hessp, bounds, constraints, xtol, gtol, barrier_tol, sparse_jacobian, callback, maxiter, verbose, finite_diff_rel_step, initial_constr_penalty, initial_tr_radius, initial_barrier_parameter, initial_barrier_tolerance, factorization_method, disp)\u001b[0m\n\u001b[1;32m    330\u001b[0m     \u001b[0;31m# Define Objective Function\u001b[0m\u001b[0;34m\u001b[0m\u001b[0;34m\u001b[0m\u001b[0;34m\u001b[0m\u001b[0m\n\u001b[1;32m    331\u001b[0m     objective = ScalarFunction(fun, x0, args, grad, hess,\n\u001b[0;32m--> 332\u001b[0;31m                                finite_diff_rel_step, finite_diff_bounds)\n\u001b[0m\u001b[1;32m    333\u001b[0m \u001b[0;34m\u001b[0m\u001b[0m\n\u001b[1;32m    334\u001b[0m     \u001b[0;31m# Put constraints in list format when needed\u001b[0m\u001b[0;34m\u001b[0m\u001b[0;34m\u001b[0m\u001b[0;34m\u001b[0m\u001b[0m\n",
      "\u001b[0;32m/usr/local/lib/python3.6/dist-packages/scipy/optimize/_differentiable_functions.py\u001b[0m in \u001b[0;36m__init__\u001b[0;34m(self, fun, x0, args, grad, hess, finite_diff_rel_step, finite_diff_bounds)\u001b[0m\n\u001b[1;32m     73\u001b[0m \u001b[0;34m\u001b[0m\u001b[0m\n\u001b[1;32m     74\u001b[0m         \u001b[0mself\u001b[0m\u001b[0;34m.\u001b[0m\u001b[0m_update_fun_impl\u001b[0m \u001b[0;34m=\u001b[0m \u001b[0mupdate_fun\u001b[0m\u001b[0;34m\u001b[0m\u001b[0;34m\u001b[0m\u001b[0m\n\u001b[0;32m---> 75\u001b[0;31m         \u001b[0mself\u001b[0m\u001b[0;34m.\u001b[0m\u001b[0m_update_fun\u001b[0m\u001b[0;34m(\u001b[0m\u001b[0;34m)\u001b[0m\u001b[0;34m\u001b[0m\u001b[0;34m\u001b[0m\u001b[0m\n\u001b[0m\u001b[1;32m     76\u001b[0m \u001b[0;34m\u001b[0m\u001b[0m\n\u001b[1;32m     77\u001b[0m         \u001b[0;31m# Gradient evaluation\u001b[0m\u001b[0;34m\u001b[0m\u001b[0;34m\u001b[0m\u001b[0;34m\u001b[0m\u001b[0m\n",
      "\u001b[0;32m/usr/local/lib/python3.6/dist-packages/scipy/optimize/_differentiable_functions.py\u001b[0m in \u001b[0;36m_update_fun\u001b[0;34m(self)\u001b[0m\n\u001b[1;32m    162\u001b[0m     \u001b[0;32mdef\u001b[0m \u001b[0m_update_fun\u001b[0m\u001b[0;34m(\u001b[0m\u001b[0mself\u001b[0m\u001b[0;34m)\u001b[0m\u001b[0;34m:\u001b[0m\u001b[0;34m\u001b[0m\u001b[0;34m\u001b[0m\u001b[0m\n\u001b[1;32m    163\u001b[0m         \u001b[0;32mif\u001b[0m \u001b[0;32mnot\u001b[0m \u001b[0mself\u001b[0m\u001b[0;34m.\u001b[0m\u001b[0mf_updated\u001b[0m\u001b[0;34m:\u001b[0m\u001b[0;34m\u001b[0m\u001b[0;34m\u001b[0m\u001b[0m\n\u001b[0;32m--> 164\u001b[0;31m             \u001b[0mself\u001b[0m\u001b[0;34m.\u001b[0m\u001b[0m_update_fun_impl\u001b[0m\u001b[0;34m(\u001b[0m\u001b[0;34m)\u001b[0m\u001b[0;34m\u001b[0m\u001b[0;34m\u001b[0m\u001b[0m\n\u001b[0m\u001b[1;32m    165\u001b[0m             \u001b[0mself\u001b[0m\u001b[0;34m.\u001b[0m\u001b[0mf_updated\u001b[0m \u001b[0;34m=\u001b[0m \u001b[0;32mTrue\u001b[0m\u001b[0;34m\u001b[0m\u001b[0;34m\u001b[0m\u001b[0m\n\u001b[1;32m    166\u001b[0m \u001b[0;34m\u001b[0m\u001b[0m\n",
      "\u001b[0;32m/usr/local/lib/python3.6/dist-packages/scipy/optimize/_differentiable_functions.py\u001b[0m in \u001b[0;36mupdate_fun\u001b[0;34m()\u001b[0m\n\u001b[1;32m     70\u001b[0m \u001b[0;34m\u001b[0m\u001b[0m\n\u001b[1;32m     71\u001b[0m         \u001b[0;32mdef\u001b[0m \u001b[0mupdate_fun\u001b[0m\u001b[0;34m(\u001b[0m\u001b[0;34m)\u001b[0m\u001b[0;34m:\u001b[0m\u001b[0;34m\u001b[0m\u001b[0;34m\u001b[0m\u001b[0m\n\u001b[0;32m---> 72\u001b[0;31m             \u001b[0mself\u001b[0m\u001b[0;34m.\u001b[0m\u001b[0mf\u001b[0m \u001b[0;34m=\u001b[0m \u001b[0mfun_wrapped\u001b[0m\u001b[0;34m(\u001b[0m\u001b[0mself\u001b[0m\u001b[0;34m.\u001b[0m\u001b[0mx\u001b[0m\u001b[0;34m)\u001b[0m\u001b[0;34m\u001b[0m\u001b[0;34m\u001b[0m\u001b[0m\n\u001b[0m\u001b[1;32m     73\u001b[0m \u001b[0;34m\u001b[0m\u001b[0m\n\u001b[1;32m     74\u001b[0m         \u001b[0mself\u001b[0m\u001b[0;34m.\u001b[0m\u001b[0m_update_fun_impl\u001b[0m \u001b[0;34m=\u001b[0m \u001b[0mupdate_fun\u001b[0m\u001b[0;34m\u001b[0m\u001b[0;34m\u001b[0m\u001b[0m\n",
      "\u001b[0;32m/usr/local/lib/python3.6/dist-packages/scipy/optimize/_differentiable_functions.py\u001b[0m in \u001b[0;36mfun_wrapped\u001b[0;34m(x)\u001b[0m\n\u001b[1;32m     67\u001b[0m         \u001b[0;32mdef\u001b[0m \u001b[0mfun_wrapped\u001b[0m\u001b[0;34m(\u001b[0m\u001b[0mx\u001b[0m\u001b[0;34m)\u001b[0m\u001b[0;34m:\u001b[0m\u001b[0;34m\u001b[0m\u001b[0;34m\u001b[0m\u001b[0m\n\u001b[1;32m     68\u001b[0m             \u001b[0mself\u001b[0m\u001b[0;34m.\u001b[0m\u001b[0mnfev\u001b[0m \u001b[0;34m+=\u001b[0m \u001b[0;36m1\u001b[0m\u001b[0;34m\u001b[0m\u001b[0;34m\u001b[0m\u001b[0m\n\u001b[0;32m---> 69\u001b[0;31m             \u001b[0;32mreturn\u001b[0m \u001b[0mfun\u001b[0m\u001b[0;34m(\u001b[0m\u001b[0mx\u001b[0m\u001b[0;34m,\u001b[0m \u001b[0;34m*\u001b[0m\u001b[0margs\u001b[0m\u001b[0;34m)\u001b[0m\u001b[0;34m\u001b[0m\u001b[0;34m\u001b[0m\u001b[0m\n\u001b[0m\u001b[1;32m     70\u001b[0m \u001b[0;34m\u001b[0m\u001b[0m\n\u001b[1;32m     71\u001b[0m         \u001b[0;32mdef\u001b[0m \u001b[0mupdate_fun\u001b[0m\u001b[0;34m(\u001b[0m\u001b[0;34m)\u001b[0m\u001b[0;34m:\u001b[0m\u001b[0;34m\u001b[0m\u001b[0;34m\u001b[0m\u001b[0m\n",
      "\u001b[0;31mTypeError\u001b[0m: multi_likelihood() missing 1 required positional argument: 'X'"
     ]
    }
   ],
   "source": [
    "#set initial guesses for 9 parameters\n",
    "# n1,n2,o11,o12,o21,o22,b1,b2,dirac\n",
    "X = df.loc[:,['time_elapsed','pos','diff']].to_numpy()\n",
    "rand = np.random.uniform\n",
    "params = np.random.uniform(.1,.9,size=9)\n",
    "# set linear constraint\n",
    "bounds = Bounds([0]*9,[np.inf]*9)\n",
    "#res = minimize(multi_likelihood, params, method=\"L-BFGS-B\",bounds = bounds)\n",
    "res = minimize(multi_likelihood, params, args = (l1,l2,X), method='trust-constr',  jac=\"2-point\", \n",
    "               hess=SR1(), options = {'maxiter':15}, bounds=bounds)"
   ]
  },
  {
   "cell_type": "code",
   "execution_count": null,
   "metadata": {
    "colab": {
     "base_uri": "https://localhost:8080/",
     "height": 137
    },
    "colab_type": "code",
    "id": "s7p884ul0jwW",
    "outputId": "eb3debf9-4e61-4f23-8361-a400610baffb"
   },
   "outputs": [
    {
     "name": "stdout",
     "output_type": "stream",
     "text": [
      "Q:\n",
      "[[0.00475717 0.05376816]\n",
      " [0.00349189 0.17037753]]\n",
      "Max Eigenvalue = 0.17150350296276523\n",
      "n1 = 0.00026557241880210275 n2 = 0.040552243198239094\n",
      "b1 = 0.007127560808029547 b2 = 6.333172461038169 dirac = 0.26100218676200865\n"
     ]
    }
   ],
   "source": [
    "# print results\n",
    "from numpy.linalg import eig\n",
    "n1,n2,o11,o12,o21,o22,b1,b2,dirac = res.x\n",
    "Q = np.array([[o11,o12],[o21,o22]])\n",
    "print(\"Q:\")\n",
    "print(Q)\n",
    "print(\"Max Eigenvalue =\",np.max(eig(Q)[0]))\n",
    "print(\"n1 = %s n2 = %s\" % (n1,n2))\n",
    "print(\"b1 = %s b2 = %s dirac = %s\" % (b1,b2,dirac))"
   ]
  },
  {
   "cell_type": "markdown",
   "metadata": {
    "colab_type": "text",
    "id": "vQb3zjXbhXL_"
   },
   "source": [
    "## Hawkes Process Simulation\n",
    "To test whether this works, I will simualate a bivariate Hawkes process and try to reproduce the parameters."
   ]
  },
  {
   "cell_type": "code",
   "execution_count": null,
   "metadata": {
    "colab": {
     "base_uri": "https://localhost:8080/",
     "height": 543
    },
    "colab_type": "code",
    "id": "h8LWRdJEYYUA",
    "outputId": "fd2607d8-e7ef-4a60-ac5a-d174b723550f"
   },
   "outputs": [
    {
     "data": {
      "image/png": "[encoded data removed]",
      "text/plain": [
       "<Figure size 1152x576 with 2 Axes>"
      ]
     },
     "execution_count": 24,
     "metadata": {
      "tags": []
     },
     "output_type": "execute_result"
    }
   ],
   "source": [
    "from tick.hawkes import SimuHawkesExpKernels\n",
    "from tick.plot import plot_point_process\n",
    "\n",
    "n_nodes = 2  # dimension of the Hawkes process\n",
    "adjacency = .1 * np.ones((n_nodes, n_nodes))\n",
    "adjacency[0, 1] = 0\n",
    "DECAY = 3\n",
    "decays = DECAY * np.ones((n_nodes, n_nodes))\n",
    "baseline = 0.5 * np.ones(n_nodes)\n",
    "hawkes = SimuHawkesExpKernels(adjacency=adjacency, decays=decays,\n",
    "                              baseline=baseline, verbose=False, seed=2398)\n",
    "\n",
    "run_time = 1000\n",
    "hawkes.end_time = run_time\n",
    "dt = 0.01\n",
    "hawkes.track_intensity(dt)\n",
    "hawkes.simulate()\n",
    "\n",
    "fig, ax = plt.subplots(n_nodes, 1, figsize=(16, 8), sharex=True, sharey=True)\n",
    "plot_point_process(hawkes, n_points=50000, t_min=10, max_jumps=80, ax=ax)"
   ]
  },
  {
   "cell_type": "code",
   "execution_count": null,
   "metadata": {
    "colab": {
     "base_uri": "https://localhost:8080/",
     "height": 186
    },
    "colab_type": "code",
    "id": "PKuLxyCLZmOO",
    "outputId": "8f8dae0e-5f71-433c-b89f-77dbfe1bf2b3"
   },
   "outputs": [
    {
     "name": "stdout",
     "output_type": "stream",
     "text": [
      "0.03333333333333333 vs estimated: 0.034288073300970896\n",
      "0.025 vs estimated: 0.024477582758799767\n"
     ]
    },
    {
     "data": {
      "text/plain": [
       "array([[5.10292115e-01, 0.00000000e+00, 5.36131855e+01],\n",
       "       [6.84644119e-01, 1.00000000e+00, 2.16524124e+01],\n",
       "       [1.16007015e+00, 0.00000000e+00, 1.63108930e+01],\n",
       "       ...,\n",
       "       [9.98814066e+02, 0.00000000e+00, 7.13596162e+00],\n",
       "       [9.99041536e+02, 0.00000000e+00, 2.25750171e+00],\n",
       "       [9.99904626e+02, 1.00000000e+00, 3.18509589e+01]])"
      ]
     },
     "execution_count": 25,
     "metadata": {
      "tags": []
     },
     "output_type": "execute_result"
    }
   ],
   "source": [
    "# want to create array of (ti, di, xi):\n",
    "# simulate iid marks \n",
    "lambda1 = 30\n",
    "lambda2 = 40\n",
    "neg_marks = np.random.exponential(scale=lambda1,size=len(hawkes.timestamps[0]))\n",
    "l1 = expo_MLE(neg_marks)\n",
    "print(1/lambda1,\"vs estimated:\", l1)\n",
    "pos_marks = np.random.exponential(scale=lambda2,size=len(hawkes.timestamps[1]))\n",
    "l2 = expo_MLE(pos_marks)\n",
    "print(1/lambda2,\"vs estimated:\",l2)\n",
    "neg_times = np.column_stack((hawkes.timestamps[0], np.zeros_like(hawkes.timestamps[0]),neg_marks))\n",
    "pos_times = np.column_stack((hawkes.timestamps[1], np.ones_like(hawkes.timestamps[1]),pos_marks))\n",
    "times = np.concatenate((neg_times,pos_times))\n",
    "times = times[times[:,0].argsort()]\n",
    "times"
   ]
  },
  {
   "cell_type": "code",
   "execution_count": null,
   "metadata": {
    "colab": {
     "base_uri": "https://localhost:8080/",
     "height": 1000
    },
    "colab_type": "code",
    "id": "eqKE4Hiia7f_",
    "outputId": "7b0f24fd-5abd-4bae-b797-d931e81efebb"
   },
   "outputs": [
    {
     "name": "stdout",
     "output_type": "stream",
     "text": [
      "Negative Likelihood: 31303.429121783556\n",
      "Negative Likelihood: 31303.429093879437\n",
      "Negative Likelihood: 31303.429056334393\n",
      "Negative Likelihood: 31303.429124042683\n",
      "Negative Likelihood: 31303.429123482467\n",
      "Negative Likelihood: 31303.42912559037\n",
      "Negative Likelihood: 31303.42912487624\n",
      "Negative Likelihood: 31303.42912298775\n",
      "Negative Likelihood: 31303.42912193403\n",
      "Negative Likelihood: 31303.429738001134\n",
      "Negative Likelihood: 18023.859960318383\n",
      "Negative Likelihood: 18023.859948825455\n",
      "Negative Likelihood: 18023.859943675205\n",
      "Negative Likelihood: 18023.85996479261\n",
      "Negative Likelihood: 18023.859963569354\n",
      "Negative Likelihood: 18023.8599691587\n",
      "Negative Likelihood: 18023.859966794444\n",
      "Negative Likelihood: 18023.859960738107\n",
      "Negative Likelihood: 18023.859960359863\n",
      "Negative Likelihood: 18023.860547112105\n",
      "Negative Likelihood: 10104.934328902893\n",
      "Negative Likelihood: 10104.934323429588\n",
      "Negative Likelihood: 10104.934320994558\n",
      "Negative Likelihood: 10104.934330968674\n",
      "Negative Likelihood: 10104.934330399057\n",
      "Negative Likelihood: 10104.934333881269\n",
      "Negative Likelihood: 10104.934332518273\n",
      "Negative Likelihood: 10104.934329087284\n",
      "Negative Likelihood: 10104.934328946343\n",
      "Negative Likelihood: 10104.930303306675\n",
      "Negative Likelihood: 7977.4784621670415\n",
      "Negative Likelihood: 7977.4784477896255\n",
      "Negative Likelihood: 7977.478463277506\n",
      "Negative Likelihood: 7977.47846388156\n",
      "Negative Likelihood: 7977.478463403492\n",
      "Negative Likelihood: 7977.478469386412\n",
      "Negative Likelihood: 7977.47846826659\n",
      "Negative Likelihood: 7977.478464236124\n",
      "Negative Likelihood: 7977.478462129789\n",
      "Negative Likelihood: 7977.4782652635295\n",
      "Negative Likelihood: 7810.955381229185\n",
      "Negative Likelihood: 7810.955371073907\n",
      "Negative Likelihood: 7810.955382261236\n",
      "Negative Likelihood: 7810.955383548955\n",
      "Negative Likelihood: 7810.955382698685\n",
      "Negative Likelihood: 7810.9553869959655\n",
      "Negative Likelihood: 7810.955386977948\n",
      "Negative Likelihood: 7810.955383946397\n",
      "Negative Likelihood: 7810.955381145319\n",
      "Negative Likelihood: 7810.9552396397985\n",
      "Negative Likelihood: 7632.383418241527\n",
      "Negative Likelihood: 7632.38341462282\n",
      "Negative Likelihood: 7632.383419037518\n",
      "Negative Likelihood: 7632.383421738963\n",
      "Negative Likelihood: 7632.383420496824\n",
      "Negative Likelihood: 7632.383423833609\n",
      "Negative Likelihood: 7632.383423786692\n",
      "Negative Likelihood: 7632.383418311856\n",
      "Negative Likelihood: 7632.383418127134\n",
      "Negative Likelihood: 7632.383371546905\n",
      "Negative Likelihood: 7594.1795879454585\n",
      "Negative Likelihood: 7594.179586511309\n",
      "Negative Likelihood: 7594.17958862619\n",
      "Negative Likelihood: 7594.179591870165\n",
      "Negative Likelihood: 7594.179590485204\n",
      "Negative Likelihood: 7594.179593569701\n",
      "Negative Likelihood: 7594.179593485378\n",
      "Negative Likelihood: 7594.1795881407415\n",
      "Negative Likelihood: 7594.179587838762\n",
      "Negative Likelihood: 7594.179579869202\n",
      "Negative Likelihood: 7580.66167710451\n",
      "Negative Likelihood: 7580.661676928825\n",
      "Negative Likelihood: 7580.661677621769\n",
      "Negative Likelihood: 7580.661681266865\n",
      "Negative Likelihood: 7580.661679774208\n",
      "Negative Likelihood: 7580.661682669237\n",
      "Negative Likelihood: 7580.661682615859\n",
      "Negative Likelihood: 7580.661677133987\n",
      "Negative Likelihood: 7580.661677013455\n",
      "Negative Likelihood: 7580.661689948765\n",
      "Negative Likelihood: 7568.492196331976\n",
      "Negative Likelihood: 7568.49219693575\n",
      "Negative Likelihood: 7568.492196635765\n",
      "Negative Likelihood: 7568.492200547213\n",
      "Negative Likelihood: 7568.492198960798\n",
      "Negative Likelihood: 7568.492201853273\n",
      "Negative Likelihood: 7568.492201805521\n",
      "Negative Likelihood: 7568.492196360931\n",
      "Negative Likelihood: 7568.492196268958\n",
      "Negative Likelihood: 7568.492218891281\n",
      "Negative Likelihood: 7548.4082982536975\n",
      "Negative Likelihood: 7548.408298577865\n",
      "Negative Likelihood: 7548.408298274188\n",
      "Negative Likelihood: 7548.408302184492\n",
      "Negative Likelihood: 7548.408300473233\n",
      "Negative Likelihood: 7548.40830370208\n",
      "Negative Likelihood: 7548.408303661726\n",
      "Negative Likelihood: 7548.4082982814425\n",
      "Negative Likelihood: 7548.408298237583\n",
      "Negative Likelihood: 7548.408310411595\n",
      "Negative Likelihood: 7543.319166249086\n",
      "Negative Likelihood: 7543.319166168751\n",
      "Negative Likelihood: 7543.319166202618\n",
      "Negative Likelihood: 7543.3191700001735\n",
      "Negative Likelihood: 7543.3191682452125\n",
      "Negative Likelihood: 7543.319171681269\n",
      "Negative Likelihood: 7543.31917163763\n",
      "Negative Likelihood: 7543.319166275616\n",
      "Negative Likelihood: 7543.319166247609\n",
      "Negative Likelihood: 7543.31916958023\n",
      "Negative Likelihood: 7542.881106179078\n",
      "Negative Likelihood: 7542.8811061297265\n",
      "Negative Likelihood: 7542.881106122678\n",
      "Negative Likelihood: 7542.881109894765\n",
      "Negative Likelihood: 7542.881108168631\n",
      "Negative Likelihood: 7542.881111673472\n",
      "Negative Likelihood: 7542.881111565327\n",
      "Negative Likelihood: 7542.881106196106\n",
      "Negative Likelihood: 7542.881106178942\n",
      "Negative Likelihood: 7542.881109628289\n",
      "Negative Likelihood: 7542.8753543747225\n",
      "Negative Likelihood: 7542.875354330227\n",
      "Negative Likelihood: 7542.875354322443\n",
      "Negative Likelihood: 7542.87535809129\n",
      "Negative Likelihood: 7542.875356365093\n",
      "Negative Likelihood: 7542.87535986999\n",
      "Negative Likelihood: 7542.875359761629\n",
      "Negative Likelihood: 7542.875354391748\n",
      "Negative Likelihood: 7542.875354374567\n",
      "Negative Likelihood: 7542.875357398705\n",
      "Negative Likelihood: 7542.853777557269\n",
      "Negative Likelihood: 7542.853777563179\n",
      "Negative Likelihood: 7542.853777540364\n",
      "Negative Likelihood: 7542.853781284303\n",
      "Negative Likelihood: 7542.853779556854\n",
      "Negative Likelihood: 7542.853783059491\n",
      "Negative Likelihood: 7542.85378295017\n",
      "Negative Likelihood: 7542.853777574295\n",
      "Negative Likelihood: 7542.853777557131\n",
      "Negative Likelihood: 7542.853777390048\n",
      "Negative Likelihood: 18272.430486853096\n",
      "Negative Likelihood: 18272.42760592922\n",
      "Negative Likelihood: 18272.43056238451\n",
      "Negative Likelihood: 18272.42967758443\n",
      "Negative Likelihood: 18272.42980561768\n",
      "Negative Likelihood: 18272.430496585854\n",
      "Negative Likelihood: 18272.43049571848\n",
      "Negative Likelihood: 18272.430486243153\n",
      "Negative Likelihood: 18272.43048685609\n",
      "Negative Likelihood: 18272.430988714008\n",
      "Negative Likelihood: 18272.430486853096\n",
      "Negative Likelihood: 18272.427605929217\n",
      "Negative Likelihood: 18272.43056238451\n",
      "Negative Likelihood: 18272.42967758443\n",
      "Negative Likelihood: 18272.42980561768\n",
      "Negative Likelihood: 18272.430496585854\n",
      "Negative Likelihood: 18272.43049571848\n",
      "Negative Likelihood: 18272.430486243153\n",
      "Negative Likelihood: 18272.43048685609\n",
      "Negative Likelihood: 18272.430988714004\n",
      "Negative Likelihood: 13125.570057913756\n",
      "Negative Likelihood: 13125.570058496916\n",
      "Negative Likelihood: 13125.570134358306\n",
      "Negative Likelihood: 13125.570061927254\n",
      "Negative Likelihood: 13125.57006016215\n",
      "Negative Likelihood: 13125.570067659733\n",
      "Negative Likelihood: 13125.570066787252\n",
      "Negative Likelihood: 13125.570057922952\n",
      "Negative Likelihood: 13125.57005791368\n",
      "Negative Likelihood: 13125.570560899472\n",
      "Negative Likelihood: 13125.570057913756\n",
      "Negative Likelihood: 13125.570058496916\n",
      "Negative Likelihood: 13125.570134358306\n",
      "Negative Likelihood: 13125.570061927254\n",
      "Negative Likelihood: 13125.57006016215\n",
      "Negative Likelihood: 13125.570067659733\n",
      "Negative Likelihood: 13125.570066787252\n",
      "Negative Likelihood: 13125.570057922952\n",
      "Negative Likelihood: 13125.57005791368\n",
      "Negative Likelihood: 13125.570560899472\n"
     ]
    },
    {
     "name": "stderr",
     "output_type": "stream",
     "text": [
      "/usr/local/lib/python3.6/dist-packages/scipy/optimize/_hessian_update_strategy.py:187: UserWarning: delta_grad == 0.0. Check if the approximated function is linear. If the function is linear better results can be obtained by defining the Hessian as zero instead of using quasi-Newton approximations.\n",
      "  'approximations.', UserWarning)\n"
     ]
    },
    {
     "name": "stdout",
     "output_type": "stream",
     "text": [
      "Negative Likelihood: 7542.842101759974\n",
      "Negative Likelihood: 7542.842101766121\n",
      "Negative Likelihood: 7542.842101755065\n",
      "Negative Likelihood: 7542.842105229376\n",
      "Negative Likelihood: 7542.842103761519\n",
      "Negative Likelihood: 7542.842107740459\n",
      "Negative Likelihood: 7542.842107155388\n",
      "Negative Likelihood: 7542.842101754964\n",
      "Negative Likelihood: 7542.8421017596775\n",
      "Negative Likelihood: 7542.842102162031\n",
      "Negative Likelihood: 7542.842101759974\n",
      "Negative Likelihood: 7542.842101766122\n",
      "Negative Likelihood: 7542.8421017550645\n",
      "Negative Likelihood: 7542.842105229376\n",
      "Negative Likelihood: 7542.842103761519\n",
      "Negative Likelihood: 7542.842107740458\n",
      "Negative Likelihood: 7542.842107155388\n",
      "Negative Likelihood: 7542.842101754963\n",
      "Negative Likelihood: 7542.8421017596775\n",
      "Negative Likelihood: 7542.842102162031\n",
      "Negative Likelihood: 8163.367029466499\n",
      "Negative Likelihood: 8163.367025183414\n",
      "Negative Likelihood: 8163.367046423669\n",
      "Negative Likelihood: 8163.3670320346955\n",
      "Negative Likelihood: 8163.367030398995\n",
      "Negative Likelihood: 8163.367037364296\n",
      "Negative Likelihood: 8163.367036926475\n",
      "Negative Likelihood: 8163.367029483847\n",
      "Negative Likelihood: 8163.36702946637\n",
      "Negative Likelihood: 8163.367313219303\n",
      "Negative Likelihood: 7542.85571259637\n",
      "Negative Likelihood: 7542.855712575208\n",
      "Negative Likelihood: 7542.855712621475\n",
      "Negative Likelihood: 7542.855716221972\n",
      "Negative Likelihood: 7542.855714590163\n",
      "Negative Likelihood: 7542.855718282636\n",
      "Negative Likelihood: 7542.855717998206\n",
      "Negative Likelihood: 7542.855712604251\n",
      "Negative Likelihood: 7542.855712596181\n",
      "Negative Likelihood: 7542.8557121453705\n",
      "Negative Likelihood: 7542.853893811169\n",
      "Negative Likelihood: 7542.853893801993\n",
      "Negative Likelihood: 7542.853893799049\n",
      "Negative Likelihood: 7542.853897439881\n",
      "Negative Likelihood: 7542.853895807949\n",
      "Negative Likelihood: 7542.85389948863\n",
      "Negative Likelihood: 7542.853899205196\n",
      "Negative Likelihood: 7542.853893819025\n",
      "Negative Likelihood: 7542.853893810972\n",
      "Negative Likelihood: 7542.853893831163\n",
      "Negative Likelihood: 7543.014839431696\n",
      "Negative Likelihood: 7543.014839331902\n",
      "Negative Likelihood: 7543.014839346342\n",
      "Negative Likelihood: 7543.014842790041\n",
      "Negative Likelihood: 7543.014841407604\n",
      "Negative Likelihood: 7543.01484553635\n",
      "Negative Likelihood: 7543.014844807657\n",
      "Negative Likelihood: 7543.014839433304\n",
      "Negative Likelihood: 7543.014839431403\n",
      "Negative Likelihood: 7543.014834423417\n",
      "Negative Likelihood: 7542.968021624549\n",
      "Negative Likelihood: 7542.968021521469\n",
      "Negative Likelihood: 7542.968021593613\n",
      "Negative Likelihood: 7542.96802498465\n",
      "Negative Likelihood: 7542.968023601908\n",
      "Negative Likelihood: 7542.9680277470325\n",
      "Negative Likelihood: 7542.96802701528\n",
      "Negative Likelihood: 7542.96802162617\n",
      "Negative Likelihood: 7542.968021624247\n",
      "Negative Likelihood: 7542.968021834255\n",
      "Negative Likelihood: 8002.820916044389\n",
      "Negative Likelihood: 8002.820934985276\n",
      "Negative Likelihood: 8002.820921914165\n",
      "Negative Likelihood: 8002.820921809502\n",
      "Negative Likelihood: 8002.820920044094\n",
      "Negative Likelihood: 8002.820923308176\n",
      "Negative Likelihood: 8002.8209223580325\n",
      "Negative Likelihood: 8002.820916048961\n",
      "Negative Likelihood: 8002.820916044084\n",
      "Negative Likelihood: 8002.820836112031\n",
      "Negative Likelihood: 8002.8209160443885\n",
      "Negative Likelihood: 8002.820934985276\n",
      "Negative Likelihood: 8002.820921914165\n",
      "Negative Likelihood: 8002.8209218095\n",
      "Negative Likelihood: 8002.820920044094\n",
      "Negative Likelihood: 8002.820923308175\n",
      "Negative Likelihood: 8002.820922358031\n",
      "Negative Likelihood: 8002.8209160489605\n",
      "Negative Likelihood: 8002.820916044083\n",
      "Negative Likelihood: 8002.8208361120305\n",
      "Negative Likelihood: 7681.55736707642\n",
      "Negative Likelihood: 7681.557376494939\n",
      "Negative Likelihood: 7681.557369995802\n",
      "Negative Likelihood: 7681.557372060912\n",
      "Negative Likelihood: 7681.557370419407\n",
      "Negative Likelihood: 7681.557373852294\n",
      "Negative Likelihood: 7681.557372997495\n",
      "Negative Likelihood: 7681.557367079997\n",
      "Negative Likelihood: 7681.557367076113\n",
      "Negative Likelihood: 7681.557329557467\n",
      "Negative Likelihood: 7681.557367076419\n",
      "Negative Likelihood: 7681.557376494939\n",
      "Negative Likelihood: 7681.557369995802\n",
      "Negative Likelihood: 7681.557372060912\n",
      "Negative Likelihood: 7681.557370419407\n",
      "Negative Likelihood: 7681.557373852294\n",
      "Negative Likelihood: 7681.557372997495\n",
      "Negative Likelihood: 7681.557367079997\n",
      "Negative Likelihood: 7681.557367076113\n",
      "Negative Likelihood: 7681.557329557467\n",
      "Negative Likelihood: 7581.266568912509\n",
      "Negative Likelihood: 7581.266573570061\n",
      "Negative Likelihood: 7581.266570356723\n",
      "Negative Likelihood: 7581.266573255824\n",
      "Negative Likelihood: 7581.26657171638\n",
      "Negative Likelihood: 7581.266575386891\n",
      "Negative Likelihood: 7581.266574589402\n",
      "Negative Likelihood: 7581.266568915288\n",
      "Negative Likelihood: 7581.266568912199\n",
      "Negative Likelihood: 7581.266550793553\n",
      "Negative Likelihood: 7542.963758512545\n",
      "Negative Likelihood: 7542.963758608411\n",
      "Negative Likelihood: 7542.963758525585\n",
      "Negative Likelihood: 7542.96376192425\n",
      "Negative Likelihood: 7542.96376053344\n",
      "Negative Likelihood: 7542.963764646911\n",
      "Negative Likelihood: 7542.963763912717\n",
      "Negative Likelihood: 7542.96375851422\n",
      "Negative Likelihood: 7542.963758512252\n",
      "Negative Likelihood: 7542.963758596585\n",
      "Negative Likelihood: 7542.947511273744\n",
      "Negative Likelihood: 7542.947511251422\n",
      "Negative Likelihood: 7542.947511272494\n",
      "Negative Likelihood: 7542.947514654488\n",
      "Negative Likelihood: 7542.947513268704\n",
      "Negative Likelihood: 7542.947517404644\n",
      "Negative Likelihood: 7542.947516670778\n",
      "Negative Likelihood: 7542.947511275394\n",
      "Negative Likelihood: 7542.947511273447\n",
      "Negative Likelihood: 7542.947511227914\n",
      "Negative Likelihood: 7542.951008756629\n",
      "Negative Likelihood: 7542.951008760956\n",
      "Negative Likelihood: 7542.951008754282\n",
      "Negative Likelihood: 7542.951012080786\n",
      "Negative Likelihood: 7542.951010757424\n",
      "Negative Likelihood: 7542.951015004312\n",
      "Negative Likelihood: 7542.951014153592\n",
      "Negative Likelihood: 7542.951008757795\n",
      "Negative Likelihood: 7542.95100875633\n",
      "Negative Likelihood: 7542.951008858662\n",
      "Negative Likelihood: 7542.957973258151\n",
      "Negative Likelihood: 7542.957973256945\n",
      "Negative Likelihood: 7542.957973254302\n",
      "Negative Likelihood: 7542.957976461522\n",
      "Negative Likelihood: 7542.957975257202\n",
      "Negative Likelihood: 7542.957979724463\n",
      "Negative Likelihood: 7542.957978654857\n",
      "Negative Likelihood: 7542.957973258653\n",
      "Negative Likelihood: 7542.957973257841\n",
      "Negative Likelihood: 7542.957973109682\n",
      "Negative Likelihood: 7542.977768310135\n",
      "Negative Likelihood: 7542.9777683796765\n",
      "Negative Likelihood: 7542.977768274652\n",
      "Negative Likelihood: 7542.977771339112\n",
      "Negative Likelihood: 7542.977770323871\n",
      "Negative Likelihood: 7542.97777512666\n",
      "Negative Likelihood: 7542.977773700846\n",
      "Negative Likelihood: 7542.977768310079\n",
      "Negative Likelihood: 7542.977768309822\n",
      "Negative Likelihood: 7542.977769055127\n",
      "Negative Likelihood: 7542.965902505241\n",
      "Negative Likelihood: 7542.965902506872\n",
      "Negative Likelihood: 7542.965902496184\n",
      "Negative Likelihood: 7542.965905514651\n",
      "Negative Likelihood: 7542.965904503768\n",
      "Negative Likelihood: 7542.965909328937\n",
      "Negative Likelihood: 7542.965907901307\n",
      "Negative Likelihood: 7542.965902505179\n",
      "Negative Likelihood: 7542.965902504937\n",
      "Negative Likelihood: 7542.965902531327\n"
     ]
    }
   ],
   "source": [
    "X = times\n",
    "# n1,n2,o11,o12,o21,o22,b1,b2,dirac\n",
    "params = np.random.uniform(.1,.9,size=9)\n",
    "bounds = Bounds([0]*9,[np.inf]*9)\n",
    "\n",
    "res = minimize(multi_likelihood, params, args = (l1,l2,X), \n",
    "               method='trust-constr', jac=\"2-point\", \n",
    "               hess=SR1(), options = {'maxiter':30}, bounds=bounds)"
   ]
  },
  {
   "cell_type": "markdown",
   "metadata": {
    "colab_type": "text",
    "id": "5X8Lx65PKnjX"
   },
   "source": [
    "As the code below shows, the method isn't working right now, but I should fix it soon...."
   ]
  },
  {
   "cell_type": "code",
   "execution_count": null,
   "metadata": {
    "colab": {
     "base_uri": "https://localhost:8080/",
     "height": 186
    },
    "colab_type": "code",
    "id": "P1ARWiyrqORQ",
    "outputId": "bb15829c-1f6a-4364-d85a-ce88623ae402"
   },
   "outputs": [
    {
     "name": "stdout",
     "output_type": "stream",
     "text": [
      "Adjacency Real [[0.1 0. ]\n",
      " [0.1 0.1]]\n",
      "Adjancency Found [[1.67644630e-06 1.76557654e-06]\n",
      " [7.73570466e-07 1.99853650e-06]]\n",
      "Baseline Real [0.5 0.5]\n",
      "Baseline Found 1.2241164526351096 1.2241171573617593\n",
      "Spectral Radius Real: 0.1\n",
      "Spectral Radius Found: 3.017208903743349e-06\n",
      "b1 = 5.803538773446652 b2 = 6.55946429284982 dirac = 0.02824975597743347\n"
     ]
    }
   ],
   "source": [
    "# print results\n",
    "from numpy.linalg import eig\n",
    "\n",
    "n1,n2,o11,o12,o21,o22,b1,b2,dirac = res.x\n",
    "Q = np.array([[o11,o12],[o21,o22]])\n",
    "\n",
    "# correct results:\n",
    "print(\"Adjacency Real\", adjacency)\n",
    "print(\"Adjancency Found\",Q)\n",
    "print(\"Baseline Real\",baseline)\n",
    "print(\"Baseline Found\",n1,n2)\n",
    "print(\"Spectral Radius Real:\",hawkes.spectral_radius())\n",
    "print(\"Spectral Radius Found:\", np.max(eig(Q)[0]))\n",
    "print(\"b1 = %s b2 = %s dirac = %s\" % (b1,b2,dirac))"
   ]
  },
  {
   "cell_type": "code",
   "execution_count": null,
   "metadata": {
    "colab": {
     "base_uri": "https://localhost:8080/",
     "height": 54
    },
    "colab_type": "code",
    "id": "5GM5UGawDiKn",
    "outputId": "75256e41-7f85-457d-b857-7fc2118a284c"
   },
   "outputs": [
    {
     "data": {
      "text/plain": [
       "array(0.1)"
      ]
     },
     "execution_count": 28,
     "metadata": {
      "tags": []
     },
     "output_type": "execute_result"
    }
   ],
   "source": [
    "hawkes.spectral_radius()"
   ]
  },
  {
   "cell_type": "code",
   "execution_count": null,
   "metadata": {
    "colab": {
     "base_uri": "https://localhost:8080/",
     "height": 307
    },
    "colab_type": "code",
    "id": "U3rF_PLszscS",
    "outputId": "4747ef7f-df31-4630-d5ff-1b09af6316e2"
   },
   "outputs": [
    {
     "data": {
      "image/png": "[encoded data removed]",
      "text/plain": [
       "<Figure size 432x288 with 4 Axes>"
      ]
     },
     "execution_count": 91,
     "metadata": {
      "tags": []
     },
     "output_type": "execute_result"
    }
   ],
   "source": [
    "from tick.plot import plot_hawkes_kernels\n",
    "from tick.hawkes import SimuHawkesSumExpKernels, SimuHawkesMulti, \\\n",
    "    HawkesSumExpKern\n",
    "\n",
    "end_time = 1000\n",
    "n_realizations = 10\n",
    "\n",
    "decays = [.5, 2., 6.]\n",
    "baseline = [0.12, 0.07]\n",
    "adjacency = [[[0, .1, .4], [.2, 0., .2]],\n",
    "             [[0, 0, 0], [.6, .3, 0]]]\n",
    "\n",
    "hawkes_exp_kernels = SimuHawkesSumExpKernels(\n",
    "    adjacency=adjacency, decays=decays, baseline=baseline,\n",
    "    end_time=end_time, verbose=False, seed=1039)\n",
    "\n",
    "multi = SimuHawkesMulti(hawkes_exp_kernels, n_simulations=n_realizations)\n",
    "\n",
    "multi.end_time = [(i + 1) / 10 * end_time for i in range(n_realizations)]\n",
    "multi.simulate()\n",
    "\n",
    "learner = HawkesSumExpKern(decays, penalty='elasticnet',\n",
    "                           elastic_net_ratio=0.8)\n",
    "learner.fit(multi.timestamps)\n",
    "\n",
    "plot_hawkes_kernels(learner, hawkes=hawkes_exp_kernels, show=True)"
   ]
  },
  {
   "cell_type": "markdown",
   "metadata": {
    "colab_type": "text",
    "id": "SDr4pkxb43E-"
   },
   "source": [
    "While my implementation works, it's much slower than the tick.Hawkes, so for now on, I'm going to use the tick.Hawkes to fit the dataset."
   ]
  },
  {
   "cell_type": "code",
   "execution_count": null,
   "metadata": {
    "colab": {
     "base_uri": "https://localhost:8080/",
     "height": 54
    },
    "colab_type": "code",
    "id": "DOe7OxxFJUy1",
    "outputId": "87bd17bc-a6bc-4dfd-acf1-e0ab4fa31c93"
   },
   "outputs": [
    {
     "data": {
      "text/plain": [
       "<tick.hawkes.inference.hawkes_expkern_fixeddecay.HawkesExpKern at 0x7f4d6a3fbf98>"
      ]
     },
     "execution_count": 7,
     "metadata": {
      "tags": []
     },
     "output_type": "execute_result"
    }
   ],
   "source": [
    "# fit the times to a bivariate hawkes w/ exp decay kernel\n",
    "from tick.plot import plot_hawkes_kernels\n",
    "from tick.hawkes import SimuHawkesSumExpKernels, SimuHawkesMulti, \\\n",
    "    HawkesSumExpKern, SimuHawkesExpKernels, HawkesExpKern\n",
    "\n",
    "end_time = 1000\n",
    "n_realizations = 10\n",
    "\n",
    "decays = np.array([[.1,.1],[.1,.1]])\n",
    "baseline = np.array([.05,.02])\n",
    "adjacency = np.array([[.8,0],[.1,.75]])\n",
    "\n",
    "hawkes_exp_kernels = SimuHawkesExpKernels(adjacency=adjacency, \n",
    "                                          decays=decays, baseline=baseline,\n",
    "                                          end_time=end_time,verbose=False,\n",
    "                                          seed=1008)\n",
    "# simulate bivariate hawkes\n",
    "multi = SimuHawkesMulti(hawkes_exp_kernels, n_simulations=n_realizations)\n",
    "\n",
    "multi.end_time = [(i + 1) / 10 * end_time for i in range(n_realizations)]\n",
    "multi.simulate()\n",
    "\n",
    "learner = HawkesExpKern(decays, penalty='elasticnet',\n",
    "                           elastic_net_ratio=0.8)\n",
    "learner.fit(multi.timestamps)\n",
    "\n",
    "#plot_hawkes_kernels(learner, hawkes=hawkes_exp_kernels, show=True)"
   ]
  },
  {
   "cell_type": "code",
   "execution_count": null,
   "metadata": {
    "colab": {
     "base_uri": "https://localhost:8080/",
     "height": 71
    },
    "colab_type": "code",
    "id": "p7LWnBloOFTe",
    "outputId": "267d5e40-d7b5-43d7-c10f-5b0515cc090c"
   },
   "outputs": [
    {
     "data": {
      "text/plain": [
       "array([[0.80778191, 0.05524819],\n",
       "       [0.1169097 , 0.72094968]])"
      ]
     },
     "execution_count": 8,
     "metadata": {
      "tags": []
     },
     "output_type": "execute_result"
    }
   ],
   "source": [
    "learner.adjacency"
   ]
  },
  {
   "cell_type": "code",
   "execution_count": null,
   "metadata": {
    "colab": {
     "base_uri": "https://localhost:8080/",
     "height": 54
    },
    "colab_type": "code",
    "id": "coEO99hOU7ag",
    "outputId": "c48667fc-6715-4a57-fc00-55ba08f63872"
   },
   "outputs": [
    {
     "data": {
      "text/plain": [
       "array([0.008002  , 0.00785356])"
      ]
     },
     "execution_count": 88,
     "metadata": {
      "tags": []
     },
     "output_type": "execute_result"
    }
   ],
   "source": [
    "learner.baseline"
   ]
  },
  {
   "cell_type": "code",
   "execution_count": null,
   "metadata": {
    "colab": {
     "base_uri": "https://localhost:8080/",
     "height": 71
    },
    "colab_type": "code",
    "id": "cUqz0y0fVPfY",
    "outputId": "a44b1a1f-1f14-424d-d086-6ff8ec048ec6"
   },
   "outputs": [
    {
     "data": {
      "text/plain": [
       "array([[0.1, 0.1],\n",
       "       [0.1, 0.1]])"
      ]
     },
     "execution_count": 83,
     "metadata": {
      "tags": []
     },
     "output_type": "execute_result"
    }
   ],
   "source": [
    "learner.decays"
   ]
  },
  {
   "cell_type": "code",
   "execution_count": null,
   "metadata": {
    "colab": {
     "base_uri": "https://localhost:8080/",
     "height": 203
    },
    "colab_type": "code",
    "id": "qMU4fKw2WSn_",
    "outputId": "02b2fdc5-676b-4289-e08e-99f57bec0aca"
   },
   "outputs": [
    {
     "name": "stdout",
     "output_type": "stream",
     "text": [
      "[0.00785427 0.00769709]\n",
      "[0.01341816 0.01263723]\n",
      "[0.01786069 0.01708518]\n",
      "[0.02188336 0.02123408]\n",
      "[0.02481288 0.02428914]\n",
      "[0.02706095 0.02665244]\n",
      "[0.02867335 0.02836103]\n",
      "[0.02998879 0.02972604]\n",
      "[0.03086477 0.03065423]\n",
      "[0.03161189 0.03144338]\n"
     ]
    }
   ],
   "source": [
    "# fit to my data\n",
    "X = df.loc[:,['time_elapsed','pos','diff']].to_numpy()\n",
    "time1 = X[np.where(X[:,1]==0),0][0]\n",
    "time2 = X[np.where(X[:,1]==1),0][0]\n",
    "timestamps = list((time1, time2))\n",
    "scores = []\n",
    "for i, d in enumerate(np.linspace(.01,.5,num=10)):\n",
    "  decays = np.array([[d,d],[d,d]])\n",
    "  learner = HawkesExpKern(decays, penalty='elasticnet',\n",
    "                           elastic_net_ratio=0.8)\n",
    "  learner.fit(timestamps)\n",
    "  #scores.append(learner.score(events=timestamps))\n",
    "  #print(learner.adjacency)\n",
    "  #print(learner.baseline)"
   ]
  },
  {
   "cell_type": "code",
   "execution_count": null,
   "metadata": {
    "colab": {
     "base_uri": "https://localhost:8080/",
     "height": 203
    },
    "colab_type": "code",
    "id": "Wv72pIysaWcp",
    "outputId": "c647bd48-51d7-4fd6-e1eb-79c6ea63eb85"
   },
   "outputs": [
    {
     "data": {
      "text/plain": [
       "[0.057108419892608855,\n",
       " 0.051815369699166676,\n",
       " 0.04499329287164072,\n",
       " 0.040296726091248104,\n",
       " 0.037258335347991244,\n",
       " 0.035325385628648565,\n",
       " 0.03411434348789247,\n",
       " 0.033371068269752203,\n",
       " 0.03293373471162283,\n",
       " 0.03269123016219099]"
      ]
     },
     "execution_count": 14,
     "metadata": {
      "tags": []
     },
     "output_type": "execute_result"
    }
   ],
   "source": [
    "scores"
   ]
  },
  {
   "cell_type": "code",
   "execution_count": null,
   "metadata": {
    "colab": {},
    "colab_type": "code",
    "id": "GX2Msg3HcPW7"
   },
   "outputs": [],
   "source": [
    "from tick.plot import plot_point_process\n",
    "\n",
    "fig, ax = plt.subplots(2, 1, figsize=(16, 8), sharex=True, sharey=True)\n",
    "plot_point_process(timestamps, n_points=50000, t_min=10, max_jumps=30, ax=ax)"
   ]
  },
  {
   "cell_type": "markdown",
   "metadata": {
    "colab_type": "text",
    "id": "nkLhCTJnS5nT"
   },
   "source": [
    "# Fit to my data"
   ]
  },
  {
   "cell_type": "markdown",
   "metadata": {
    "colab_type": "text",
    "id": "kzDYSou2Hcy3"
   },
   "source": [
    "To build the model, I want to select similar stocks with 5 days before earnings and 5 days after (check what timeframe makes sense). I want to model each trading day as a stochastic process with different parameters that change based on the stock type, earnings report and the difference between previous day close and current open.\n",
    "\n",
    "The jumpy diffusion Hawkes process model seems to make the most sense. However, I will add an event kernel with parameters that change based on the earnings report."
   ]
  },
  {
   "cell_type": "code",
   "execution_count": 6,
   "metadata": {
    "colab": {},
    "colab_type": "code",
    "id": "1fojlIoKIgNN"
   },
   "outputs": [],
   "source": [
    "# import the earnigns data\n",
    "from os import listdir\n",
    "import re\n",
    "files = listdir('./earnings_data/')\n",
    "f_names = [name for name in files if re.search('AAPL', name)]"
   ]
  },
  {
   "cell_type": "code",
   "execution_count": 7,
   "metadata": {
    "colab": {
     "base_uri": "https://localhost:8080/",
     "height": 104
    },
    "colab_type": "code",
    "id": "i0g4_doseWd3",
    "outputId": "6c2d025c-99f4-44c6-cec9-d8d3ae534759"
   },
   "outputs": [
    {
     "data": {
      "text/plain": [
       "['AAPL_2020-07-30.csv',\n",
       " 'AAPL_2020-04-30.csv',\n",
       " 'AAPL_2019-10-30.csv',\n",
       " 'AAPL_2020-01-28.csv']"
      ]
     },
     "execution_count": 7,
     "metadata": {
      "tags": []
     },
     "output_type": "execute_result"
    }
   ],
   "source": [
    "f_names"
   ]
  },
  {
   "cell_type": "code",
   "execution_count": 8,
   "metadata": {
    "colab": {
     "base_uri": "https://localhost:8080/",
     "height": 221
    },
    "colab_type": "code",
    "id": "UCrVosBbtAd2",
    "outputId": "cd5a3a62-fac7-4f3a-c7b3-e576d5ff446c"
   },
   "outputs": [
    {
     "data": {
      "text/html": [
       "<div>\n",
       "<style scoped>\n",
       "    .dataframe tbody tr th:only-of-type {\n",
       "        vertical-align: middle;\n",
       "    }\n",
       "\n",
       "    .dataframe tbody tr th {\n",
       "        vertical-align: top;\n",
       "    }\n",
       "\n",
       "    .dataframe thead th {\n",
       "        text-align: right;\n",
       "    }\n",
       "</style>\n",
       "<table border=\"1\" class=\"dataframe\">\n",
       "  <thead>\n",
       "    <tr style=\"text-align: right;\">\n",
       "      <th></th>\n",
       "      <th>date</th>\n",
       "      <th>epsActual</th>\n",
       "      <th>epsEstimate</th>\n",
       "      <th>hour</th>\n",
       "      <th>quarter</th>\n",
       "      <th>revenueActual</th>\n",
       "      <th>revenueEstimate</th>\n",
       "      <th>symbol</th>\n",
       "      <th>year</th>\n",
       "      <th>ten_prior</th>\n",
       "      <th>this_friday</th>\n",
       "      <th>performance</th>\n",
       "    </tr>\n",
       "  </thead>\n",
       "  <tbody>\n",
       "    <tr>\n",
       "      <th>0</th>\n",
       "      <td>2020-07-30</td>\n",
       "      <td>2.58</td>\n",
       "      <td>2.066653</td>\n",
       "      <td>amc</td>\n",
       "      <td>3</td>\n",
       "      <td>59685000000</td>\n",
       "      <td>53033749999</td>\n",
       "      <td>AAPL</td>\n",
       "      <td>2020</td>\n",
       "      <td>2020-07-16</td>\n",
       "      <td>2020-08-01</td>\n",
       "      <td>0.248396</td>\n",
       "    </tr>\n",
       "    <tr>\n",
       "      <th>1</th>\n",
       "      <td>2020-04-30</td>\n",
       "      <td>2.55</td>\n",
       "      <td>2.306322</td>\n",
       "      <td>amc</td>\n",
       "      <td>2</td>\n",
       "      <td>58313000000</td>\n",
       "      <td>55358099999</td>\n",
       "      <td>AAPL</td>\n",
       "      <td>2020</td>\n",
       "      <td>2020-04-16</td>\n",
       "      <td>2020-05-02</td>\n",
       "      <td>0.105657</td>\n",
       "    </tr>\n",
       "    <tr>\n",
       "      <th>2</th>\n",
       "      <td>2020-01-28</td>\n",
       "      <td>4.99</td>\n",
       "      <td>5.349859</td>\n",
       "      <td>amc</td>\n",
       "      <td>1</td>\n",
       "      <td>91819000000</td>\n",
       "      <td>89756449999</td>\n",
       "      <td>AAPL</td>\n",
       "      <td>2020</td>\n",
       "      <td>2020-01-14</td>\n",
       "      <td>2020-02-01</td>\n",
       "      <td>-0.067265</td>\n",
       "    </tr>\n",
       "    <tr>\n",
       "      <th>3</th>\n",
       "      <td>2019-10-30</td>\n",
       "      <td>3.03</td>\n",
       "      <td>2.896127</td>\n",
       "      <td>amc</td>\n",
       "      <td>4</td>\n",
       "      <td>64040000000</td>\n",
       "      <td>63929939186</td>\n",
       "      <td>AAPL</td>\n",
       "      <td>2019</td>\n",
       "      <td>2019-10-16</td>\n",
       "      <td>2019-11-02</td>\n",
       "      <td>0.046225</td>\n",
       "    </tr>\n",
       "    <tr>\n",
       "      <th>4</th>\n",
       "      <td>2020-07-22</td>\n",
       "      <td>1.46</td>\n",
       "      <td>1.369758</td>\n",
       "      <td>amc</td>\n",
       "      <td>4</td>\n",
       "      <td>38033000000</td>\n",
       "      <td>37047500000</td>\n",
       "      <td>MSFT</td>\n",
       "      <td>2020</td>\n",
       "      <td>2020-07-08</td>\n",
       "      <td>2020-07-25</td>\n",
       "      <td>0.065882</td>\n",
       "    </tr>\n",
       "  </tbody>\n",
       "</table>\n",
       "</div>"
      ],
      "text/plain": [
       "         date  epsActual  epsEstimate  ...   ten_prior  this_friday  performance\n",
       "0  2020-07-30       2.58     2.066653  ...  2020-07-16   2020-08-01     0.248396\n",
       "1  2020-04-30       2.55     2.306322  ...  2020-04-16   2020-05-02     0.105657\n",
       "2  2020-01-28       4.99     5.349859  ...  2020-01-14   2020-02-01    -0.067265\n",
       "3  2019-10-30       3.03     2.896127  ...  2019-10-16   2019-11-02     0.046225\n",
       "4  2020-07-22       1.46     1.369758  ...  2020-07-08   2020-07-25     0.065882\n",
       "\n",
       "[5 rows x 12 columns]"
      ]
     },
     "execution_count": 8,
     "metadata": {
      "tags": []
     },
     "output_type": "execute_result"
    }
   ],
   "source": [
    "# determine whether earnings released before or after trading\n",
    "earnings = pd.read_csv('./tech_earnings.csv')\n",
    "earnings = earnings.drop(columns = 'Unnamed: 0')\n",
    "earnings.head()"
   ]
  },
  {
   "cell_type": "code",
   "execution_count": 9,
   "metadata": {
    "colab": {},
    "colab_type": "code",
    "id": "CuWReung9rwJ"
   },
   "outputs": [],
   "source": [
    "# for one stock, read in earnings file and estimate parameters\n",
    "f = f_names[0]\n",
    "path = './earnings_data/' + f\n",
    "X = pd.read_csv(path)\n",
    "X = X.drop(columns = 'Unnamed: 0')\n",
    "X['date'] = X['date'].apply(lambda d: datetime.strptime(d, '%Y-%m-%d %H:%M:%S.%f'))\n",
    "\n",
    "date_string = f.split(\"_\")[1].split(\".\")[0]\n",
    "date_dt = datetime.strptime(date_string, '%Y-%m-%d')\n",
    "ticker = f.split(\"_\")[0]\n",
    "\n",
    "hour = earnings.loc[(earnings['date']==date_string) & (earnings['symbol']==ticker), 'hour'][0]\n",
    "first_day_released = (date_dt + timedelta(days=1)) if (hour == 'amc') else date_dt # during market hours would be different\n",
    "\n",
    "# get slices for before and after earnings\n",
    "X_before = X.loc[X['date'] < first_day_released]\n",
    "X_after = X.loc[X['date'] >= first_day_released]"
   ]
  },
  {
   "cell_type": "code",
   "execution_count": 10,
   "metadata": {
    "colab": {
     "base_uri": "https://localhost:8080/",
     "height": 433
    },
    "colab_type": "code",
    "id": "-DNWP3EkCX8x",
    "outputId": "5884aa27-6445-42d8-bb3d-bc6ad6301343"
   },
   "outputs": [
    {
     "data": {
      "text/html": [
       "<div>\n",
       "<style scoped>\n",
       "    .dataframe tbody tr th:only-of-type {\n",
       "        vertical-align: middle;\n",
       "    }\n",
       "\n",
       "    .dataframe tbody tr th {\n",
       "        vertical-align: top;\n",
       "    }\n",
       "\n",
       "    .dataframe thead th {\n",
       "        text-align: right;\n",
       "    }\n",
       "</style>\n",
       "<table border=\"1\" class=\"dataframe\">\n",
       "  <thead>\n",
       "    <tr style=\"text-align: right;\">\n",
       "      <th></th>\n",
       "      <th>v</th>\n",
       "      <th>diff</th>\n",
       "      <th>date</th>\n",
       "      <th>dt</th>\n",
       "      <th>event</th>\n",
       "      <th>time_elapsed</th>\n",
       "      <th>pos</th>\n",
       "    </tr>\n",
       "  </thead>\n",
       "  <tbody>\n",
       "    <tr>\n",
       "      <th>0</th>\n",
       "      <td>1016</td>\n",
       "      <td>0.002143</td>\n",
       "      <td>2020-07-16 08:02:30.542501</td>\n",
       "      <td>2.844329</td>\n",
       "      <td>1</td>\n",
       "      <td>0.000000</td>\n",
       "      <td>0</td>\n",
       "    </tr>\n",
       "    <tr>\n",
       "      <th>1</th>\n",
       "      <td>6025</td>\n",
       "      <td>0.001423</td>\n",
       "      <td>2020-07-16 08:05:03.479312</td>\n",
       "      <td>1.529368</td>\n",
       "      <td>1</td>\n",
       "      <td>1.529368</td>\n",
       "      <td>0</td>\n",
       "    </tr>\n",
       "    <tr>\n",
       "      <th>2</th>\n",
       "      <td>115</td>\n",
       "      <td>0.000052</td>\n",
       "      <td>2020-07-16 08:12:20.438050</td>\n",
       "      <td>4.369587</td>\n",
       "      <td>0</td>\n",
       "      <td>5.898955</td>\n",
       "      <td>0</td>\n",
       "    </tr>\n",
       "    <tr>\n",
       "      <th>3</th>\n",
       "      <td>2816</td>\n",
       "      <td>0.000259</td>\n",
       "      <td>2020-07-16 08:19:18.197320</td>\n",
       "      <td>4.177593</td>\n",
       "      <td>0</td>\n",
       "      <td>10.076548</td>\n",
       "      <td>0</td>\n",
       "    </tr>\n",
       "    <tr>\n",
       "      <th>4</th>\n",
       "      <td>1343</td>\n",
       "      <td>0.002774</td>\n",
       "      <td>2020-07-16 08:26:08.102485</td>\n",
       "      <td>4.099052</td>\n",
       "      <td>1</td>\n",
       "      <td>14.175600</td>\n",
       "      <td>0</td>\n",
       "    </tr>\n",
       "    <tr>\n",
       "      <th>...</th>\n",
       "      <td>...</td>\n",
       "      <td>...</td>\n",
       "      <td>...</td>\n",
       "      <td>...</td>\n",
       "      <td>...</td>\n",
       "      <td>...</td>\n",
       "      <td>...</td>\n",
       "    </tr>\n",
       "    <tr>\n",
       "      <th>1837</th>\n",
       "      <td>573485</td>\n",
       "      <td>0.000816</td>\n",
       "      <td>2020-07-30 19:37:09.231606</td>\n",
       "      <td>1.733622</td>\n",
       "      <td>0</td>\n",
       "      <td>5953.859367</td>\n",
       "      <td>1</td>\n",
       "    </tr>\n",
       "    <tr>\n",
       "      <th>1838</th>\n",
       "      <td>558129</td>\n",
       "      <td>0.000234</td>\n",
       "      <td>2020-07-30 19:43:13.350692</td>\n",
       "      <td>3.641191</td>\n",
       "      <td>0</td>\n",
       "      <td>5957.500558</td>\n",
       "      <td>1</td>\n",
       "    </tr>\n",
       "    <tr>\n",
       "      <th>1839</th>\n",
       "      <td>731838</td>\n",
       "      <td>0.000833</td>\n",
       "      <td>2020-07-30 19:46:34.991978</td>\n",
       "      <td>2.016413</td>\n",
       "      <td>0</td>\n",
       "      <td>5959.516971</td>\n",
       "      <td>0</td>\n",
       "    </tr>\n",
       "    <tr>\n",
       "      <th>1840</th>\n",
       "      <td>1149784</td>\n",
       "      <td>0.000599</td>\n",
       "      <td>2020-07-30 19:54:37.355557</td>\n",
       "      <td>4.823636</td>\n",
       "      <td>0</td>\n",
       "      <td>5964.340607</td>\n",
       "      <td>1</td>\n",
       "    </tr>\n",
       "    <tr>\n",
       "      <th>1841</th>\n",
       "      <td>807108</td>\n",
       "      <td>0.001639</td>\n",
       "      <td>2020-07-30 19:58:09.855044</td>\n",
       "      <td>2.124995</td>\n",
       "      <td>1</td>\n",
       "      <td>5966.465602</td>\n",
       "      <td>1</td>\n",
       "    </tr>\n",
       "  </tbody>\n",
       "</table>\n",
       "<p>1842 rows × 7 columns</p>\n",
       "</div>"
      ],
      "text/plain": [
       "            v      diff                       date  ...  event  time_elapsed  pos\n",
       "0        1016  0.002143 2020-07-16 08:02:30.542501  ...      1      0.000000    0\n",
       "1        6025  0.001423 2020-07-16 08:05:03.479312  ...      1      1.529368    0\n",
       "2         115  0.000052 2020-07-16 08:12:20.438050  ...      0      5.898955    0\n",
       "3        2816  0.000259 2020-07-16 08:19:18.197320  ...      0     10.076548    0\n",
       "4        1343  0.002774 2020-07-16 08:26:08.102485  ...      1     14.175600    0\n",
       "...       ...       ...                        ...  ...    ...           ...  ...\n",
       "1837   573485  0.000816 2020-07-30 19:37:09.231606  ...      0   5953.859367    1\n",
       "1838   558129  0.000234 2020-07-30 19:43:13.350692  ...      0   5957.500558    1\n",
       "1839   731838  0.000833 2020-07-30 19:46:34.991978  ...      0   5959.516971    0\n",
       "1840  1149784  0.000599 2020-07-30 19:54:37.355557  ...      0   5964.340607    1\n",
       "1841   807108  0.001639 2020-07-30 19:58:09.855044  ...      1   5966.465602    1\n",
       "\n",
       "[1842 rows x 7 columns]"
      ]
     },
     "execution_count": 10,
     "metadata": {
      "tags": []
     },
     "output_type": "execute_result"
    }
   ],
   "source": [
    "X_before"
   ]
  },
  {
   "cell_type": "code",
   "execution_count": 11,
   "metadata": {
    "colab": {
     "base_uri": "https://localhost:8080/",
     "height": 236
    },
    "colab_type": "code",
    "id": "7etoOn_uFdzC",
    "outputId": "2eb6e2cd-e00f-4568-ca7a-a4029af241d0"
   },
   "outputs": [
    {
     "name": "stdout",
     "output_type": "stream",
     "text": [
      "2020-07-16\n",
      "2020-07-17\n",
      "2020-07-20\n",
      "2020-07-21\n",
      "2020-07-22\n",
      "2020-07-23\n",
      "2020-07-24\n",
      "2020-07-25\n",
      "2020-07-27\n",
      "2020-07-28\n",
      "2020-07-29\n",
      "2020-07-30\n"
     ]
    }
   ],
   "source": [
    "# group by day\n",
    "days = np.sort(list(set(X_before['date'].apply(lambda x: x.date()))))\n",
    "for day in days:\n",
    "  print(day)"
   ]
  },
  {
   "cell_type": "code",
   "execution_count": null,
   "metadata": {
    "colab": {},
    "colab_type": "code",
    "id": "b_HuSWG-DD_t"
   },
   "outputs": [],
   "source": [
    "# def to_datetime(d):\n",
    "#   return datetime(d.year, d.month, d.day)\n",
    "# v_to_datetime = np.vectorize(to_datetime)"
   ]
  },
  {
   "cell_type": "code",
   "execution_count": 12,
   "metadata": {
    "colab": {},
    "colab_type": "code",
    "id": "oeBgvMwLd1EU"
   },
   "outputs": [],
   "source": [
    "days = list(map(lambda d: datetime(d.year,d.month,d.day), days))\n",
    "# days = list(days)\n",
    "# days = v_to_datetime(days)\n",
    "subsets = []\n",
    "for i in range(len(days)-1):\n",
    "  subsets.append(X_before.loc[(X_before['date'] > days[i]) & (X_before['date'] < days [i+1])])"
   ]
  },
  {
   "cell_type": "code",
   "execution_count": 13,
   "metadata": {
    "colab": {
     "base_uri": "https://localhost:8080/",
     "height": 220
    },
    "colab_type": "code",
    "id": "2VqpivnOEg1h",
    "outputId": "5d76854b-3049-4150-8e8b-eb07cadb1d60"
   },
   "outputs": [
    {
     "name": "stdout",
     "output_type": "stream",
     "text": [
      "(184, 7)\n",
      "(161, 7)\n",
      "(169, 7)\n",
      "(181, 7)\n",
      "(180, 7)\n",
      "(178, 7)\n",
      "(186, 7)\n",
      "(50, 7)\n",
      "(176, 7)\n",
      "(176, 7)\n",
      "(123, 7)\n"
     ]
    }
   ],
   "source": [
    "for i in range(len(subsets)):\n",
    "  print(subsets[i].shape)"
   ]
  },
  {
   "cell_type": "markdown",
   "metadata": {
    "colab_type": "text",
    "id": "y5nxuVYPwHuc"
   },
   "source": [
    "Because I'm trying to predict the arrival frequency of the process after the release of earnings, I will define the threshold for an arrival based on the ten days before."
   ]
  },
  {
   "cell_type": "code",
   "execution_count": 14,
   "metadata": {
    "colab": {
     "base_uri": "https://localhost:8080/",
     "height": 137
    },
    "colab_type": "code",
    "id": "-yOKejgXwecG",
    "outputId": "d2bb1224-ec5f-4b19-926b-b9169d07b256"
   },
   "outputs": [
    {
     "name": "stderr",
     "output_type": "stream",
     "text": [
      "/usr/local/lib/python3.6/dist-packages/pandas/core/indexing.py:966: SettingWithCopyWarning: \n",
      "A value is trying to be set on a copy of a slice from a DataFrame.\n",
      "Try using .loc[row_indexer,col_indexer] = value instead\n",
      "\n",
      "See the caveats in the documentation: https://pandas.pydata.org/pandas-docs/stable/user_guide/indexing.html#returning-a-view-versus-a-copy\n",
      "  self.obj[item] = s\n"
     ]
    }
   ],
   "source": [
    "# get only top 20% of movements\n",
    "q1 = X_before['diff'].quantile(q=.1)\n",
    "q2 = X_before['diff'].quantile(q=.9)\n",
    "\n",
    "# create mask for top 20% movement\n",
    "X_before.loc[:,'event'] = 0\n",
    "X_before.loc[(X_before['diff'] < q1) | (X_before['diff'] > q2), 'event'] = 1\n",
    "\n",
    "# overlay that mask on the post earnings data\n",
    "X_after.loc[:,'event'] = 0\n",
    "X_after.loc[(X_after['diff'] < q1) | (X_after['diff'] > q2), 'event'] = 1"
   ]
  },
  {
   "cell_type": "code",
   "execution_count": null,
   "metadata": {
    "colab": {},
    "colab_type": "code",
    "id": "0PyXdJPk2of0"
   },
   "outputs": [],
   "source": [
    "for subset in subsets:\n",
    "  positives = subset.loc[subset['pos'] == 1, '']"
   ]
  },
  {
   "cell_type": "code",
   "execution_count": 15,
   "metadata": {
    "colab": {},
    "colab_type": "code",
    "id": "ii-8uzMgsts3"
   },
   "outputs": [],
   "source": [
    "first5 = X_before.loc[(X_before['date'] < days[len(days) // 2])]\n",
    "second5 = X_before.loc[(X_before['date'] >= days[len(days) // 2])]"
   ]
  },
  {
   "cell_type": "code",
   "execution_count": 16,
   "metadata": {
    "colab": {
     "base_uri": "https://localhost:8080/",
     "height": 302
    },
    "colab_type": "code",
    "id": "lDewc91KtPmJ",
    "outputId": "29fe9ba5-1c88-4ef7-eec0-fd002d3e2f52"
   },
   "outputs": [
    {
     "data": {
      "text/plain": [
       "<matplotlib.axes._subplots.AxesSubplot at 0x7fa2f2e30550>"
      ]
     },
     "execution_count": 16,
     "metadata": {
      "tags": []
     },
     "output_type": "execute_result"
    },
    {
     "data": {
      "image/png": "[encoded data removed]",
      "text/plain": [
       "<Figure size 432x288 with 1 Axes>"
      ]
     },
     "metadata": {
      "needs_background": "light",
      "tags": []
     },
     "output_type": "display_data"
    }
   ],
   "source": [
    "second5['time_elapsed'].plot()"
   ]
  },
  {
   "cell_type": "code",
   "execution_count": 17,
   "metadata": {
    "colab": {},
    "colab_type": "code",
    "id": "j6XO1uBtwaIb"
   },
   "outputs": [],
   "source": [
    "from tick.plot import plot_hawkes_kernels\n",
    "from tick.hawkes import SimuHawkesSumExpKernels, SimuHawkesMulti, \\\n",
    "    HawkesSumExpKern, SimuHawkesExpKernels, HawkesExpKern"
   ]
  },
  {
   "cell_type": "code",
   "execution_count": 18,
   "metadata": {
    "colab": {
     "base_uri": "https://localhost:8080/",
     "height": 368
    },
    "colab_type": "code",
    "id": "s6Y5EvkstT2a",
    "outputId": "9a80cd45-8643-43e9-f6bc-79ff00d70fd8"
   },
   "outputs": [
    {
     "name": "stdout",
     "output_type": "stream",
     "text": [
      "[[0.58073728 0.35371895]\n",
      " [0.81815799 0.61066747]]\n",
      "[[0.54718051 0.31011324]\n",
      " [0.77394593 0.55085667]]\n",
      "[[0.52892939 0.29338129]\n",
      " [0.7473863  0.5253983 ]]\n",
      "[[0.51674664 0.28717835]\n",
      " [0.72931032 0.5120187 ]]\n",
      "[[0.50485562 0.28118184]\n",
      " [0.71370691 0.50133178]]\n",
      "[[0.49520675 0.27832466]\n",
      " [0.70218667 0.49319689]]\n",
      "[[0.48589277 0.27521324]\n",
      " [0.6923387  0.48537747]]\n",
      "[[0.47910128 0.27603658]\n",
      " [0.68604894 0.47992017]]\n",
      "[[0.4714655  0.2745288 ]\n",
      " [0.67952432 0.47342892]]\n",
      "[[0.46421653 0.27301545]\n",
      " [0.67377095 0.46714359]]\n"
     ]
    }
   ],
   "source": [
    "# run hawkes process fit on first five, second five and earnings\n",
    "X = X_after.loc[:,['time_elapsed','pos','diff']].to_numpy()\n",
    "time1 = X[np.where(X[:,1]==0),0][0]\n",
    "time2 = X[np.where(X[:,1]==1),0][0]\n",
    "timestamps = list((time1, time2))\n",
    "scores = []\n",
    "for i, d in enumerate(np.linspace(.01,.05,num=10)):\n",
    "  decays = np.array([[d,d],[d,d]])\n",
    "  learner = HawkesExpKern(decays, penalty='elasticnet',\n",
    "                           elastic_net_ratio=0.8)\n",
    "  learner.fit(timestamps)\n",
    "  scores.append(learner.score(events=timestamps))\n",
    "  print(learner.adjacency)\n",
    "  #print(learner.baseline)"
   ]
  },
  {
   "cell_type": "code",
   "execution_count": 19,
   "metadata": {
    "colab": {
     "base_uri": "https://localhost:8080/",
     "height": 203
    },
    "colab_type": "code",
    "id": "-CjhaRD1yMZj",
    "outputId": "8418cbff-27e0-4d8f-eec0-20b69d9e8c68"
   },
   "outputs": [
    {
     "data": {
      "text/plain": [
       "[0.15020576860155221,\n",
       " 0.15257547295313909,\n",
       " 0.1531894849171444,\n",
       " 0.15289290705162814,\n",
       " 0.1520132435552404,\n",
       " 0.15085267005407416,\n",
       " 0.1494841979669435,\n",
       " 0.14805770521594427,\n",
       " 0.14650867693975117,\n",
       " 0.14490814542397817]"
      ]
     },
     "execution_count": 19,
     "metadata": {
      "tags": []
     },
     "output_type": "execute_result"
    }
   ],
   "source": [
    "scores"
   ]
  },
  {
   "cell_type": "code",
   "execution_count": 20,
   "metadata": {
    "colab": {},
    "colab_type": "code",
    "id": "r7k05tUY1Te_"
   },
   "outputs": [],
   "source": [
    "# function from stack overflow\n",
    "def axvlines(xs, ax=None, **plot_kwargs):\n",
    "    \"\"\"\n",
    "    Draw vertical lines on plot\n",
    "    :param xs: A scalar, list, or 1D array of horizontal offsets\n",
    "    :param ax: The axis (or none to use gca)\n",
    "    :param plot_kwargs: Keyword arguments to be passed to plot\n",
    "    :return: The plot object corresponding to the lines.\n",
    "    \"\"\"\n",
    "    if ax is None:\n",
    "        ax = plt.gca()\n",
    "    xs = np.array((xs, ) if np.isscalar(xs) else xs, copy=False)\n",
    "    lims = ax.get_ylim()\n",
    "    x_points = np.repeat(xs[:, None], repeats=3, axis=1).flatten()\n",
    "    y_points = np.repeat(np.array(lims + (np.nan, ))[None, :], repeats=len(xs), axis=0).flatten()\n",
    "    plot = ax.plot(x_points, y_points, scaley = False, **plot_kwargs)\n",
    "    return plot"
   ]
  },
  {
   "cell_type": "code",
   "execution_count": 22,
   "metadata": {
    "colab": {
     "base_uri": "https://localhost:8080/",
     "height": 306
    },
    "colab_type": "code",
    "id": "Spm69Gw91VJ-",
    "outputId": "1ad259a3-ed72-42d9-fdc1-9fe95371d679"
   },
   "outputs": [
    {
     "data": {
      "text/plain": [
       "[<matplotlib.lines.Line2D at 0x7fa2b7de0860>]"
      ]
     },
     "execution_count": 22,
     "metadata": {
      "tags": []
     },
     "output_type": "execute_result"
    },
    {
     "data": {
      "image/png": "[encoded data removed]",
      "text/plain": [
       "<Figure size 432x288 with 1 Axes>"
      ]
     },
     "metadata": {
      "needs_background": "light",
      "tags": []
     },
     "output_type": "display_data"
    }
   ],
   "source": [
    "%matplotlib inline\n",
    "axvlines(time2[:100]) # positives"
   ]
  },
  {
   "cell_type": "code",
   "execution_count": 23,
   "metadata": {
    "colab": {
     "base_uri": "https://localhost:8080/",
     "height": 306
    },
    "colab_type": "code",
    "id": "tiRKWwMZjZCM",
    "outputId": "498d6cbd-3f63-45ed-9aa0-ad7e656e660b"
   },
   "outputs": [
    {
     "data": {
      "text/plain": [
       "[<matplotlib.lines.Line2D at 0x7fa2b7d386d8>]"
      ]
     },
     "execution_count": 23,
     "metadata": {
      "tags": []
     },
     "output_type": "execute_result"
    },
    {
     "data": {
      "image/png": "[encoded data removed]",
      "text/plain": [
       "<Figure size 432x288 with 1 Axes>"
      ]
     },
     "metadata": {
      "needs_background": "light",
      "tags": []
     },
     "output_type": "display_data"
    }
   ],
   "source": [
    "axvlines(time1[:100]) # negatives"
   ]
  },
  {
   "cell_type": "code",
   "execution_count": null,
   "metadata": {
    "colab": {},
    "colab_type": "code",
    "id": "ETeW7kdo2DFk"
   },
   "outputs": [],
   "source": [
    "# for each day in times, print graph\n"
   ]
  }
 ],
 "metadata": {
  "colab": {
   "authorship_tag": "ABX9TyMo+fbaxQBmQQOH4H3sId2W",
   "collapsed_sections": [],
   "include_colab_link": true,
   "name": "HawkesProcess.ipynb",
   "provenance": []
  },
  "kernelspec": {
   "display_name": "Python 3",
   "language": "python",
   "name": "python3"
  },
  "language_info": {
   "codemirror_mode": {
    "name": "ipython",
    "version": 3
   },
   "file_extension": ".py",
   "mimetype": "text/x-python",
   "name": "python",
   "nbconvert_exporter": "python",
   "pygments_lexer": "ipython3",
   "version": "3.8.5"
  }
 },
 "nbformat": 4,
 "nbformat_minor": 1
}
