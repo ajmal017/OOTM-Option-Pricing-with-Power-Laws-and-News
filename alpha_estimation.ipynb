{
  "nbformat": 4,
  "nbformat_minor": 0,
  "metadata": {
    "colab": {
      "name": "alpha_estimation.ipynb",
      "provenance": [],
      "collapsed_sections": [],
      "authorship_tag": "ABX9TyOu4lrWIOgIhxZEObrE2yzB",
      "include_colab_link": true
    },
    "kernelspec": {
      "name": "python3",
      "display_name": "Python 3"
    }
  },
  "cells": [
    {
      "cell_type": "markdown",
      "metadata": {
        "id": "view-in-github",
        "colab_type": "text"
      },
      "source": [
        "<a href=\"https://colab.research.google.com/github/mcurcio5/OOTM-Option-Pricing-with-Power-Laws-and-News/blob/master/alpha_estimation.ipynb\" target=\"_parent\"><img src=\"https://colab.research.google.com/assets/colab-badge.svg\" alt=\"Open In Colab\"/></a>"
      ]
    },
    {
      "cell_type": "code",
      "metadata": {
        "id": "bg-3M004iBI_",
        "colab_type": "code",
        "colab": {
          "base_uri": "https://localhost:8080/",
          "height": 138
        },
        "outputId": "6cf1a975-0484-402b-a6a1-014d1b2e693e"
      },
      "source": [
        "# mount Google Drive to Colab VM.\n",
        "from google.colab import drive\n",
        "drive.mount('/content/drive', force_remount=True)\n",
        "\n",
        "FOLDERNAME = 'Colab/Eric/'\n",
        "assert FOLDERNAME is not None, \"[!] Enter the foldername.\"\n",
        "\n",
        "import sys\n",
        "sys.path.append('/content/drive/My Drive/{}'.format(FOLDERNAME))\n",
        "\n",
        "%cd drive/My\\ Drive/$FOLDERNAME"
      ],
      "execution_count": 1,
      "outputs": [
        {
          "output_type": "stream",
          "text": [
            "Go to this URL in a browser: https://accounts.google.com/o/oauth2/auth?client_id=947318989803-6bn6qk8qdgf4n4g3pfee6491hc0brc4i.apps.googleusercontent.com&redirect_uri=urn%3aietf%3awg%3aoauth%3a2.0%3aoob&response_type=code&scope=email%20https%3a%2f%2fwww.googleapis.com%2fauth%2fdocs.test%20https%3a%2f%2fwww.googleapis.com%2fauth%2fdrive%20https%3a%2f%2fwww.googleapis.com%2fauth%2fdrive.photos.readonly%20https%3a%2f%2fwww.googleapis.com%2fauth%2fpeopleapi.readonly\n",
            "\n",
            "Enter your authorization code:\n",
            "··········\n",
            "Mounted at /content/drive\n",
            "/content/drive/My Drive/Colab/Eric\n"
          ],
          "name": "stdout"
        }
      ]
    },
    {
      "cell_type": "code",
      "metadata": {
        "id": "FyCY8yZn7wzE",
        "colab_type": "code",
        "colab": {
          "base_uri": "https://localhost:8080/",
          "height": 353
        },
        "outputId": "68e97e9e-c3eb-45b6-9bc2-f6de1bc6fd8c"
      },
      "source": [
        "!pip install yfinance"
      ],
      "execution_count": 2,
      "outputs": [
        {
          "output_type": "stream",
          "text": [
            "Collecting yfinance\n",
            "  Downloading https://files.pythonhosted.org/packages/c2/31/8b374a12b90def92a4e27d0fc595fc43635f395984e36a075244d98bd265/yfinance-0.1.54.tar.gz\n",
            "Requirement already satisfied: pandas>=0.24 in /usr/local/lib/python3.6/dist-packages (from yfinance) (1.0.5)\n",
            "Requirement already satisfied: numpy>=1.15 in /usr/local/lib/python3.6/dist-packages (from yfinance) (1.18.5)\n",
            "Requirement already satisfied: requests>=2.20 in /usr/local/lib/python3.6/dist-packages (from yfinance) (2.23.0)\n",
            "Requirement already satisfied: multitasking>=0.0.7 in /usr/local/lib/python3.6/dist-packages (from yfinance) (0.0.9)\n",
            "Requirement already satisfied: python-dateutil>=2.6.1 in /usr/local/lib/python3.6/dist-packages (from pandas>=0.24->yfinance) (2.8.1)\n",
            "Requirement already satisfied: pytz>=2017.2 in /usr/local/lib/python3.6/dist-packages (from pandas>=0.24->yfinance) (2018.9)\n",
            "Requirement already satisfied: urllib3!=1.25.0,!=1.25.1,<1.26,>=1.21.1 in /usr/local/lib/python3.6/dist-packages (from requests>=2.20->yfinance) (1.24.3)\n",
            "Requirement already satisfied: chardet<4,>=3.0.2 in /usr/local/lib/python3.6/dist-packages (from requests>=2.20->yfinance) (3.0.4)\n",
            "Requirement already satisfied: certifi>=2017.4.17 in /usr/local/lib/python3.6/dist-packages (from requests>=2.20->yfinance) (2020.6.20)\n",
            "Requirement already satisfied: idna<3,>=2.5 in /usr/local/lib/python3.6/dist-packages (from requests>=2.20->yfinance) (2.10)\n",
            "Requirement already satisfied: six>=1.5 in /usr/local/lib/python3.6/dist-packages (from python-dateutil>=2.6.1->pandas>=0.24->yfinance) (1.15.0)\n",
            "Building wheels for collected packages: yfinance\n",
            "  Building wheel for yfinance (setup.py) ... \u001b[?25l\u001b[?25hdone\n",
            "  Created wheel for yfinance: filename=yfinance-0.1.54-py2.py3-none-any.whl size=22409 sha256=e811bf40438da8900cf05a9f5e92c3383960b3eea01812b05ba6a3b01c4f2db0\n",
            "  Stored in directory: /root/.cache/pip/wheels/f9/e3/5b/ec24dd2984b12d61e0abf26289746c2436a0e7844f26f2515c\n",
            "Successfully built yfinance\n",
            "Installing collected packages: yfinance\n",
            "Successfully installed yfinance-0.1.54\n"
          ],
          "name": "stdout"
        }
      ]
    },
    {
      "cell_type": "code",
      "metadata": {
        "id": "OL7Z9UDJ43FB",
        "colab_type": "code",
        "colab": {}
      },
      "source": [
        "import pandas as pd\n",
        "import matplotlib.pyplot as plt\n",
        "import yfinance as yf\n",
        "import numpy as np\n",
        "import random\n",
        "from scipy.special import zeta\n",
        "from scipy.optimize import bisect\n",
        "from datetime import datetime, timedelta"
      ],
      "execution_count": 3,
      "outputs": []
    },
    {
      "cell_type": "markdown",
      "metadata": {
        "id": "wWsV9TBPP0h5",
        "colab_type": "text"
      },
      "source": [
        "I will start by defining functions that use MLE methods to find the $\\alpha$ parameter for power law distributions. Note, that these methods are for continuous power law distributions."
      ]
    },
    {
      "cell_type": "code",
      "metadata": {
        "id": "o6pbG0TbR9cq",
        "colab_type": "code",
        "colab": {
          "base_uri": "https://localhost:8080/",
          "height": 312
        },
        "outputId": "04ab0da6-2d1e-4c20-a7a6-1e0a4eb13d7f"
      },
      "source": [
        "def get_alpha_cont(select_df):\n",
        "  \"\"\" gets alpha paramter for continuous power law distribution\n",
        "  \"\"\"\n",
        "  n = select_df.shape[0]\n",
        "  xmin = select_df['diff'][0]\n",
        "  a = 1 + n / np.sum(np.log(select_df['diff']/xmin))\n",
        "  return a\n",
        "\n",
        "def get_a_range(a, N):\n",
        "  \"\"\" gets 95% confidence interval on alpha paramter estimate\n",
        "  @param a: alpha\n",
        "  @param N: number of samples in power law distribution\n",
        "  @returns a_lower, a_upper: lower and upper bound on alpha 95% CI\n",
        "  \"\"\"\n",
        "  stdev = (a-1)/np.sqrt(N)\n",
        "  a_lower, a_upper = ((a-stdev*2), (a+stdev*2))\n",
        "  return a_lower, a_upper\n",
        "\n",
        "# show the get_a_range function is correct\n",
        "N=200\n",
        "a=3\n",
        "alphas = []\n",
        "for i in range(10000):\n",
        "  # generate continuous power law data\n",
        "  r = np.random.uniform(0,1,N)\n",
        "  x1 = np.sort((1 - r) ** (-1 / (a - 1)))\n",
        "  select_df = pd.DataFrame(data=x1, columns=['diff'])\n",
        "  alphas.append(get_alpha_cont(select_df).astype(float))\n",
        "alphas = np.sort(np.array(alphas))\n",
        "plt.hist(alphas,bins=100)\n",
        "plt.title(\"Distribution of alpha for 10,000 simulations\")\n",
        "plt.xlabel(\"alpha\")\n",
        "a_lower, a_upper = get_a_range(a, N)\n",
        "plt.axvline(x=a_lower, ymin=0, ymax=350, c = \"red\")\n",
        "plt.axvline(x=a_upper, ymin=0, ymax=350, c = \"red\")\n",
        "print(\"a_lower = %s a_upper = %s\" % (a_lower.round(3), a_upper.round(3)))\n",
        "plt.show()"
      ],
      "execution_count": 4,
      "outputs": [
        {
          "output_type": "stream",
          "text": [
            "a_lower = 2.717 a_upper = 3.283\n"
          ],
          "name": "stdout"
        },
        {
          "output_type": "display_data",
          "data": {
            "image/png": "[encoded data removed]",
            "text/plain": [
              "<Figure size 432x288 with 1 Axes>"
            ]
          },
          "metadata": {
            "tags": [],
            "needs_background": "light"
          }
        }
      ]
    },
    {
      "cell_type": "code",
      "metadata": {
        "id": "yzB8ksEDdWeP",
        "colab_type": "code",
        "colab": {}
      },
      "source": [
        "# for a stock, calculate xmin, alpha, KS stat and determine whether power law\n",
        "def calc_emperical(df_sorted):\n",
        "  \"\"\" determines whether a power law fits the dataset\n",
        "  @param df_sorted: price change dataframe sorted from most frequent to least frequent\n",
        "  @returns p: p-value of fit for power law. p < .1 indicates not a power law.\n",
        "  p-value above .1 indicates either power law (could exponential or lognormal if N<200)\n",
        "  \"\"\"\n",
        "  # get quantile, alpha, and KS for best fit\n",
        "  q, a, KS, xmin = get_xmin(df_sorted)\n",
        "  print(\"True q: %s a: %s KS: %s xmin: %s\" % (q,a,KS,xmin))\n",
        "  p = calc_fit(df_sorted, q, a, KS, xmin)\n",
        "  print(\"p: \",p)\n",
        "  return p\n",
        "\n",
        "def calc_fit(df_sorted, q, a, KS, xmin):\n",
        "  \"\"\" determines whether dataset fits power law\n",
        "  @param df_sorted: price change dataframe sorted from most frequent to least frequent\n",
        "  @param q: quantile for karmatta point\n",
        "  @param a: alpha of dataset\n",
        "  @param KS: Kolgoromov Smirnoff statistic for fit\n",
        "  @param xmin: minimum x-value for power law data determined by get_xmin()\n",
        "  @returns p: p-value of fit explained in calc_empirical doc \n",
        "  \"\"\"\n",
        "  KS_stats = []\n",
        "  for i in range(500):\n",
        "    df = generate_dataset(df_sorted,q,a,xmin)\n",
        "    q_local, a_local, KS_local, xminlocal = get_xmin(df)\n",
        "    KS_stats.append(KS_local)\n",
        "  KS_stats=np.array(KS_stats)\n",
        "  p = np.mean(KS_stats > KS)\n",
        "  return p\n",
        "\n",
        "def generate_dataset(df_sorted,q,a,xmin):\n",
        "  \"\"\" generates synthetic dataset with q,a,xmin\n",
        "  @returns df: synthetic dataset frame\n",
        "  \"\"\"\n",
        "  N = df_sorted.shape[0]\n",
        "  df_below_xmin = df_sorted.loc[df_sorted['prob'] >= q]\n",
        "  # number of samples to generate from power law\n",
        "  n_power = np.sum(np.random.uniform(0,1,N)<q)\n",
        "  # number of samples to bootstrap from original dataset > q\n",
        "  n_normal = N - n_power\n",
        "  # generate power law variables\n",
        "  r = np.random.uniform(0,1,n_power)\n",
        "  x1 = xmin * (1 - r) ** (-1 / (a - 1))\n",
        "  # bootstrap n_normal variables from df_below_xmin\n",
        "  x2 = np.random.choice(df_below_xmin['diff'], n_normal, replace=True)\n",
        "  # make new dataframe\n",
        "  df = df_sorted.drop(['diff'], axis=1)\n",
        "  df['diff'] = list(np.sort(np.concatenate((x1,x2),axis=0)))\n",
        "  return df\n",
        "\n",
        "def get_xmin(df_sorted):\n",
        "  \"\"\" finds xmin value, quantile, alpha, and KS-stat for emperical distribution.\n",
        "  @param df_sorted: df sorted by quantile, either negative or positive changes\n",
        "  @return: quantile, alpha param, KS-stat, xmin\n",
        "  \"\"\"\n",
        "  quants = [.2, .14, .10, .07, .035] # 100% of data - min quantile\n",
        "  D, alphas1 = calc_KS(df_sorted, quants)\n",
        "  sorted = list(np.argsort(D))\n",
        "  num_searches = 6 # number of searches over smaller range\n",
        "  # get quantiles of refined search range\n",
        "  quants = list(np.linspace(quants[sorted[0]]-.025, quants[sorted[0]]+.025, num = num_searches))\n",
        "  D2, alphas2 = calc_KS(df_sorted, quants)\n",
        "  index = np.argmin(D2)\n",
        "  # get quantile of best KS stat\n",
        "  quant = np.round(quants[index], 3)\n",
        "  # get alpha of that quantile\n",
        "  alpha = alphas2[index]\n",
        "  # get KS of that quantile\n",
        "  KS = D2[index]\n",
        "  # get minimum change in power law\n",
        "  xmin = df_sorted['diff'].loc[df_sorted['prob'] < quant].iloc[0]\n",
        "  return quant, alpha, KS, xmin\n",
        "\n",
        "def calc_KS(df_sorted, quantiles):\n",
        "  \"\"\" Calculate Kolmogorov-Smirnov Statistic for goodness of fit test using \n",
        "  CDF for continuous power law\n",
        "  @param df_sorted: sorted dataframe\n",
        "  @param quantiles: quantiles to test in df_sorted\n",
        "  @return D: Distances measured by KS-stat\n",
        "  @return alphas: alpha parameters corresponding to D[i] quantiles \n",
        "  \"\"\"\n",
        "  D = []\n",
        "  alphas = []\n",
        "  for i in range(len(quantiles)):\n",
        "    # get subset for min quantile\n",
        "    df = df_sorted.loc[df_sorted['prob'] < quantiles[i]]\n",
        "    a = get_alpha_cont(df) # get alpha for that subset\n",
        "    alphas.append(a)\n",
        "    # calculate emperical cdf for subset\n",
        "    df['emp_cdf'] = 1 - np.arange(df.shape[0])/df.shape[0]\n",
        "    # get real cdf for continuous power law\n",
        "    xmin = df['diff'].iloc[0]\n",
        "    df['true_cdf'] = (df['diff']/xmin)**(-a + 1)\n",
        "    # get KS Statistic on subset\n",
        "    D.append(np.max(np.abs(df['emp_cdf'] - df['true_cdf'])/np.sqrt(df['true_cdf']*(1 - df['true_cdf']))))\n",
        "  return D, alphas"
      ],
      "execution_count": 5,
      "outputs": []
    },
    {
      "cell_type": "code",
      "metadata": {
        "id": "fc_Vh7LiiZ_k",
        "colab_type": "code",
        "colab": {
          "base_uri": "https://localhost:8080/",
          "height": 67
        },
        "outputId": "9fad7bdf-0275-482c-f7f4-3e529c6efb01"
      },
      "source": [
        "pd.options.mode.chained_assignment = None\n",
        "stock = yf.Ticker('TSLA')\n",
        "df = stock.history(start = '2010-01-01', end = '2020-07-30', interval='1d')\n",
        "\n",
        "# get daily log changes\n",
        "df['diff'] = np.log(df['Close'].div((df['Close'].shift(1))))\n",
        "df_neg = np.abs(df.loc[df['diff'] < 0])\n",
        "\n",
        "# sort by move size and calculate cdf\n",
        "neg_sorted = df_neg.sort_values('diff')\n",
        "neg_sorted['prob'] = 1 - np.arange(neg_sorted.shape[0]) / neg_sorted.shape[0]\n",
        "\n",
        "calc_emperical(neg_sorted)"
      ],
      "execution_count": 6,
      "outputs": [
        {
          "output_type": "stream",
          "text": [
            "True q: 0.125 a: 3.421869780488113 KS: 0.1250897442631661 xmin: 0.04476998253839021\n",
            "p:  0.664\n"
          ],
          "name": "stdout"
        },
        {
          "output_type": "execute_result",
          "data": {
            "text/plain": [
              "0.664"
            ]
          },
          "metadata": {
            "tags": []
          },
          "execution_count": 6
        }
      ]
    },
    {
      "cell_type": "code",
      "metadata": {
        "id": "NvF7YOeEIcxb",
        "colab_type": "code",
        "colab": {}
      },
      "source": [
        "# function to print power laws for stock\n",
        "def show_power_law(ticker, direction, ax = None):\n",
        "  \"\"\" prints graph of power law for price daily price changes in stock\n",
        "  @param ticker: str of stock ticker symbol\n",
        "  @param direction: str - either \"pos\" \"neg\" or \"both\" \n",
        "  @param ax: matplotlib axes for the graph\n",
        "  \"\"\"\n",
        "  if direction not in [\"pos\", \"neg\",\"both\"]:\n",
        "    raise SyntaxError(\"Direction parameter for show_power_law not valid\")\n",
        "  if ax is None:\n",
        "    ax = plt.gca()\n",
        "  stock = yf.Ticker(ticker)\n",
        "  df = stock.history(start = '2010-01-01', end = '2020-08-04', interval='1d')\n",
        "\n",
        "  # get daily log changes\n",
        "  df['diff'] = np.log(df['Close'].div((df['Close'].shift(1))))\n",
        "  df_neg = np.abs(df.loc[df['diff'] < 0])\n",
        "  df_pos = df.loc[df['diff'] >= 0]\n",
        "\n",
        "  if (direction == \"neg\") or (direction == \"both\"):\n",
        "    # sort by move size and calculate cdf\n",
        "    neg_sorted = df_neg.sort_values('diff')\n",
        "    neg_sorted['prob'] = 1 - np.arange(neg_sorted.shape[0]) / neg_sorted.shape[0]\n",
        "\n",
        "    q, alpha_hat, KS, xmin = get_xmin(neg_sorted)\n",
        "\n",
        "    select_df = neg_sorted.loc[neg_sorted['prob'] < q]\n",
        "    size = select_df.shape[0]\n",
        "\n",
        "    # neg sorted slope\n",
        "    x = np.linspace(select_df['diff'][0], select_df['diff'][-1],num=50)\n",
        "    k = select_df['prob'][0] * (x[0] ** (alpha_hat))\n",
        "    y = k * (x ** (-alpha_hat))\n",
        "  if (direction == \"pos\") or (direction == \"both\"):\n",
        "    # now for positive changes\n",
        "    pos_sorted = df_pos.sort_values('diff')\n",
        "    pos_sorted['prob'] = 1 - np.arange(pos_sorted.shape[0]) / pos_sorted.shape[0]\n",
        "    q, alpha_hat2, KS, xmin = get_xmin(pos_sorted)\n",
        "    select_df = pos_sorted.loc[pos_sorted['prob'] < q]\n",
        "    size2 = select_df.shape[0]\n",
        "\n",
        "    x_pos = np.linspace(select_df['diff'][0], select_df['diff'][-1],num=50)\n",
        "    k = select_df['prob'][0] * (x_pos[0] ** (alpha_hat2))\n",
        "    y_pos = k * (x_pos ** (-alpha_hat2))\n",
        "\n",
        "  if (direction == \"neg\") or (direction == \"both\"):\n",
        "    ax.plot(neg_sorted['diff'], neg_sorted['prob'], '.', c='red', markeredgecolor='none')\n",
        "    ax.plot(x,y)\n",
        "  if (direction == \"pos\") or (direction == \"both\"):\n",
        "    ax.plot(pos_sorted['diff'], pos_sorted['prob'], '.', c='blue', markeredgecolor='none')\n",
        "    ax.plot(x_pos, y_pos)\n",
        "  ax.set_yscale('log')\n",
        "  ax.set_xscale('log')\n",
        "  ax.set_xlim(left = 10**-3)\n",
        "  ax.set_title(ticker.upper())\n",
        "  if (direction == \"neg\") or (direction == \"both\"):\n",
        "    sigma_a = get_a_range(alpha_hat,size)\n",
        "    print(\"neg alpha range:\",sigma_a)\n",
        "    textstr = r'$\\alpha_-$ = %s %sN=%s' % (np.round(alpha_hat, 2),'\\n',size)\n",
        "    ax.annotate(textstr, xy=(x[0], y[0]), xytext=(x[0]+.02, y[0]+.3),\n",
        "            arrowprops=dict(facecolor='black', shrink=0.1))\n",
        "  if (direction == \"pos\") or (direction == \"both\"):\n",
        "    sigma_a = get_a_range(alpha_hat2,size2)\n",
        "    print(\"pos alpha range:\",sigma_a)\n",
        "    textstr2 = r'$\\alpha_+$ = %s %sN=%s' % (np.round(alpha_hat2, 2),'\\n',size2)\n",
        "    ax.annotate(textstr2, xy=(x_pos[0], y_pos[0]), xytext=(x_pos[0], y_pos[0]+.3),\n",
        "              arrowprops=dict(facecolor='black', shrink=0.1))\n",
        "  return ax"
      ],
      "execution_count": 7,
      "outputs": []
    },
    {
      "cell_type": "code",
      "metadata": {
        "id": "pX9ELb1Xds7O",
        "colab_type": "code",
        "colab": {
          "base_uri": "https://localhost:8080/",
          "height": 318
        },
        "outputId": "1aa80b01-e294-4eb3-97b2-a5388270028f"
      },
      "source": [
        "show_power_law('SPY','pos')"
      ],
      "execution_count": 8,
      "outputs": [
        {
          "output_type": "stream",
          "text": [
            "pos alpha range: (3.220268272107018, 3.893143915246449)\n"
          ],
          "name": "stdout"
        },
        {
          "output_type": "execute_result",
          "data": {
            "text/plain": [
              "<matplotlib.axes._subplots.AxesSubplot at 0x7f37e349c278>"
            ]
          },
          "metadata": {
            "tags": []
          },
          "execution_count": 8
        },
        {
          "output_type": "display_data",
          "data": {
            "image/png": "[encoded data removed]",
            "text/plain": [
              "<Figure size 432x288 with 1 Axes>"
            ]
          },
          "metadata": {
            "tags": [],
            "needs_background": "light"
          }
        }
      ]
    },
    {
      "cell_type": "markdown",
      "metadata": {
        "id": "8xC7p0zro_jx",
        "colab_type": "text"
      },
      "source": [
        "To get a cursory view of the distribution of daily returns for different stocks we look at the S&P 500. We import the tickers for the S&P in 2017 to avoid selection bias."
      ]
    },
    {
      "cell_type": "code",
      "metadata": {
        "id": "cFnH1YzxouuM",
        "colab_type": "code",
        "colab": {
          "base_uri": "https://localhost:8080/",
          "height": 195
        },
        "outputId": "717497c8-5820-42bc-f323-4a3f4626af29"
      },
      "source": [
        "sp500 = pd.read_csv('./sp500-2017.csv')\n",
        "sp500.head()"
      ],
      "execution_count": 9,
      "outputs": [
        {
          "output_type": "execute_result",
          "data": {
            "text/html": [
              "<div>\n",
              "<style scoped>\n",
              "    .dataframe tbody tr th:only-of-type {\n",
              "        vertical-align: middle;\n",
              "    }\n",
              "\n",
              "    .dataframe tbody tr th {\n",
              "        vertical-align: top;\n",
              "    }\n",
              "\n",
              "    .dataframe thead th {\n",
              "        text-align: right;\n",
              "    }\n",
              "</style>\n",
              "<table border=\"1\" class=\"dataframe\">\n",
              "  <thead>\n",
              "    <tr style=\"text-align: right;\">\n",
              "      <th></th>\n",
              "      <th>Symbol</th>\n",
              "      <th>Name</th>\n",
              "      <th>Sector</th>\n",
              "    </tr>\n",
              "  </thead>\n",
              "  <tbody>\n",
              "    <tr>\n",
              "      <th>0</th>\n",
              "      <td>MMM</td>\n",
              "      <td>3M Company</td>\n",
              "      <td>Industrials</td>\n",
              "    </tr>\n",
              "    <tr>\n",
              "      <th>1</th>\n",
              "      <td>AOS</td>\n",
              "      <td>A.O. Smith Corp</td>\n",
              "      <td>Industrials</td>\n",
              "    </tr>\n",
              "    <tr>\n",
              "      <th>2</th>\n",
              "      <td>ABT</td>\n",
              "      <td>Abbott Laboratories</td>\n",
              "      <td>Health Care</td>\n",
              "    </tr>\n",
              "    <tr>\n",
              "      <th>3</th>\n",
              "      <td>ABBV</td>\n",
              "      <td>AbbVie Inc.</td>\n",
              "      <td>Health Care</td>\n",
              "    </tr>\n",
              "    <tr>\n",
              "      <th>4</th>\n",
              "      <td>ACN</td>\n",
              "      <td>Accenture plc</td>\n",
              "      <td>Information Technology</td>\n",
              "    </tr>\n",
              "  </tbody>\n",
              "</table>\n",
              "</div>"
            ],
            "text/plain": [
              "  Symbol                 Name                  Sector\n",
              "0    MMM           3M Company             Industrials\n",
              "1    AOS      A.O. Smith Corp             Industrials\n",
              "2    ABT  Abbott Laboratories             Health Care\n",
              "3   ABBV          AbbVie Inc.             Health Care\n",
              "4    ACN        Accenture plc  Information Technology"
            ]
          },
          "metadata": {
            "tags": []
          },
          "execution_count": 9
        }
      ]
    },
    {
      "cell_type": "code",
      "metadata": {
        "id": "JHN7gt-PoyzQ",
        "colab_type": "code",
        "colab": {}
      },
      "source": [
        "#select group of stocks\n",
        "sample_size = 6\n",
        "group = random.sample(list(sp500['Symbol']), sample_size)"
      ],
      "execution_count": 64,
      "outputs": []
    },
    {
      "cell_type": "code",
      "metadata": {
        "id": "iq7KeHxapXw9",
        "colab_type": "code",
        "colab": {
          "base_uri": "https://localhost:8080/",
          "height": 990
        },
        "outputId": "88700bd0-156c-448e-b0c5-a99d53885740"
      },
      "source": [
        "pd.options.mode.chained_assignment = None\n",
        "fig, ax = plt.subplots(sample_size//2,2,sharey='row')\n",
        "fig.set_figheight(sample_size*2)\n",
        "fig.set_figwidth(12)\n",
        "fig.tight_layout()\n",
        "for i, symbol in enumerate(group):\n",
        "  r = i // 2\n",
        "  c = i % 2\n",
        "  show_power_law(symbol, \"neg\", ax[r,c])"
      ],
      "execution_count": 65,
      "outputs": [
        {
          "output_type": "stream",
          "text": [
            "neg alpha range: (2.7160103803678672, 3.1906338539506423)\n",
            "neg alpha range: (3.356882800664532, 4.760249106279015)\n",
            "neg alpha range: (2.638101843390497, 3.4279643688649495)\n",
            "neg alpha range: (3.117405635877063, 4.1444061338632725)\n",
            "neg alpha range: (2.7335969111798573, 3.67310997637596)\n",
            "neg alpha range: (3.365603868324244, 4.506254465383186)\n"
          ],
          "name": "stdout"
        },
        {
          "output_type": "display_data",
          "data": {
            "image/png": "[encoded data removed]",
            "text/plain": [
              "<Figure size 864x864 with 6 Axes>"
            ]
          },
          "metadata": {
            "tags": [],
            "needs_background": "light"
          }
        }
      ]
    },
    {
      "cell_type": "markdown",
      "metadata": {
        "id": "cHQBYkofIgwx",
        "colab_type": "text"
      },
      "source": [
        "Now we value options using the alpha parameter caluclated above and relative pricing equations on pages 384 and 387 of Nassim Taleb's Statistical Consequences of Fat Tails."
      ]
    },
    {
      "cell_type": "code",
      "metadata": {
        "id": "R-HYHC6PhDja",
        "colab_type": "code",
        "colab": {}
      },
      "source": [
        "def get_index(stock, S0, contract):\n",
        "  \"\"\"gets index of most liquid contract with expiration in 50-100 days\n",
        "     @param stock: ticker output from yf.Ticker()\n",
        "     @param S0: current stock price as of yesterday's close\n",
        "     @param contract: \"put\" or \"call\" indicates contract type\n",
        "     \"\"\"\n",
        "  expire_index = 0\n",
        "  days_till_exp = 0\n",
        "  max_liquid = 0\n",
        "  for i in range(len(stock.options)):\n",
        "    d = datetime.strptime(stock.options[i], '%Y-%m-%d')\n",
        "    d = d.date() - datetime.today().date()\n",
        "    d = str(d).split()[0]\n",
        "    if d == '0:00:00':\n",
        "      continue\n",
        "    # variable tracks the max number of liquid contracts in range\n",
        "    if float(d) > 50 and float(d) < 100:\n",
        "      if contract == \"put\":\n",
        "        # select contract with most liquidity in puts\n",
        "        df = pd.DataFrame(stock.option_chain(stock.options[i]).puts)\n",
        "        df = df.loc[(df['ask'] > 0) & (df['strike'] < S0)]\n",
        "      elif contract == \"call\":\n",
        "        # select contract with most liquidity in calls\n",
        "        df = pd.DataFrame(stock.option_chain(stock.options[i]).calls)\n",
        "        df = df.loc[(df['ask'] > 0) & (df['strike'] > S0)]\n",
        "      else:\n",
        "        raise SyntaxError(\"Indicate contract type in get_index function call\")\n",
        "      # evaluate number of liquid contracts\n",
        "      s = df.shape[0]\n",
        "      if s > max_liquid:\n",
        "        max_liquid = s\n",
        "        expire_index = i\n",
        "        days_till_exp = str(d).split(\" \")[0]\n",
        "    elif float(d) >= 100:\n",
        "      break\n",
        "  now = datetime.now() + timedelta(days = int(days_till_exp))\n",
        "  strike_date = '{:02d}-{:02d}-{:02d}'.format(now.year, now.month, now.day)\n",
        "  print(\"Days till exp: \", days_till_exp, \"Strike Date:\",strike_date)\n",
        "  if max_liquid == 0:\n",
        "    raise ValueError(\"No liquid contracts for this time frame\")\n",
        "  return expire_index, int(days_till_exp)\n",
        "\n",
        "def get_k1_call(expire_index, stock, S0, xmin, stdev, days_till_exp):\n",
        "  \"\"\" gets best strike price near Karmatta Point for call\n",
        "  @param expire_index: output of get_index()\n",
        "  @param stock: output of yf.Ticker()\n",
        "  @param S0: current price as of yesterday's close\n",
        "  @param xmin: minimum daily percent change where power law applies\n",
        "  @param stdev: standard deviation of daily movements in stock\n",
        "  @param days_till_exp: days till expiration of option contract\n",
        "  \"\"\"\n",
        "  df = pd.DataFrame(stock.option_chain(stock.options[expire_index]).calls)\n",
        "  df = df.loc[df['ask'] > 0]\n",
        "  # trading days or calandar days? Chose calandar for now\n",
        "  stdev = np.sqrt((stdev**2)*days_till_exp) # stdev of option at expiration\n",
        "  karmatta = 2 * stdev\n",
        "  # get subset around the karmatta point\n",
        "  subset = df.loc[(df['strike'] > S0*(1+karmatta*.9)) & (df['strike'] < S0*(1+karmatta*1.1))]\n",
        "  # pick contract with smallest spread as it's maybe priced most efficiently\n",
        "  return subset.iloc[[np.argmin(subset['ask'] - subset['bid'])]]\n",
        "\n",
        "def get_k1_put(expire_index, stock, S0, xmin, stdev, days_till_exp):\n",
        "  \"\"\" gets best strike price near Karmatta Point for put\n",
        "  @param expire_index: output of get_index()\n",
        "  @param stock: output of yf.Ticker()\n",
        "  @param S0: current price as of yesterday's close\n",
        "  @param xmin: minimum percent change where power law applies\n",
        "  @param stdev: standard deviation of daily movements in stock\n",
        "  @param days_till_exp: days till expiration of option contract\n",
        "  \"\"\"\n",
        "  df = pd.DataFrame(stock.option_chain(stock.options[expire_index]).puts)\n",
        "  df = df.loc[df['ask'] > 0]\n",
        "  # get max of karmatta point and 2 stdev for options pricing point\n",
        "  karmatta = stdev * np.sqrt(days_till_exp)\n",
        "  # get subset around karmatta point\n",
        "  subset = df.loc[(df['strike'] < S0*(1-karmatta*.9)) & (df['strike'] > S0*(1-karmatta*1.1))]\n",
        "  # pick contract with smallest spread as it's maybe priced most efficiently\n",
        "  return subset.iloc[[np.argmin(subset['ask'] - subset['bid'])]]"
      ],
      "execution_count": 81,
      "outputs": []
    },
    {
      "cell_type": "code",
      "metadata": {
        "id": "VpdYCrNjKLsn",
        "colab_type": "code",
        "colab": {}
      },
      "source": [
        "# check current pricing of calls vs market for stock\n",
        "def check_calls(symbol, start = '2010-01-01', interval='1d'):\n",
        "  # get todays date\n",
        "  now = datetime.now()\n",
        "  today = '{:02d}-{:02d}-{:02d}'.format(now.year, now.month, now.day)\n",
        "\n",
        "  stock = yf.Ticker(symbol)\n",
        "  df = stock.history(start=start, end=today, interval=interval)\n",
        "  # get last price\n",
        "  S0 = float(df.iloc[-1]['Close'])\n",
        "  print(\"Current Price:\",S0)\n",
        "\n",
        "  # get positive daily log changes\n",
        "  df['diff'] = np.log(df['Close'].div((df['Close'].shift(1))))\n",
        "  df_pos = df.loc[df['diff'] >= 0]\n",
        "\n",
        "  # sort by move size and calculate cdf\n",
        "  pos_sorted = df_pos.sort_values('diff')\n",
        "  pos_sorted['prob'] = 1 - np.arange(pos_sorted.shape[0]) / pos_sorted.shape[0]\n",
        "\n",
        "  q, a, KS, xmin = get_xmin(pos_sorted)\n",
        "  \n",
        "  # standard deviation of daily movements in stock\n",
        "  stdev = np.sqrt(np.mean(df['diff']**2) - np.mean(df['diff'])**2)\n",
        "  print(\"Standard Deviation:\",stdev.round(4))\n",
        "\n",
        "  ind, days_till_exp = get_index(stock, S0, \"call\")\n",
        "  k1_df = get_k1_call(ind, stock, S0, xmin, stdev, days_till_exp)\n",
        "  PK1 = float(k1_df['ask'])\n",
        "  K1 = float(k1_df['strike'])\n",
        "  print(\"Strike Price:\",K1)\n",
        "\n",
        "  # get option table for those above K1\n",
        "  above_k1_df = pd.DataFrame(stock.option_chain(stock.options[ind]).calls)\n",
        "  above_k1_df = above_k1_df.loc[above_k1_df['strike'] >= K1]\n",
        "  # convert to float type\n",
        "  above_k1_df['strike'] = above_k1_df['strike'].astype(float)\n",
        "  # calculate value for each point above K1 using Nassim's formula for calls\n",
        "  above_k1_df['model_value'] = PK1 * ((above_k1_df['strike'] - S0)/(K1 - S0))**(1-a)\n",
        "  return above_k1_df"
      ],
      "execution_count": 78,
      "outputs": []
    },
    {
      "cell_type": "code",
      "metadata": {
        "id": "6I4WhTDnKVHN",
        "colab_type": "code",
        "colab": {
          "base_uri": "https://localhost:8080/",
          "height": 332
        },
        "outputId": "258a6bab-caad-438e-e8a3-39117c55c75e"
      },
      "source": [
        "d = check_calls('SPY')\n",
        "fig, ax = plt.subplots()\n",
        "ax.plot(d['strike'], d['model_value'], c=\"blue\", label='Model')\n",
        "ax.plot(d['strike'], d['ask'],c=\"red\", label='Market')\n",
        "legend = ax.legend(loc='upper right', shadow=True, fontsize='x-large')\n",
        "legend.get_frame().set_facecolor('C0')\n",
        "plt.show()"
      ],
      "execution_count": 83,
      "outputs": [
        {
          "output_type": "stream",
          "text": [
            "Current Price: 334.33\n",
            "Standard Deviation: 0.011\n",
            "Days till exp:  70 Strike Date: 2020-10-16\n",
            "Strike Price: 390.0\n"
          ],
          "name": "stdout"
        },
        {
          "output_type": "display_data",
          "data": {
            "image/png": "[encoded data removed]",
            "text/plain": [
              "<Figure size 432x288 with 1 Axes>"
            ]
          },
          "metadata": {
            "tags": [],
            "needs_background": "light"
          }
        }
      ]
    },
    {
      "cell_type": "code",
      "metadata": {
        "id": "0KxxW347Ne_z",
        "colab_type": "code",
        "colab": {}
      },
      "source": [
        "def check_puts(symbol,start = '2010-01-01', interval='1d'):\n",
        "  # get todays date\n",
        "  now = datetime.now()\n",
        "  today = '{:02d}-{:02d}-{:02d}'.format(now.year, now.month, now.day)\n",
        "\n",
        "  stock = yf.Ticker(symbol)\n",
        "  df = stock.history(start=start, end=today, interval=interval)\n",
        "  # get last price\n",
        "  S0 = float(df.iloc[-1]['Close'])\n",
        "  print(\"Current Price:\",S0)\n",
        "\n",
        "  # get daily log changes\n",
        "  df['diff'] = np.log(df['Close'].div((df['Close'].shift(1))))\n",
        "  df_neg = np.abs(df.loc[df['diff'] < 0])\n",
        "\n",
        "  # sort by move size and calculate cdf\n",
        "  neg_sorted = df_neg.sort_values('diff')\n",
        "  neg_sorted['prob'] = 1 - np.arange(neg_sorted.shape[0]) / neg_sorted.shape[0]\n",
        "\n",
        "  q, a, KS, xmin = get_xmin(neg_sorted)\n",
        "  \n",
        "  # get standard deviation of negative movements\n",
        "  stdev = np.sqrt(np.mean(df['diff']**2) - np.mean(df['diff'])**2)\n",
        "  print(\"Standard Deviation:\", stdev)\n",
        "\n",
        "  # get K1 df (reference option price at karmatta point)\n",
        "  ind, days_till_exp = get_index(stock, S0, \"put\")\n",
        "  k1_df = get_k1_put(ind, stock, S0, xmin, stdev, days_till_exp)\n",
        "  PK1 = float(k1_df['lastPrice'])\n",
        "  K1 = float(k1_df['strike'])\n",
        "  print(\"Strike Price:\",K1)\n",
        "\n",
        "  # get option table for those above K1\n",
        "  below_k1_df = pd.DataFrame(stock.option_chain(stock.options[ind]).puts)\n",
        "  below_k1_df = below_k1_df.loc[below_k1_df['strike'] < K1]\n",
        "  below_k1_df['strike'] = below_k1_df['strike'].astype(float)\n",
        "\n",
        "  # calculate put price using Nassim's Formula\n",
        "  num = ((-1)**(1-a)*(S0**(-a))*((a-1)*below_k1_df[['strike']] + S0) - \n",
        "          (below_k1_df[['strike']].astype(complex) - S0)**(1-a))\n",
        "  denom = ((-1)**(1-a)*S0**(-a)*((a-1)*K1 + S0)) - (K1 - S0)**(1-a)\n",
        "  below_k1_df['model_value'] = PK1 * num / denom\n",
        "  return below_k1_df"
      ],
      "execution_count": 80,
      "outputs": []
    },
    {
      "cell_type": "code",
      "metadata": {
        "id": "5ucfRMTpO6dP",
        "colab_type": "code",
        "colab": {
          "base_uri": "https://localhost:8080/",
          "height": 399
        },
        "outputId": "824fbad2-15e8-4343-f998-fc77089ad43b"
      },
      "source": [
        "d = check_puts('SPY')\n",
        "fig, ax = plt.subplots()\n",
        "ax.plot(d['strike'], d['model_value'], c=\"blue\", label='Model')\n",
        "ax.plot(d['strike'], d['ask'],c=\"red\", label='Market')\n",
        "legend = ax.legend(loc='upper left', shadow=True, fontsize='x-large')\n",
        "legend.get_frame().set_facecolor('C0')\n",
        "plt.show()"
      ],
      "execution_count": 84,
      "outputs": [
        {
          "output_type": "stream",
          "text": [
            "Current Price: 334.33\n",
            "Standard Deviation: 0.010908151733504184\n",
            "Days till exp:  70 Strike Date: 2020-10-16\n",
            "Strike Price: 301.0\n"
          ],
          "name": "stdout"
        },
        {
          "output_type": "stream",
          "text": [
            "/usr/local/lib/python3.6/dist-packages/ipykernel_launcher.py:39: RuntimeWarning: invalid value encountered in double_scalars\n",
            "/usr/local/lib/python3.6/dist-packages/ipykernel_launcher.py:41: RuntimeWarning: invalid value encountered in double_scalars\n",
            "/usr/local/lib/python3.6/dist-packages/numpy/core/_asarray.py:85: ComplexWarning: Casting complex values to real discards the imaginary part\n",
            "  return array(a, dtype, copy=False, order=order)\n"
          ],
          "name": "stderr"
        },
        {
          "output_type": "display_data",
          "data": {
            "image/png": "[encoded data removed]",
            "text/plain": [
              "<Figure size 432x288 with 1 Axes>"
            ]
          },
          "metadata": {
            "tags": [],
            "needs_background": "light"
          }
        }
      ]
    },
    {
      "cell_type": "code",
      "metadata": {
        "id": "st0BgvZPPU0L",
        "colab_type": "code",
        "colab": {}
      },
      "source": [
        "# NOTE: this is for discrete power laws\n",
        "# def get_alpha(select_df):\n",
        "#   #print(\"select_df: \", select_df)\n",
        "#   xmin = select_df['diff'][0]\n",
        "#   t1 = -np.sum(np.log(select_df['diff']/xmin)) / select_df.shape[0]\n",
        "\n",
        "#   def log_zeta(x):\n",
        "#     return np.log(zeta(x,1))\n",
        "\n",
        "#   def log_deriv_zeta(x):\n",
        "#     h=1e-5\n",
        "#     return (log_zeta(x+h) - log_zeta(x-h))/(2*h)\n",
        "\n",
        "#   def objective(x, t=t1):\n",
        "#     return log_deriv_zeta(x) - t\n",
        "\n",
        "#   return bisect(objective, 1.01, 10, xtol = 1e-6)"
      ],
      "execution_count": null,
      "outputs": []
    },
    {
      "cell_type": "code",
      "metadata": {
        "id": "GQsnZInvlxQj",
        "colab_type": "code",
        "colab": {
          "base_uri": "https://localhost:8080/",
          "height": 35
        },
        "outputId": "d0466271-9a57-4af5-da64-b477a3d1fd8e"
      },
      "source": [
        "now = datetime.now()\n",
        "today = '{:02d}-{:02d}-{:02d}'.format(now.year, now.month, now.day)\n"
      ],
      "execution_count": 22,
      "outputs": [
        {
          "output_type": "execute_result",
          "data": {
            "application/vnd.google.colaboratory.intrinsic+json": {
              "type": "string"
            },
            "text/plain": [
              "'2020-08-07'"
            ]
          },
          "metadata": {
            "tags": []
          },
          "execution_count": 22
        }
      ]
    }
  ]
}